{
  "nbformat": 4,
  "nbformat_minor": 0,
  "metadata": {
    "kernelspec": {
      "display_name": "Python 3",
      "language": "python",
      "name": "python3"
    },
    "language_info": {
      "codemirror_mode": {
        "name": "ipython",
        "version": 3
      },
      "file_extension": ".py",
      "mimetype": "text/x-python",
      "name": "python",
      "nbconvert_exporter": "python",
      "pygments_lexer": "ipython3",
      "version": "3.8.5"
    },
    "colab": {
      "name": "Smoothing_assignment.ipynb",
      "provenance": []
    }
  },
  "cells": [
    {
      "cell_type": "markdown",
      "metadata": {
        "id": "VaMr0Vd0q7L6"
      },
      "source": [
        "## Smoothing assignment"
      ]
    },
    {
      "cell_type": "markdown",
      "metadata": {
        "id": "5TsZCP6SsKJ2"
      },
      "source": [
        "To start this assignment download the Brown corpus."
      ]
    },
    {
      "cell_type": "code",
      "metadata": {
        "id": "e0uMU5WqsOXC",
        "outputId": "c70614a9-679c-4454-f104-c12afb7725d6",
        "colab": {
          "base_uri": "https://localhost:8080/"
        }
      },
      "source": [
        "import nltk\n",
        "nltk.download('brown')"
      ],
      "execution_count": 5,
      "outputs": [
        {
          "output_type": "stream",
          "text": [
            "[nltk_data] Downloading package brown to /root/nltk_data...\n",
            "[nltk_data]   Unzipping corpora/brown.zip.\n"
          ],
          "name": "stdout"
        },
        {
          "output_type": "execute_result",
          "data": {
            "text/plain": [
              "True"
            ]
          },
          "metadata": {
            "tags": []
          },
          "execution_count": 5
        }
      ]
    },
    {
      "cell_type": "markdown",
      "metadata": {
        "id": "wp6mxt7Tq7MB"
      },
      "source": [
        "## Background"
      ]
    },
    {
      "cell_type": "markdown",
      "metadata": {
        "id": "lUXv1BU1q7MB"
      },
      "source": [
        "In the Pollard assignment you computed a unigram frequency distribution for the Brown corpus. You will need that for this assignment.\n",
        "\n",
        "This time you will do a bigram distribution:"
      ]
    },
    {
      "cell_type": "code",
      "metadata": {
        "id": "dKtv_tetq7MC"
      },
      "source": [
        "import nltk\n",
        "from nltk.corpus import brown\n",
        "from nltk import bigrams\n",
        "brown_bigrams = list(bigrams(brown.words()))"
      ],
      "execution_count": 6,
      "outputs": []
    },
    {
      "cell_type": "markdown",
      "metadata": {
        "id": "KvjuMPFlq7MC"
      },
      "source": [
        "It is instructive to compare brown.words, which we used in the last assignment, with brown.bigrams:"
      ]
    },
    {
      "cell_type": "code",
      "metadata": {
        "id": "snkgEEgcq7MD",
        "outputId": "cd0e7b52-f362-461b-952d-e23d2e47acd8",
        "colab": {
          "base_uri": "https://localhost:8080/"
        }
      },
      "source": [
        "brown.words()[:10]\n",
        "#['The', 'Fulton', 'County', 'Grand', 'Jury', 'said',\n",
        "# 'Friday', 'an', 'investigation', 'of']"
      ],
      "execution_count": 8,
      "outputs": [
        {
          "output_type": "execute_result",
          "data": {
            "text/plain": [
              "['The',\n",
              " 'Fulton',\n",
              " 'County',\n",
              " 'Grand',\n",
              " 'Jury',\n",
              " 'said',\n",
              " 'Friday',\n",
              " 'an',\n",
              " 'investigation',\n",
              " 'of']"
            ]
          },
          "metadata": {
            "tags": []
          },
          "execution_count": 8
        }
      ]
    },
    {
      "cell_type": "code",
      "metadata": {
        "id": "aRF_iX8Jq7MD",
        "outputId": "29b155c1-a1b1-43bc-b0c3-abe0c1e71c74",
        "colab": {
          "base_uri": "https://localhost:8080/"
        }
      },
      "source": [
        "brown_bigrams[:10]\n",
        "#[('The', 'Fulton'), ('Fulton', 'County'), ('County', 'Grand'),\n",
        "#('Grand', 'Jury'), ('Jury', 'said'), ('said', 'Friday'), ('Friday', 'an'),\n",
        "#('an', 'investigation'), ('investigation', 'of'), ('of', \"Atlanta's\")]"
      ],
      "execution_count": 9,
      "outputs": [
        {
          "output_type": "execute_result",
          "data": {
            "text/plain": [
              "[('The', 'Fulton'),\n",
              " ('Fulton', 'County'),\n",
              " ('County', 'Grand'),\n",
              " ('Grand', 'Jury'),\n",
              " ('Jury', 'said'),\n",
              " ('said', 'Friday'),\n",
              " ('Friday', 'an'),\n",
              " ('an', 'investigation'),\n",
              " ('investigation', 'of'),\n",
              " ('of', \"Atlanta's\")]"
            ]
          },
          "metadata": {
            "tags": []
          },
          "execution_count": 9
        }
      ]
    },
    {
      "cell_type": "markdown",
      "metadata": {
        "id": "_NulYFyAq7MD"
      },
      "source": [
        "So brown.words() returns a list of the words, while brown.bigrams() returns a list of word pairs. Notice the the second word of the first pair becomes the first word of the second pair, and the the second word of the second pair, the first word of the third, and so on. Since each word in Brown becaome the first word of a bigram except the last, there is exactly one more word token than there are bogram tokens:"
      ]
    },
    {
      "cell_type": "code",
      "metadata": {
        "id": "-URoJRBFq7MD",
        "outputId": "1477d508-df81-4917-f7bf-ef46351009c3",
        "colab": {
          "base_uri": "https://localhost:8080/"
        }
      },
      "source": [
        "len(brown_bigrams)\n",
        "#1161191"
      ],
      "execution_count": 10,
      "outputs": [
        {
          "output_type": "execute_result",
          "data": {
            "text/plain": [
              "1161191"
            ]
          },
          "metadata": {
            "tags": []
          },
          "execution_count": 10
        }
      ]
    },
    {
      "cell_type": "code",
      "metadata": {
        "id": "RLCi3H1Eq7ME",
        "outputId": "151ef38c-653c-4205-bb4b-388dd94ebc09",
        "colab": {
          "base_uri": "https://localhost:8080/"
        }
      },
      "source": [
        "len(brown.words())\n",
        "1161192"
      ],
      "execution_count": 11,
      "outputs": [
        {
          "output_type": "execute_result",
          "data": {
            "text/plain": [
              "1161192"
            ]
          },
          "metadata": {
            "tags": []
          },
          "execution_count": 11
        }
      ]
    },
    {
      "cell_type": "markdown",
      "metadata": {
        "id": "oW-VJgYcq7ME"
      },
      "source": [
        "## Questions"
      ]
    },
    {
      "cell_type": "markdown",
      "metadata": {
        "id": "FpdJwpwuq7ME"
      },
      "source": [
        "Create a new frequency distribution of the Brown bigrams. Plot the cumulative frequency distribution of the top 50 bigrams.\n",
        "\n",
        "Then do add one smoothing on the bigrams. This will require adding one to all the bigram counts, including those that previously had count 0. You will also need to change the ungram counts appropriately. You will compute all possible bigrams using the known vocabulary, so use the keys of the unigram Brown distribution you created before to compute the set of possible bigrams. The vocabulary size from that exercise should be 49815. Then having added 1 to all the bigram counts, you must compute at least the following Probabilities:\n",
        "\n",
        "\n",
        "1. P(the | in) before and after smoothing (P_{\\text{mle}} and P_{\\text{laplace}});\n",
        "\n",
        "2.  P(in the) before and after smoothing;\n",
        "\n",
        "3.  P(said the) before and after smoothing.\n",
        "\n",
        "4. P(the | said) before and after smoothing.\n",
        "\n",
        "In some cases you will to use the unigram counts to compute these probabilities. Remember that the unigram counts must change too when smoothing.\n",
        "\n",
        "Turn in these values and the Python code you used to compute them."
      ]
    },
    {
      "cell_type": "markdown",
      "metadata": {
        "id": "ZCdKrenIq7ME"
      },
      "source": [
        "## Helpful Code"
      ]
    },
    {
      "cell_type": "code",
      "metadata": {
        "id": "9eBtuqVBq7ME",
        "outputId": "a4e60074-e7c7-42f1-b4e0-a66911a30451",
        "colab": {
          "base_uri": "https://localhost:8080/"
        }
      },
      "source": [
        "import nltk\n",
        "from nltk.corpus import brown\n",
        "from collections import defaultdict, Counter\n",
        "\n",
        "wds = brown.words()\n",
        "N = len(wds)\n",
        "print(N)"
      ],
      "execution_count": 12,
      "outputs": [
        {
          "output_type": "stream",
          "text": [
            "1161192\n"
          ],
          "name": "stdout"
        }
      ]
    },
    {
      "cell_type": "markdown",
      "metadata": {
        "id": "LJycqz78q7MF"
      },
      "source": [
        "We make"
      ]
    },
    {
      "cell_type": "code",
      "metadata": {
        "id": "wiTw_bKNq7MF",
        "outputId": "67f4c6b8-9612-4308-d1b1-364e467dbbed",
        "colab": {
          "base_uri": "https://localhost:8080/"
        }
      },
      "source": [
        "mle_unigram_dist = nltk.FreqDist([w.lower() for w in wds])\n",
        "bigram_seq = list(nltk.bigrams(wds))\n",
        "bigram_N = len(bigram_seq)\n",
        "print(bigram_N)              "
      ],
      "execution_count": 13,
      "outputs": [
        {
          "output_type": "stream",
          "text": [
            "1161191\n"
          ],
          "name": "stdout"
        }
      ]
    },
    {
      "cell_type": "markdown",
      "metadata": {
        "id": "BYMpNnMLq7MG"
      },
      "source": [
        "`bigram_N` = `N - 1`.  Here's why."
      ]
    },
    {
      "cell_type": "code",
      "metadata": {
        "id": "KKRz9AAlq7MG",
        "outputId": "ab871802-a15f-40f8-e27a-7dcf45b48b1c",
        "colab": {
          "base_uri": "https://localhost:8080/"
        }
      },
      "source": [
        "wds[:10]"
      ],
      "execution_count": 14,
      "outputs": [
        {
          "output_type": "execute_result",
          "data": {
            "text/plain": [
              "['The',\n",
              " 'Fulton',\n",
              " 'County',\n",
              " 'Grand',\n",
              " 'Jury',\n",
              " 'said',\n",
              " 'Friday',\n",
              " 'an',\n",
              " 'investigation',\n",
              " 'of']"
            ]
          },
          "metadata": {
            "tags": []
          },
          "execution_count": 14
        }
      ]
    },
    {
      "cell_type": "code",
      "metadata": {
        "id": "PpwNR9cVq7MG",
        "outputId": "4bf9042f-bcb3-4e59-b430-45497ece5097",
        "colab": {
          "base_uri": "https://localhost:8080/"
        }
      },
      "source": [
        "bigram_seq[:10]"
      ],
      "execution_count": 15,
      "outputs": [
        {
          "output_type": "execute_result",
          "data": {
            "text/plain": [
              "[('The', 'Fulton'),\n",
              " ('Fulton', 'County'),\n",
              " ('County', 'Grand'),\n",
              " ('Grand', 'Jury'),\n",
              " ('Jury', 'said'),\n",
              " ('said', 'Friday'),\n",
              " ('Friday', 'an'),\n",
              " ('an', 'investigation'),\n",
              " ('investigation', 'of'),\n",
              " ('of', \"Atlanta's\")]"
            ]
          },
          "metadata": {
            "tags": []
          },
          "execution_count": 15
        }
      ]
    },
    {
      "cell_type": "markdown",
      "metadata": {
        "id": "wcEKfiV5q7MG"
      },
      "source": [
        "The first bigram starts with the first word, the second with second word and so on.  But there is no bigram\n",
        "that starts with the last word."
      ]
    },
    {
      "cell_type": "markdown",
      "metadata": {
        "id": "fa0ExTkwq7MH"
      },
      "source": [
        "We make a frequency distribution for bigrams."
      ]
    },
    {
      "cell_type": "code",
      "metadata": {
        "id": "W7-3FN1Nq7MH"
      },
      "source": [
        "# MLE stands for Maximum Likelihood Estimate\n",
        "mle_bigram_dist = nltk.FreqDist((x.lower(),y.lower()) for (x,y) in bigram_seq)"
      ],
      "execution_count": 16,
      "outputs": []
    },
    {
      "cell_type": "code",
      "metadata": {
        "id": "jlHWKIGeq7MH",
        "outputId": "aca53cf3-ab6f-42bb-de69-1d9aa6da1d14",
        "colab": {
          "base_uri": "https://localhost:8080/"
        }
      },
      "source": [
        "print(mle_unigram_dist)\n",
        "print(mle_unigram_dist['the'])\n",
        "print(mle_bigram_dist)\n",
        "print(mle_bigram_dist['the','only'])"
      ],
      "execution_count": 17,
      "outputs": [
        {
          "output_type": "stream",
          "text": [
            "<FreqDist with 49815 samples and 1161192 outcomes>\n",
            "69971\n",
            "<FreqDist with 436003 samples and 1161191 outcomes>\n",
            "258\n"
          ],
          "name": "stdout"
        }
      ]
    },
    {
      "cell_type": "markdown",
      "metadata": {
        "id": "KbEvklMdq7MH"
      },
      "source": [
        "The information printed about `mle_unigram_dist`: The vocabulary has 49,815 word types.  The Brown corpus has 1,161,192 word tokens.\n",
        "\n",
        "The information printed about `mle_bigram_dist`: The \"vocabulary\" (of bigrams) has 436,003 bigram types.  The Brown corpus has 1,161,191 bigram tokens.\n",
        "\n",
        "Notice how many more bigrams **types** there are than unigram types (436,003 vs. 49,815).  Make sure you understand **why** that is.  Every time a word is followed by some word it's never been followed by, that's a new bigram type.  So we see above that the bigram 'the only' has occurred 258 times in Brown (that's quite high for a bigram.  But 'the' also occurs in all the following bigram types, each with a different count."
      ]
    },
    {
      "cell_type": "code",
      "metadata": {
        "id": "z8uqyurUq7MH",
        "outputId": "7de9f56b-47ff-460d-94ba-075f94813007",
        "colab": {
          "base_uri": "https://localhost:8080/"
        }
      },
      "source": [
        "print(mle_bigram_dist['the','time'])\n",
        "print(mle_bigram_dist['the','boy'])\n",
        "print(mle_bigram_dist['the','red'])"
      ],
      "execution_count": 18,
      "outputs": [
        {
          "output_type": "stream",
          "text": [
            "251\n",
            "81\n",
            "44\n"
          ],
          "name": "stdout"
        }
      ]
    },
    {
      "cell_type": "markdown",
      "metadata": {
        "id": "CWHOOaljq7MI"
      },
      "source": [
        "Since there are 49, 815 word types in the vocabulary, there are"
      ]
    },
    {
      "cell_type": "code",
      "metadata": {
        "id": "25cVLugjq7MI",
        "outputId": "42cccb4b-a4d2-4b74-965d-a6a7f58991d6",
        "colab": {
          "base_uri": "https://localhost:8080/"
        }
      },
      "source": [
        "print(49815**2)\n",
        "print(f'{49815**2:,}')\n"
      ],
      "execution_count": 21,
      "outputs": [
        {
          "output_type": "stream",
          "text": [
            "2481534225\n",
            "2,481,534,225\n"
          ],
          "name": "stdout"
        }
      ]
    },
    {
      "cell_type": "markdown",
      "metadata": {
        "id": "oi4yldyqq7MI"
      },
      "source": [
        "($49^2$) **possible bigrams types** for this vocabulary, but in the 1.2 million words of Brown, we see \n",
        "only 436,003 actual bigram types.That's"
      ]
    },
    {
      "cell_type": "code",
      "metadata": {
        "id": "wZAtGCY7q7MI",
        "outputId": "b24e4978-fe8f-4f1d-bb93-fdf05708a5e8",
        "colab": {
          "base_uri": "https://localhost:8080/"
        }
      },
      "source": [
        "print(436003/(49815**2))\n",
        "print(f'{436003/(49815**2):.3%}')"
      ],
      "execution_count": 22,
      "outputs": [
        {
          "output_type": "stream",
          "text": [
            "0.00017569896703721667\n",
            "0.018%\n"
          ],
          "name": "stdout"
        }
      ]
    },
    {
      "cell_type": "markdown",
      "metadata": {
        "id": "jPLKaHXQq7MJ"
      },
      "source": [
        ".018 % of the possible bigrams, a very tiny fraction."
      ]
    }
  ]
}