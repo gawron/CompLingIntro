{
  "nbformat": 4,
  "nbformat_minor": 0,
  "metadata": {
    "colab": {
      "name": "noisy_channel_notebook.ipynb",
      "provenance": []
    },
    "kernelspec": {
      "display_name": "Python 3",
      "language": "python",
      "name": "python3"
    },
    "language_info": {
      "codemirror_mode": {
        "name": "ipython",
        "version": 3
      },
      "file_extension": ".py",
      "mimetype": "text/x-python",
      "name": "python",
      "nbconvert_exporter": "python",
      "pygments_lexer": "ipython3",
      "version": "3.8.5"
    }
  },
  "cells": [
    {
      "cell_type": "markdown",
      "metadata": {
        "id": "t546DHtd9SYE"
      },
      "source": [
        "# Noisy channel spelling correction"
      ]
    },
    {
      "cell_type": "markdown",
      "metadata": {
        "id": "bmSG_ra29SYJ"
      },
      "source": [
        "## Resources"
      ]
    },
    {
      "cell_type": "markdown",
      "metadata": {
        "id": "_1_WhU-x9SYJ"
      },
      "source": [
        "Norvig resources\n",
        "\n",
        "1. [Spell checking blog post](http://norvig.com/spell-correct.html)\n",
        "2. [count_1edit.txt: error counts file for 1 edit errors](https://norvig.com/ngrams/count_1edit.txt)\n"
      ]
    },
    {
      "cell_type": "markdown",
      "metadata": {
        "id": "fwU_PpvB9SYJ"
      },
      "source": [
        "A couple of comments on the resources above.  \n",
        "\n",
        "Norvig's Python spelling correcter is beautiful python code (like his [Sudoku solver](https://norvig.com/sudoku.html)), but it isn't actually a noisy channel model, because it doesn't use a probabilistic error model, although he tries to talk into you into thinking that it does.  However, it's designed so that you could turn it into a real noisy channel model quite easily, and you might try looking at the code and thinking about how to do that (but read the blog post first, so as to have a take on how to approach the code).\n",
        "An extract from that code is used in this assignment.\n",
        "\n",
        "The file `count_1edit.txt` is based obn data about misspellings (see Norvig's post) and contains counts of errors that are 1 edit away from the correct word. We use those counts for our error model.  We use `spell-errors.txt`, the source file from which `count_1edit.txt` was derived, to get the total unigraph and bigraph counts.\n"
      ]
    },
    {
      "cell_type": "markdown",
      "metadata": {
        "id": "WEQMkuff9SYJ"
      },
      "source": [
        "## Setup code"
      ]
    },
    {
      "cell_type": "code",
      "metadata": {
        "id": "55-SATgM9SYK"
      },
      "source": [
        "import nltk\n",
        "from nltk.corpus import brown\n",
        "import codecs\n",
        "import re\n",
        "import urllib\n",
        "\n",
        "def open_file_or_url(path):\n",
        "    if re.match(r'https?://', path):\n",
        "        return urllib.request.urlopen(path)\n",
        "    else:\n",
        "        # Paralleling what urlopen does, we are going to open a bytestream (not a decoded string stream)\n",
        "        # and read and decode it separately.\n",
        "        return open(path, 'rb')\n",
        " \n",
        "def get_letter_counts (path, encoding='latin1', linesep = r'\\n', errors='strict'):\n",
        "    \"\"\"\n",
        "    Build a single nltk.FreqDist instance with counts of both unigraphs\n",
        "    and bigraphs for the words in `data_file`.\n",
        "    \"\"\"\n",
        "    global line\n",
        "    letters = []\n",
        "    with open_file_or_url(path) as handle:\n",
        "        bytesdata = handle.read()\n",
        "        data = codecs.decode(bytesdata,encoding=encoding,errors=errors)\n",
        "    for (lct,line) in enumerate(re.split(linesep,data)):\n",
        "        line = line.strip()\n",
        "        if line:\n",
        "           #print(line)\n",
        "           (right,wrong) = line.split(\":\")\n",
        "           letters.append(right)\n",
        "           letters.extend(ww.strip()  for ww in wrong.split(\",\"))\n",
        "    # One big long string of letters with spaces separating words\n",
        "    letters = ' '.join(letters)\n",
        "    fd = nltk.FreqDist(letters)\n",
        "    blts = list(nltk.bigrams(letters))\n",
        "    fd.update(blts)\n",
        "    return (fd, letters)"
      ],
      "execution_count": null,
      "outputs": []
    },
    {
      "cell_type": "markdown",
      "metadata": {
        "id": "YYsXk9R2-ait"
      },
      "source": [
        "You will need to execute the following download code each time you run the notebook if you are running in google colab.  If you run this on your local machine, that will install the `brown` corpus permanently on your machine and you will only have to run this cell once."
      ]
    },
    {
      "cell_type": "code",
      "metadata": {
        "colab": {
          "base_uri": "https://localhost:8080/"
        },
        "id": "SZyf0ETq-Jpd",
        "outputId": "4bb21c63-dae9-4a6f-ad47-a8b094f4d932"
      },
      "source": [
        "nltk.download('brown')"
      ],
      "execution_count": null,
      "outputs": [
        {
          "output_type": "stream",
          "text": [
            "[nltk_data] Downloading package brown to /root/nltk_data...\n",
            "[nltk_data]   Unzipping corpora/brown.zip.\n"
          ],
          "name": "stdout"
        },
        {
          "output_type": "execute_result",
          "data": {
            "text/plain": [
              "True"
            ]
          },
          "metadata": {
            "tags": []
          },
          "execution_count": 2
        }
      ]
    },
    {
      "cell_type": "markdown",
      "metadata": {
        "id": "6w259m-G9SYK"
      },
      "source": [
        "Get the counts necessary for computing bigram model for the lower-cased Brown corpus.  This takes a littke while."
      ]
    },
    {
      "cell_type": "code",
      "metadata": {
        "id": "sga_E6ch9SYK"
      },
      "source": [
        "from nltk.corpus import brown\n",
        "brown_lc_words = [wd.lower() for wd in brown.words()]\n",
        "WORDS = set(brown_lc_words)\n",
        "ugr_words =  nltk.FreqDist(brown_lc_words)\n",
        "bigr_words =  nltk.FreqDist(nltk.bigrams(brown_lc_words))"
      ],
      "execution_count": null,
      "outputs": []
    },
    {
      "cell_type": "code",
      "metadata": {
        "id": "nicnR8Gs9SYL"
      },
      "source": [
        "big_voc = list(bigr_words.keys())"
      ],
      "execution_count": null,
      "outputs": []
    },
    {
      "cell_type": "code",
      "metadata": {
        "colab": {
          "base_uri": "https://localhost:8080/"
        },
        "id": "TiGVf7Hi9SYL",
        "outputId": "6c2c4d50-0c0c-4c8a-a867-e9d4eb33034c"
      },
      "source": [
        "[(w1,w2) for (w1,w2) in big_voc if w2 == 'francisco']"
      ],
      "execution_count": null,
      "outputs": [
        {
          "output_type": "execute_result",
          "data": {
            "text/plain": [
              "[('san', 'francisco'), (',', 'francisco'), ('of', 'francisco')]"
            ]
          },
          "metadata": {
            "tags": []
          },
          "execution_count": 5
        }
      ]
    },
    {
      "cell_type": "code",
      "metadata": {
        "colab": {
          "base_uri": "https://localhost:8080/"
        },
        "id": "0nmhByI19SYM",
        "outputId": "f19d89b6-a3ad-4e9c-b76f-1f5e030f764c"
      },
      "source": [
        "ugr_words['to']"
      ],
      "execution_count": null,
      "outputs": [
        {
          "output_type": "execute_result",
          "data": {
            "text/plain": [
              "26158"
            ]
          },
          "metadata": {
            "tags": []
          },
          "execution_count": 6
        }
      ]
    },
    {
      "cell_type": "markdown",
      "metadata": {
        "id": "Gpletd3p9SYM"
      },
      "source": [
        "Get the data from the mispelling lists Norvig used to compile error counts.\n",
        "\n",
        "Compute the necessary **unigraph** and **bigraph** counts for what's coming.  We'll call these kinds of information our **ngraph model**."
      ]
    },
    {
      "cell_type": "code",
      "metadata": {
        "id": "kz1TJlOq9SYM"
      },
      "source": [
        "url = 'https://norvig.com/ngrams/spell-errors.txt'\n",
        "letter_freqs, letters = get_letter_counts (url)"
      ],
      "execution_count": null,
      "outputs": []
    },
    {
      "cell_type": "code",
      "metadata": {
        "colab": {
          "base_uri": "https://localhost:8080/"
        },
        "id": "58kRNlX_9SYM",
        "outputId": "53ac13da-c471-4a6d-d03e-5a2f1a9360aa"
      },
      "source": [
        "letter_freqs"
      ],
      "execution_count": null,
      "outputs": [
        {
          "output_type": "execute_result",
          "data": {
            "text/plain": [
              "FreqDist({'r': 24599,\n",
              "          'a': 29298,\n",
              "          'i': 29799,\n",
              "          'n': 27727,\n",
              "          'g': 7992,\n",
              "          ' ': 47550,\n",
              "          'w': 2467,\n",
              "          't': 26161,\n",
              "          's': 24828,\n",
              "          'd': 12754,\n",
              "          'p': 10386,\n",
              "          'l': 18625,\n",
              "          'y': 8591,\n",
              "          'e': 46211,\n",
              "          'o': 21493,\n",
              "          'f': 6263,\n",
              "          'u': 13118,\n",
              "          '*': 1292,\n",
              "          '5': 21,\n",
              "          '4': 59,\n",
              "          'h': 7174,\n",
              "          'k': 2213,\n",
              "          'b': 4611,\n",
              "          '2': 1002,\n",
              "          'c': 17554,\n",
              "          'z': 491,\n",
              "          'm': 11018,\n",
              "          \"'\": 305,\n",
              "          'v': 3577,\n",
              "          'S': 78,\n",
              "          '_': 840,\n",
              "          'x': 1253,\n",
              "          'j': 437,\n",
              "          '1': 21,\n",
              "          '-': 242,\n",
              "          'q': 834,\n",
              "          '9': 6,\n",
              "          '3': 166,\n",
              "          'E': 45,\n",
              "          '7': 9,\n",
              "          'D': 35,\n",
              "          'N': 17,\n",
              "          'H': 21,\n",
              "          'I': 48,\n",
              "          'T': 40,\n",
              "          'B': 44,\n",
              "          'P': 61,\n",
              "          'J': 34,\n",
              "          'M': 52,\n",
              "          'C': 115,\n",
              "          'F': 33,\n",
              "          'U': 5,\n",
              "          'R': 29,\n",
              "          '6': 19,\n",
              "          'A': 41,\n",
              "          '0': 5,\n",
              "          'W': 20,\n",
              "          'K': 6,\n",
              "          'G': 28,\n",
              "          'X': 2,\n",
              "          'O': 12,\n",
              "          'L': 22,\n",
              "          '.': 3,\n",
              "          'Q': 1,\n",
              "          'Y': 5,\n",
              "          'V': 7,\n",
              "          '?': 1,\n",
              "          '8': 2,\n",
              "          'Z': 2,\n",
              "          ('r', 'a'): 2807,\n",
              "          ('a', 'i'): 979,\n",
              "          ('i', 'n'): 6513,\n",
              "          ('n', 'i'): 2062,\n",
              "          ('n', 'g'): 2626,\n",
              "          ('g', ' '): 2140,\n",
              "          (' ', 'r'): 2594,\n",
              "          ('n', 'n'): 552,\n",
              "          ('a', 'n'): 4645,\n",
              "          (' ', 'w'): 1144,\n",
              "          ('w', 'r'): 86,\n",
              "          ('r', 'i'): 2468,\n",
              "          ('i', 't'): 2924,\n",
              "          ('t', 'i'): 4891,\n",
              "          ('g', 's'): 107,\n",
              "          ('s', ' '): 6496,\n",
              "          ('t', 't'): 561,\n",
              "          (' ', 'd'): 2605,\n",
              "          ('d', 'i'): 1756,\n",
              "          ('i', 's'): 3298,\n",
              "          ('s', 'p'): 1012,\n",
              "          ('p', 'a'): 1199,\n",
              "          ('a', 'r'): 3268,\n",
              "          ('a', 'g'): 891,\n",
              "          ('g', 'i'): 541,\n",
              "          ('g', 'l'): 162,\n",
              "          ('l', 'y'): 3307,\n",
              "          ('y', ' '): 6618,\n",
              "          (' ', 'y'): 133,\n",
              "          ('y', 'e'): 261,\n",
              "          ('e', 'l'): 2234,\n",
              "          ('l', 'l'): 2342,\n",
              "          ('l', 'o'): 1278,\n",
              "          ('o', 'w'): 555,\n",
              "          ('w', ' '): 258,\n",
              "          ('o', ' '): 249,\n",
              "          (' ', 'f'): 2065,\n",
              "          ('f', 'o'): 690,\n",
              "          ('o', 'u'): 2785,\n",
              "          ('u', 'r'): 2030,\n",
              "          ('r', ' '): 2683,\n",
              "          ('o', 'r'): 2857,\n",
              "          ('r', 'e'): 5564,\n",
              "          ('e', 'r'): 5888,\n",
              "          ('r', 's'): 1067,\n",
              "          ('f', 'u'): 620,\n",
              "          ('u', 'o'): 120,\n",
              "          ('e', ' '): 7766,\n",
              "          ('e', '*'): 241,\n",
              "          ('*', '5'): 21,\n",
              "          ('5', ' '): 21,\n",
              "          ('r', '*'): 84,\n",
              "          ('*', '4'): 57,\n",
              "          ('4', ' '): 59,\n",
              "          ('w', 'o'): 322,\n",
              "          ('o', 'o'): 491,\n",
              "          ('o', 'd'): 404,\n",
              "          ('d', 's'): 181,\n",
              "          ('d', 'e'): 2697,\n",
              "          ('e', 's'): 4333,\n",
              "          (' ', 'h'): 1124,\n",
              "          ('h', 'a'): 1022,\n",
              "          (' ', 'a'): 4818,\n",
              "          ('g', 'g'): 105,\n",
              "          ('g', 'r'): 604,\n",
              "          ('s', 's'): 1246,\n",
              "          ('s', 'i'): 2465,\n",
              "          ('i', 'o'): 2847,\n",
              "          ('o', 'n'): 5343,\n",
              "          ('n', ' '): 3758,\n",
              "          (' ', 'l'): 1123,\n",
              "          ('o', 'k'): 155,\n",
              "          ('k', 'i'): 281,\n",
              "          (' ', 'b'): 2029,\n",
              "          ('b', 'e'): 912,\n",
              "          ('e', 'g'): 612,\n",
              "          ('l', 'u'): 366,\n",
              "          ('u', 'i'): 587,\n",
              "          ('k', '*'): 26,\n",
              "          ('*', '2'): 1002,\n",
              "          ('2', ' '): 999,\n",
              "          ('o', 'c'): 619,\n",
              "          ('c', 'k'): 730,\n",
              "          ('u', 'c'): 387,\n",
              "          ('u', 'k'): 32,\n",
              "          ('k', ' '): 558,\n",
              "          ('o', 'i'): 353,\n",
              "          ('l', 'i'): 1903,\n",
              "          ('i', 'k'): 105,\n",
              "          (' ', 'e'): 3143,\n",
              "          ('i', 'g'): 830,\n",
              "          ('i', 'b'): 299,\n",
              "          ('b', 'l'): 945,\n",
              "          ('l', 'e'): 3575,\n",
              "          ('g', 'b'): 11,\n",
              "          ('g', 'a'): 845,\n",
              "          ('a', 'b'): 876,\n",
              "          ('e', 'c'): 2296,\n",
              "          ('c', 't'): 1025,\n",
              "          ('t', 'r'): 1493,\n",
              "          ('i', 'c'): 2670,\n",
              "          ('c', 'i'): 1877,\n",
              "          ('t', 'y'): 774,\n",
              "          ('y', '*'): 146,\n",
              "          ('i', 'z'): 273,\n",
              "          ('z', 'i'): 86,\n",
              "          (' ', 's'): 5617,\n",
              "          ('s', 'c'): 1018,\n",
              "          ('c', 'o'): 3915,\n",
              "          ('o', 'l'): 1413,\n",
              "          ('l', 'd'): 283,\n",
              "          ('d', ' '): 4647,\n",
              "          ('c', 'h'): 1379,\n",
              "          ('h', 'o'): 929,\n",
              "          ('s', 'k'): 183,\n",
              "          ('k', 'o'): 58,\n",
              "          ('a', 'd'): 996,\n",
              "          ('d', 'a'): 819,\n",
              "          ('a', 'p'): 1152,\n",
              "          ('p', 't'): 400,\n",
              "          ('t', 'a'): 2106,\n",
              "          ('b', 't'): 124,\n",
              "          (' ', 'c'): 4738,\n",
              "          ('c', 'a'): 1743,\n",
              "          ('n', 'e'): 2732,\n",
              "          ('e', 'd'): 4035,\n",
              "          (' ', 'i'): 2051,\n",
              "          ('i', 'm'): 1136,\n",
              "          ('m', 'm'): 546,\n",
              "          ('m', 'a'): 1696,\n",
              "          ('a', 't'): 4502,\n",
              "          ('t', 'u'): 1156,\n",
              "          ('s', 'h'): 1113,\n",
              "          ('u', 'l'): 1172,\n",
              "          ('d', 'n'): 65,\n",
              "          ('n', \"'\"): 66,\n",
              "          (\"'\", 't'): 58,\n",
              "          ('t', ' '): 4559,\n",
              "          ('u', 'd'): 372,\n",
              "          ('d', 'l'): 179,\n",
              "          ('l', 'n'): 38,\n",
              "          ('n', 't'): 4823,\n",
              "          ('s', 'w'): 99,\n",
              "          ('w', 'i'): 343,\n",
              "          ('i', 'v'): 663,\n",
              "          ('v', 'e'): 1853,\n",
              "          ('l', ' '): 2423,\n",
              "          ('v', 'a'): 545,\n",
              "          ('a', 'l'): 3768,\n",
              "          ('p', 'p'): 747,\n",
              "          ('p', 'r'): 1741,\n",
              "          ('r', 'o'): 1948,\n",
              "          ('o', 'p'): 667,\n",
              "          ('i', 'a'): 1507,\n",
              "          ('r', 'r'): 742,\n",
              "          ('f', 'e'): 977,\n",
              "          ('s', 't'): 3024,\n",
              "          ('b', 'b'): 78,\n",
              "          (' ', 'S'): 77,\n",
              "          ('S', 'o'): 7,\n",
              "          ('u', 't'): 835,\n",
              "          ('t', 'h'): 1594,\n",
              "          ('h', 'w'): 25,\n",
              "          ('S', 'u'): 3,\n",
              "          ('o', 't'): 805,\n",
              "          ('r', 'b'): 132,\n",
              "          ('b', ' '): 105,\n",
              "          ('e', 'b'): 146,\n",
              "          ('n', 's'): 1534,\n",
              "          ('c', 'l'): 478,\n",
              "          (' ', 'p'): 3645,\n",
              "          ('z', 'e'): 258,\n",
              "          ('s', 'e'): 3016,\n",
              "          ('w', 'e'): 482,\n",
              "          ('s', 'd'): 68,\n",
              "          ('a', 'y'): 405,\n",
              "          ('e', 'n'): 6186,\n",
              "          ('s', 'u'): 1201,\n",
              "          ('c', 'c'): 543,\n",
              "          ('c', 'e'): 2822,\n",
              "          ('g', 'h'): 451,\n",
              "          ('h', 't'): 338,\n",
              "          ('t', 'e'): 5367,\n",
              "          ('i', 'd'): 913,\n",
              "          ('d', 'g'): 247,\n",
              "          ('t', '*'): 146,\n",
              "          (' ', 'g'): 1374,\n",
              "          ('g', 'u'): 412,\n",
              "          ('u', 'a'): 776,\n",
              "          ('r', 'd'): 661,\n",
              "          ('s', 'm'): 250,\n",
              "          ('m', 'e'): 2751,\n",
              "          ('s', '_'): 37,\n",
              "          ('_', 'm'): 56,\n",
              "          ('n', 'c'): 2090,\n",
              "          ('c', 'r'): 693,\n",
              "          ('e', 'm'): 1761,\n",
              "          ('e', 'e'): 844,\n",
              "          ('b', 'a'): 553,\n",
              "          ('a', 'c'): 1937,\n",
              "          ('k', 'e'): 485,\n",
              "          ('a', 'k'): 270,\n",
              "          ('p', 'u'): 227,\n",
              "          ('l', 's'): 233,\n",
              "          ('p', 'l'): 795,\n",
              "          ('u', 's'): 2250,\n",
              "          ('l', 'a'): 1694,\n",
              "          ('g', 'e'): 1390,\n",
              "          ('n', 'd'): 1938,\n",
              "          ('e', 'x'): 967,\n",
              "          ('x', 'e'): 129,\n",
              "          ('e', 'o'): 337,\n",
              "          ('c', 'u'): 905,\n",
              "          ('u', 'n'): 1791,\n",
              "          ('e', 'k'): 87,\n",
              "          (' ', 'j'): 217,\n",
              "          ('j', 'a'): 45,\n",
              "          ('a', 'm'): 1104,\n",
              "          ('m', 'j'): 1,\n",
              "          ('m', '_'): 10,\n",
              "          ('_', 'j'): 4,\n",
              "          ('s', 'a'): 1368,\n",
              "          ('i', 'l'): 1471,\n",
              "          ('b', 'o'): 484,\n",
              "          (' ', 't'): 2282,\n",
              "          ('h', 'u'): 363,\n",
              "          (' ', 'k'): 241,\n",
              "          ('o', 's'): 841,\n",
              "          ('e', 'a'): 1970,\n",
              "          ('a', 's'): 1682,\n",
              "          ('h', '_'): 21,\n",
              "          ('_', 't'): 63,\n",
              "          ('h', 'i'): 943,\n",
              "          ('e', 'i'): 730,\n",
              "          ('g', 'c'): 17,\n",
              "          ('h', 'r'): 155,\n",
              "          ('h', 'e'): 1799,\n",
              "          ('n', '_'): 84,\n",
              "          ('_', 'c'): 93,\n",
              "          ('c', 's'): 242,\n",
              "          ('m', 'c'): 33,\n",
              "          ('h', ' '): 826,\n",
              "          ('o', 'e'): 220,\n",
              "          ('a', 'h'): 59,\n",
              "          ('h', 'l'): 115,\n",
              "          ('a', 'e'): 195,\n",
              "          ('e', 'p'): 739,\n",
              "          ('p', 'o'): 1165,\n",
              "          ('r', 't'): 1411,\n",
              "          ('t', 'o'): 1302,\n",
              "          ('e', 't'): 1935,\n",
              "          ('p', 'e'): 2026,\n",
              "          ('r', 'y'): 1192,\n",
              "          ('r', 'u'): 531,\n",
              "          ('u', 'p'): 335,\n",
              "          ('i', 'r'): 834,\n",
              "          ('i', 'w'): 17,\n",
              "          ('i', 'e'): 1874,\n",
              "          ('i', 'y'): 78,\n",
              "          ('y', 'r'): 39,\n",
              "          ('a', ' '): 574,\n",
              "          ('*', '1'): 15,\n",
              "          ('1', '1'): 4,\n",
              "          ('1', ' '): 6,\n",
              "          ('d', 'r'): 318,\n",
              "          ('e', 'h'): 96,\n",
              "          ('o', 'm'): 1815,\n",
              "          ('m', 's'): 155,\n",
              "          ('m', ' '): 1044,\n",
              "          ('e', '-'): 36,\n",
              "          ('-', 'r'): 24,\n",
              "          ('e', '_'): 143,\n",
              "          ('_', 'r'): 76,\n",
              "          ('u', 'b'): 253,\n",
              "          ('b', 's'): 100,\n",
              "          ('m', 'b'): 249,\n",
              "          ('t', 's'): 788,\n",
              "          ('o', 'v'): 293,\n",
              "          ('s', 'y'): 360,\n",
              "          ('r', 'v'): 142,\n",
              "          ('r', 'c'): 470,\n",
              "          ('u', 'y'): 30,\n",
              "          ('s', 'o'): 894,\n",
              "          ('e', 'v'): 514,\n",
              "          ('a', 'v'): 410,\n",
              "          ('c', 'y'): 295,\n",
              "          ('n', 'v'): 445,\n",
              "          ('e', 'y'): 654,\n",
              "          ('s', 'v'): 9,\n",
              "          ('m', 't'): 113,\n",
              "          ('u', 'f'): 192,\n",
              "          ('n', 'q'): 66,\n",
              "          ('q', 'o'): 4,\n",
              "          ('u', 'v'): 62,\n",
              "          ('u', 'e'): 609,\n",
              "          ('v', 'y'): 13,\n",
              "          ('v', 's'): 10,\n",
              "          ('i', 'u'): 217,\n",
              "          ('v', 'i'): 718,\n",
              "          ('v', 'o'): 244,\n",
              "          ('v', 'v'): 2,\n",
              "          ('e', 'f'): 894,\n",
              "          ('r', 'n'): 602,\n",
              "          ('w', 'v'): 4,\n",
              "          ('o', 'g'): 455,\n",
              "          ('g', 'y'): 186,\n",
              "          ('s', 'n'): 93,\n",
              "          ('n', 'o'): 1007,\n",
              "          (' ', 'm'): 2103,\n",
              "          ('m', 'i'): 1721,\n",
              "          ('n', 'a'): 1819,\n",
              "          ('l', 't'): 323,\n",
              "          ('s', 'l'): 317,\n",
              "          ('u', 'm'): 810,\n",
              "          ('m', 'n'): 157,\n",
              "          ('m', 'u'): 378,\n",
              "          ('z', 'm'): 9,\n",
              "          ('z', 'u'): 12,\n",
              "          ('z', 'a'): 47,\n",
              "          ('m', '*'): 23,\n",
              "          ('c', 'm'): 40,\n",
              "          ('z', ' '): 14,\n",
              "          ('y', 'u'): 22,\n",
              "          ('z', 'o'): 10,\n",
              "          ('s', 'z'): 4,\n",
              "          ('t', 'c'): 159,\n",
              "          ('t', 'z'): 7,\n",
              "          ('y', 'm'): 158,\n",
              "          ('y', 'p'): 52,\n",
              "          ('m', 'o'): 890,\n",
              "          ('i', ' '): 163,\n",
              "          ('y', 't'): 63,\n",
              "          ('g', 'o'): 438,\n",
              "          ('_', 'h'): 36,\n",
              "          ('x', 'p'): 185,\n",
              "          ('x', 'c'): 138,\n",
              "          ('x', 's'): 129,\n",
              "          ('x', 'l'): 4,\n",
              "          ('l', 'p'): 72,\n",
              "          ('i', 'x'): 43,\n",
              "          ('x', 't'): 187,\n",
              "          ('k', 'p'): 4,\n",
              "          ('o', 'x'): 107,\n",
              "          ('b', 'r'): 303,\n",
              "          ('u', 'g'): 256,\n",
              "          ('h', '*'): 31,\n",
              "          ('b', 'u'): 384,\n",
              "          ('g', 't'): 72,\n",
              "          (' ', 'o'): 1087,\n",
              "          ('o', 'a'): 289,\n",
              "          ('w', 's'): 40,\n",
              "          ('c', ' '): 567,\n",
              "          ('p', 'h'): 622,\n",
              "          ('s', 'r'): 83,\n",
              "          (' ', 'u'): 817,\n",
              "          ('l', '*'): 61,\n",
              "          ('*', '9'): 6,\n",
              "          ('9', ' '): 6,\n",
              "          ('t', 'l'): 720,\n",
              "          ('w', 'h'): 198,\n",
              "          ('a', 'x'): 73,\n",
              "          ('x', ' '): 42,\n",
              "          ('k', 's'): 119,\n",
              "          ('s', 'f'): 186,\n",
              "          ('l', 'f'): 149,\n",
              "          ('c', 'f'): 23,\n",
              "          ('u', 'x'): 10,\n",
              "          ('n', 'f'): 411,\n",
              "          ('k', 'c'): 20,\n",
              "          ('u', ' '): 123,\n",
              "          ('f', ' '): 258,\n",
              "          ('h', 's'): 62,\n",
              "          ('h', 'f'): 28,\n",
              "          ('s', 'b'): 31,\n",
              "          ('f', 'l'): 264,\n",
              "          ('f', 'a'): 748,\n",
              "          ('k', 'f'): 10,\n",
              "          ('f', 'f'): 600,\n",
              "          ('*', '3'): 165,\n",
              "          ('3', ' '): 166,\n",
              "          ('y', 'i'): 121,\n",
              "          ('k', 'E'): 1,\n",
              "          ('E', 'd'): 2,\n",
              "          ('k', 'd'): 6,\n",
              "          ('m', 'p'): 888,\n",
              "          ('h', 'm'): 91,\n",
              "          ('x', 'a'): 112,\n",
              "          ('x', 'm'): 16,\n",
              "          ('r', 'g'): 327,\n",
              "          ('a', 'u'): 520,\n",
              "          ('w', 'a'): 368,\n",
              "          ('*', '7'): 8,\n",
              "          ('7', ' '): 9,\n",
              "          ('t', 'n'): 62,\n",
              "          ('w', 'n'): 84,\n",
              "          ('v', 'l'): 32,\n",
              "          (' ', 'D'): 33,\n",
              "          ('D', 'a'): 4,\n",
              "          ('m', 'g'): 15,\n",
              "          ('a', 'z'): 41,\n",
              "          ('n', 'h'): 29,\n",
              "          ('h', 'n'): 77,\n",
              "          ('m', 'r'): 30,\n",
              "          ('s', 'g'): 27,\n",
              "          ('a', 'w'): 171,\n",
              "          ('p', ' '): 297,\n",
              "          (' ', 'v'): 854,\n",
              "          ('e', 'u'): 279,\n",
              "          ('g', '*'): 68,\n",
              "          ('t', '-'): 19,\n",
              "          ('-', 't'): 20,\n",
              "          ('t', '_'): 54,\n",
              "          ('a', 'f'): 453,\n",
              "          ('d', 'q'): 12,\n",
              "          ('q', 'u'): 769,\n",
              "          ('g', 'n'): 283,\n",
              "          ('w', 'b'): 8,\n",
              "          ('w', '_'): 15,\n",
              "          ('_', 'b'): 65,\n",
              "          ('p', 's'): 135,\n",
              "          ('m', 'd'): 51,\n",
              "          (' ', 'N'): 17,\n",
              "          ('N', 'a'): 2,\n",
              "          ('f', 'i'): 1348,\n",
              "          (' ', 'H'): 19,\n",
              "          ('H', 'i'): 5,\n",
              "          ('H', 'e'): 6,\n",
              "          ('e', \"'\"): 51,\n",
              "          (\"'\", 's'): 170,\n",
              "          ('o', 'f'): 178,\n",
              "          ('h', '-'): 8,\n",
              "          ('-', 'l'): 11,\n",
              "          ('_', 'l'): 26,\n",
              "          ('d', 'd'): 148,\n",
              "          ('d', 'o'): 542,\n",
              "          (' ', 'I'): 48,\n",
              "          ('I', 'm'): 5,\n",
              "          ('n', 'k'): 173,\n",
              "          ('h', 'h'): 7,\n",
              "          (' ', 'q'): 168,\n",
              "          ('l', 'c'): 70,\n",
              "          ('d', 'u'): 424,\n",
              "          ('p', 'y'): 61,\n",
              "          ('n', 'p'): 139,\n",
              "          ('o', 'b'): 232,\n",
              "          ('b', 'd'): 8,\n",
              "          ('y', 's'): 348,\n",
              "          ('y', 'n'): 56,\n",
              "          ('a', 'a'): 38,\n",
              "          ('n', 'l'): 270,\n",
              "          ('c', 'w'): 17,\n",
              "          ('r', 'm'): 539,\n",
              "          (' ', 'T'): 40,\n",
              "          ('T', 'e'): 5,\n",
              "          ('d', 'y'): 146,\n",
              "          ('y', '_'): 73,\n",
              "          ('o', 'y'): 209,\n",
              "          ('p', 'i'): 824,\n",
              "          ('i', 'p'): 383,\n",
              "          ('n', 'u'): 395,\n",
              "          ('_', 'n'): 22,\n",
              "          ('b', 'i'): 456,\n",
              "          ('v', 'r'): 25,\n",
              "          ('k', 'n'): 189,\n",
              "          (' ', 'n'): 780,\n",
              "          ('r', '-'): 17,\n",
              "          ('-', 'h'): 16,\n",
              "          ('r', '_'): 63,\n",
              "          ('y', \"'\"): 35,\n",
              "          ('r', 'h'): 98,\n",
              "          ('t', 'b'): 38,\n",
              "          ('k', 'b'): 3,\n",
              "          (' ', 'B'): 40,\n",
              "          ('B', 'a'): 14,\n",
              "          ('-', 'B'): 2,\n",
              "          ('k', 't'): 42,\n",
              "          ('-', 'b'): 20,\n",
              "          ('r', 'l'): 440,\n",
              "          ('n', '*'): 105,\n",
              "          ('w', 'l'): 104,\n",
              "          ('w', 'd'): 35,\n",
              "          ('x', 'i'): 166,\n",
              "          ('o', 'j'): 14,\n",
              "          ('j', 'e'): 85,\n",
              "          ('p', 'g'): 1,\n",
              "          ('j', 'o'): 118,\n",
              "          ('u', 'j'): 4,\n",
              "          ('p', 'n'): 44,\n",
              "          ('n', 'm'): 132,\n",
              "          ('e', 'w'): 142,\n",
              "          ('w', 'm'): 10,\n",
              "          (' ', 'P'): 61,\n",
              "          ('P', 'h'): 20,\n",
              "          ('n', 'y'): 243,\n",
              "          ('P', 'n'): 1,\n",
              "          ('d', 'j'): 53,\n",
              "          ('j', 'u'): 154,\n",
              "          ('a', 'j'): 23,\n",
              "          ('c', 'q'): 97,\n",
              "          ('a', 'q'): 63,\n",
              "          ('a', '_'): 101,\n",
              "          ('o', '-'): 14,\n",
              "          ('-', 'd'): 5,\n",
              "          ('t', 'w'): 46,\n",
              "          ('o', '_'): 24,\n",
              "          ('_', 'd'): 22,\n",
              "          ('s', \"'\"): 30,\n",
              "          (\"'\", ' '): 20,\n",
              "          ('o', 'z'): 13,\n",
              "          ('k', 'g'): 5,\n",
              "          (' ', 'J'): 34,\n",
              "          ('J', 'o'): 12,\n",
              "          ('o', 'h'): 55,\n",
              "          ('b', 'j'): 14,\n",
              "          ('k', 'a'): 97,\n",
              "          ('y', 'l'): 99,\n",
              "          ('g', 'd'): 42,\n",
              "          ('a', 'o'): 78,\n",
              "          ('h', 'd'): 35,\n",
              "          ('u', 'h'): 15,\n",
              "          ('l', '_'): 60,\n",
              "          ('w', '*'): 20,\n",
              "          ('i', 'f'): 582,\n",
              "          ('l', 'b'): 33,\n",
              "          ('x', 'd'): 5,\n",
              "          ('d', 'c'): 21,\n",
              "          ('d', 't'): 37,\n",
              "          ('x', 'n'): 5,\n",
              "          ('c', 'x'): 7,\n",
              "          ('d', 'v'): 53,\n",
              "          ('c', 'd'): 13,\n",
              "          (' ', 'x'): 2,\n",
              "          ('r', 'p'): 203,\n",
              "          ('d', '*'): 155,\n",
              "          ('d', 'b'): 10,\n",
              "          ('y', 'd'): 32,\n",
              "          ('v', 'g'): 3,\n",
              "          ('l', 'g'): 84,\n",
              "          ('l', 'v'): 76,\n",
              "          ('f', 'r'): 473,\n",
              "          ('f', 't'): 130,\n",
              "          ('n', 'b'): 47,\n",
              "          ('b', 'g'): 8,\n",
              "          ('r', 'k'): 114,\n",
              "          ('l', 'h'): 22,\n",
              "          ('r', 'f'): 189,\n",
              "          ('s', 'q'): 56,\n",
              "          ('k', 'y'): 22,\n",
              "          ('f', 'y'): 38,\n",
              "          ('f', '-'): 9,\n",
              "          ('-', 'f'): 9,\n",
              "          ('l', '-'): 18,\n",
              "          ('q', 'i'): 13,\n",
              "          ('_', 'f'): 49,\n",
              "          ('y', 'a'): 111,\n",
              "          ('c', 'p'): 41,\n",
              "          ('-', 'a'): 5,\n",
              "          ('d', '-'): 18,\n",
              "          ('-', 'm'): 17,\n",
              "          ('d', 'm'): 94,\n",
              "          ('x', 'y'): 4,\n",
              "          ('g', 'm'): 54,\n",
              "          ('t', 'g'): 18,\n",
              "          ('p', 'b'): 9,\n",
              "          ('t', 'd'): 25,\n",
              "          ('b', 'y'): 77,\n",
              "          ('s', '*'): 127,\n",
              "          ('y', 'b'): 15,\n",
              "          (' ', 'M'): 51,\n",
              "          ('M', 'a'): 16,\n",
              "          ('y', 'f'): 34,\n",
              "          ('_', 'a'): 26,\n",
              "          ('_', 'o'): 44,\n",
              "          ('b', 'p'): 6,\n",
              "          ('m', '-'): 12,\n",
              "          ('m', 'f'): 76,\n",
              "          ('f', 'n'): 14,\n",
              "          ('d', '_'): 60,\n",
              "          ('d', 'f'): 16,\n",
              "          ('v', ' '): 41,\n",
              "          (' ', 'C'): 115,\n",
              "          ('C', 'o'): 13,\n",
              "          ('I', 'n'): 5,\n",
              "          ('c', 'n'): 69,\n",
              "          ('e', 'q'): 204,\n",
              "          ('M', 'i'): 13,\n",
              "          ('i', 'q'): 64,\n",
              "          ('y', 'c'): 117,\n",
              "          ('v', 'm'): 11,\n",
              "          ('I', 't'): 7,\n",
              "          ('I', 'h'): 1,\n",
              "          ('S', 'w'): 3,\n",
              "          ('m', 'y'): 94,\n",
              "          ('f', '*'): 12,\n",
              "          ('o', '*'): 21,\n",
              "          ('x', 'x'): 3,\n",
              "          ('h', 'y'): 233,\n",
              "          (' ', 'F'): 33,\n",
              "          ('F', 'e'): 5,\n",
              "          ('F', 'a'): 8,\n",
              "          ('M', 'o'): 7,\n",
              "          ('-', 's'): 20,\n",
              "          ('_', 's'): 81,\n",
              "          ('l', 'r'): 38,\n",
              "          ('i', 'h'): 43,\n",
              "          ('_', 'p'): 41,\n",
              "          ('y', 'o'): 106,\n",
              "          (' ', 'U'): 5,\n",
              "          ('U', 'n'): 3,\n",
              "          ('l', 'm'): 78,\n",
              "          ('h', 'c'): 18,\n",
              "          ('N', 'e'): 7,\n",
              "          ('-', 'c'): 21,\n",
              "          ('-', 'n'): 4,\n",
              "          ('_', 'e'): 17,\n",
              "          ('U', 'k'): 2,\n",
              "          ('k', 'r'): 72,\n",
              "          ('b', 'c'): 9,\n",
              "          ('k', '_'): 37,\n",
              "          ('n', 'r'): 65,\n",
              "          ('t', 'f'): 79,\n",
              "          ('p', 'c'): 28,\n",
              "          ('M', 'y'): 1,\n",
              "          ('B', 'y'): 1,\n",
              "          ('m', 'h'): 9,\n",
              "          ('m', 'l'): 42,\n",
              "          ('d', 'p'): 12,\n",
              "          ('a', \"'\"): 9,\n",
              "          ('t', 'v'): 5,\n",
              "          ('y', 'w'): 13,\n",
              "          ('r', 'w'): 50,\n",
              "          ('_', 'w'): 38,\n",
              "          ('v', 'u'): 39,\n",
              "          ('z', 'l'): 11,\n",
              "          ('w', '-'): 2,\n",
              "          ('-', 'g'): 8,\n",
              "          ('w', 'g'): 7,\n",
              "          ('u', 'u'): 17,\n",
              "          ('y', '-'): 18,\n",
              "          ('-', ' '): 11,\n",
              "          ('S', 'l'): 2,\n",
              "          ('n', '-'): 12,\n",
              "          ('S', 't'): 11,\n",
              "          ('q', 'a'): 10,\n",
              "          ('q', 's'): 2,\n",
              "          ('h', 'b'): 14,\n",
              "          ('q', 't'): 3,\n",
              "          (' ', 'R'): 29,\n",
              "          ('R', 'o'): 10,\n",
              "          ('*', '6'): 17,\n",
              "          ('6', ' '): 19,\n",
              "          ('w', 'u'): 22,\n",
              "          ('b', 'm'): 8,\n",
              "          ('M', 'u'): 5,\n",
              "          ('k', 'l'): 62,\n",
              "          ('k', 'u'): 29,\n",
              "          ('S', 'e'): 5,\n",
              "          (' ', 'A'): 39,\n",
              "          ('A', 't'): 4,\n",
              "          ('i', '_'): 5,\n",
              "          ('t', 'k'): 7,\n",
              "          ('l', 'k'): 69,\n",
              "          ('r', \"'\"): 29,\n",
              "          ('P', 'o'): 7,\n",
              "          ('e', 'z'): 57,\n",
              "          ('z', '-'): 1,\n",
              "          ('-', 'v'): 1,\n",
              "          ('l', 'w'): 22,\n",
              "          ('k', 'k'): 5,\n",
              "          ('q', 'e'): 11,\n",
              "          ('q', 'q'): 4,\n",
              "          ('q', 'w'): 5,\n",
              "          ('t', 'm'): 129,\n",
              "          ('p', 'd'): 9,\n",
              "          ('x', 'q'): 31,\n",
              "          ('g', 'w'): 13,\n",
              "          ('z', 'z'): 23,\n",
              "          ('r', 'z'): 6,\n",
              "          ('z', 's'): 4,\n",
              "          ('-', 'k'): 3,\n",
              "          ('_', 'k'): 4,\n",
              "          ('1', '0'): 4,\n",
              "          ('0', ' '): 5,\n",
              "          ('-', 'o'): 12,\n",
              "          ('p', '*'): 8,\n",
              "          ('R', 'e'): 12,\n",
              "          ('t', \"'\"): 29,\n",
              "          ('n', 'j'): 36,\n",
              "          ('m', \"'\"): 5,\n",
              "          ('w', 'p'): 2,\n",
              "          ('y', 'g'): 28,\n",
              "          ('b', '*'): 2,\n",
              "          ('I', ' '): 6,\n",
              "          ('i', 'i'): 27,\n",
              "          ('B', 'o'): 7,\n",
              "          ('b', 'n'): 4,\n",
              "          ('c', '*'): 4,\n",
              "          ('f', 'c'): 17,\n",
              "          ('b', 'f'): 5,\n",
              "          ('f', '_'): 8,\n",
              "          ('g', '_'): 16,\n",
              "          ('f', 's'): 23,\n",
              "          (\"'\", 'l'): 8,\n",
              "          ('p', 'w'): 5,\n",
              "          ('g', '-'): 6,\n",
              "          ('1', '6'): 2,\n",
              "          ('S', 'h'): 17,\n",
              "          ('w', 't'): 29,\n",
              "          (\"'\", 'r'): 11,\n",
              "          ('x', 'h'): 28,\n",
              "          ('C', 'i'): 2,\n",
              "          ('a', '*'): 6,\n",
              "          (' ', 'W'): 20,\n",
              "          ('W', 'a'): 1,\n",
              "          ('-', 'p'): 14,\n",
              "          ('C', 'n'): 1,\n",
              "          ('h', 'v'): 5,\n",
              "          ('-', 'i'): 5,\n",
              "          ('C', 'a'): 19,\n",
              "          ('C', 'e'): 3,\n",
              "          ('1', '7'): 1,\n",
              "          ('D', 'e'): 15,\n",
              "          ('d', 'w'): 19,\n",
              "          ('u', 'z'): 13,\n",
              "          ('T', 'o'): 10,\n",
              "          ('g', 'j'): 3,\n",
              "          (' ', 'K'): 4,\n",
              "          ('K', 'a'): 1,\n",
              "          ('m', 'v'): 7,\n",
              "          ('S', 'y'): 2,\n",
              "          ('i', '-'): 7,\n",
              "          ('m', 'k'): 15,\n",
              "          (' ', 'G'): 27,\n",
              "          ('G', 'o'): 4,\n",
              "          ('r', 'j'): 10,\n",
              "          ('R', 'u'): 2,\n",
              "          ('A', 'o'): 1,\n",
              "          ('_', 'y'): 5,\n",
              "          ('R', 'S'): 1,\n",
              "          ('S', 'X'): 1,\n",
              "          ('X', ' '): 1,\n",
              "          ('s', 'x'): 3,\n",
              "          ('F', 'u'): 1,\n",
              "          ('_', 'g'): 36,\n",
              "          ('T', 'r'): 3,\n",
              "          ('w', 'y'): 9,\n",
              "          ('p', '_'): 9,\n",
              "          ('x', 'o'): 21,\n",
              "          ('h', 'g'): 13,\n",
              "          ('P', 's'): 1,\n",
              "          ('y', 'k'): 2,\n",
              "          ('o', 'q'): 13,\n",
              "          ('S', 'i'): 7,\n",
              "          ('s', '-'): 11,\n",
              "          ('-', 'u'): 3,\n",
              "          ('_', 'u'): 5,\n",
              "          ('I', '*'): 2,\n",
              "          ('d', 'h'): 13,\n",
              "          (' ', 'E'): 44,\n",
              "          ('E', 'n'): 8,\n",
              "          ('a', '-'): 9,\n",
              "          ('q', 'n'): 2,\n",
              "          ('c', 'j'): 3,\n",
              "          ('S', 'c'): 4,\n",
              "          ('k', 'h'): 6,\n",
              "          ('k', '-'): 14,\n",
              "          ('z', 'd'): 1,\n",
              "          (' ', 'O'): 12,\n",
              "          ('O', 'h'): 1,\n",
              "          ('O', 'w'): 1,\n",
              "          ('-', 'q'): 1,\n",
              "          ('S', 'm'): 2,\n",
              "          ('O', 'u'): 2,\n",
              "          ('k', \"'\"): 6,\n",
              "          ('_', 'i'): 11,\n",
              "          ('e', 'j'): 34,\n",
              "          ('n', 'x'): 26,\n",
              "          ('F', 'r'): 11,\n",
              "          ('b', '-'): 6,\n",
              "          ('P', 'e'): 3,\n",
              "          ('t', 'x'): 1,\n",
              "          ('C', 'h'): 70,\n",
              "          ('C', 'r'): 2,\n",
              "          ('j', 'i'): 22,\n",
              "          ('w', 'k'): 4,\n",
              "          ('v', 'q'): 1,\n",
              "          ('q', 'r'): 3,\n",
              "          ('O', 'n'): 3,\n",
              "          ('W', 'o'): 1,\n",
              "          ('u', '_'): 5,\n",
              "          ('n', 'w'): 26,\n",
              "          ('-', 'e'): 6,\n",
              "          ('u', \"'\"): 6,\n",
              "          (\"'\", 'd'): 5,\n",
              "          ('u', 'w'): 10,\n",
              "          ('D', 'o'): 9,\n",
              "          ('k', 'm'): 12,\n",
              "          ('S', 'a'): 8,\n",
              "          ('g', \"'\"): 3,\n",
              "          ('n', 'z'): 16,\n",
              "          ('M', 'e'): 5,\n",
              "          ('f', 'm'): 4,\n",
              "          ('m', 'w'): 6,\n",
              "          ('D', 'u'): 4,\n",
              "          ('r', 'x'): 2,\n",
              "          ('1', '4'): 2,\n",
              "          ('T', 'h'): 15,\n",
              "          ('c', 'g'): 9,\n",
              "          ('z', 'n'): 2,\n",
              "          (' ', 'L'): 21,\n",
              "          ('L', 'i'): 3,\n",
              "          ('v', 'd'): 15,\n",
              "          ('_', 'v'): 7,\n",
              "          ('i', 'j'): 11,\n",
              "          ('j', ' '): 4,\n",
              "          ('N', 'o'): 4,\n",
              "          ('B', 'i'): 3,\n",
              "          ('p', 'm'): 16,\n",
              "          ('b', 'w'): 2,\n",
              "          ('t', 'p'): 15,\n",
              "          ('R', 'a'): 2,\n",
              "          (\"'\", 'e'): 16,\n",
              "          ('b', 'h'): 7,\n",
              "          ('g', 'x'): 2,\n",
              "          ('x', 'g'): 6,\n",
              "          ('x', 'j'): 2,\n",
              "          ('x', 'z'): 12,\n",
              "          ('d', 'z'): 1,\n",
              "          ('x', 'r'): 2,\n",
              "          ('g', 'z'): 7,\n",
              "          ('c', \"'\"): 1,\n",
              "          ('b', 'v'): 6,\n",
              "          ('T', 'u'): 3,\n",
              "          ('P', 'y'): 2,\n",
              "          ('d', \"'\"): 9,\n",
              "          ('d', 'k'): 2,\n",
              "          (' ', \"'\"): 5,\n",
              "          ('i', \"'\"): 2,\n",
              "          ('D', 'i'): 1,\n",
              "          ('W', 'h'): 8,\n",
              "          ('v', 't'): 10,\n",
              "          ('E', 'v'): 3,\n",
              "          ('y', 'h'): 10,\n",
              "          ('m', 'z'): 1,\n",
              "          ('P', 'r'): 13,\n",
              "          ('P', 'a'): 10,\n",
              "          ('G', 'u'): 6,\n",
              "          ('p', 'x'): 2,\n",
              "          ('x', 'k'): 1,\n",
              "          ('f', 'h'): 7,\n",
              "          ('y', 'z'): 6,\n",
              "          ('y', 'v'): 4,\n",
              "          ('A', 'n'): 7,\n",
              "          ('A', 'm'): 7,\n",
              "          ('f', 'v'): 2,\n",
              "          ('E', 'e'): 1,\n",
              "          ('E', 'u'): 6,\n",
              "          ('j', 's'): 2,\n",
              "          ('r', 'q'): 8,\n",
              "          ('q', 'c'): 1,\n",
              "          ('u', 'q'): 14,\n",
              "          ('o', '.'): 1,\n",
              "          ('.', ' '): 3,\n",
              "          ('p', '.'): 1,\n",
              "          ('v', 'b'): 4,\n",
              "          ('c', 'v'): 2,\n",
              "          ('B', 'r'): 7,\n",
              "          ('I', 'r'): 4,\n",
              "          ('I', \"'\"): 10,\n",
              "          (\"'\", 'v'): 3,\n",
              "          ('I', 'v'): 1,\n",
              "          ('I', 'e'): 1,\n",
              "          ('z', 'y'): 7,\n",
              "          ('h', 'z'): 2,\n",
              "          ('h', 'p'): 8,\n",
              "          ('t', 'j'): 4,\n",
              "          ('j', 'h'): 1,\n",
              "          ('o', \"'\"): 3,\n",
              "          (\"'\", 'c'): 1,\n",
              "          ('O', '_'): 1,\n",
              "          (' ', '_'): 1,\n",
              "          ('f', 'd'): 14,\n",
              "          ('A', 'f'): 3,\n",
              "          ('_', 'D'): 2,\n",
              "          ('p', 'f'): 9,\n",
              "          ('C', 'y'): 4,\n",
              "          ('L', 'y'): 1,\n",
              "          (\"'\", 'n'): 10,\n",
              "          ('A', 'd'): 2,\n",
              "          ('E', 'p'): 7,\n",
              "          ('g', 'v'): 1,\n",
              "          ('H', 'a'): 2,\n",
              "          ('k', 'w'): 29,\n",
              "          ('k', 'q'): 13,\n",
              "          ('w', 'q'): 1,\n",
              "          (' ', 'Q'): 1,\n",
              "          ('Q', 'u'): 1,\n",
              "          ('t', 'q'): 7,\n",
              "          ('g', 'q'): 6,\n",
              "          ('C', 'u'): 1,\n",
              "          ('p', 'k'): 3,\n",
              "          ('J', 'u'): 6,\n",
              "          ('J', 'l'): 1,\n",
              "          ('J', 'a'): 12,\n",
              "          ('-', 'w'): 3,\n",
              "          (' ', 'z'): 6,\n",
              "          ('z', '*'): 1,\n",
              "          (' ', 'Y'): 4,\n",
              "          ('Y', 'o'): 3,\n",
              "          ('N', 'u'): 2,\n",
              "          ('S', 'p'): 6,\n",
              "          ('u', '*'): 2,\n",
              "          ('D', 'r'): 2,\n",
              "          ('c', 'z'): 2,\n",
              "          ('I', 'd'): 1,\n",
              "          (\"'\", 'm'): 2,\n",
              "          ('x', 'u'): 7,\n",
              "          ('G', 'a'): 7,\n",
              "          ('v', 'n'): 6,\n",
              "          (' ', 'V'): 6,\n",
              "          ('V', 'i'): 2,\n",
              "          ('_', 'Y'): 1,\n",
              "          ('P', 'u'): 2,\n",
              "          ('W', 'i'): 4,\n",
              "          ('f', 'g'): 1,\n",
              "          ('y', 'y'): 3,\n",
              "          ('M', 'r'): 5,\n",
              "          ('E', 'c'): 9,\n",
              "          ('w', 'c'): 4,\n",
              "          ('W', 'e'): 5,\n",
              "          ('W', 'd'): 1,\n",
              "          ...})"
            ]
          },
          "metadata": {
            "tags": []
          },
          "execution_count": 8
        }
      ]
    },
    {
      "cell_type": "markdown",
      "metadata": {
        "id": "nWrychiD9SYN"
      },
      "source": [
        "The `letterFreqs` dictionary contains both unigram letter frequencies and bigram letter frequencies."
      ]
    },
    {
      "cell_type": "code",
      "metadata": {
        "colab": {
          "base_uri": "https://localhost:8080/"
        },
        "id": "5jUHb-Vy9SYN",
        "outputId": "c7cc99d7-74c5-472a-c7bc-0f37aaf27f2b"
      },
      "source": [
        "letter_freqs['i']"
      ],
      "execution_count": null,
      "outputs": [
        {
          "output_type": "execute_result",
          "data": {
            "text/plain": [
              "29799"
            ]
          },
          "metadata": {
            "tags": []
          },
          "execution_count": 9
        }
      ]
    },
    {
      "cell_type": "code",
      "metadata": {
        "colab": {
          "base_uri": "https://localhost:8080/"
        },
        "id": "VSWfFGjP9SYN",
        "outputId": "2d6219f6-ac34-4527-c4d9-b61239809d00"
      },
      "source": [
        "letter_freqs['o','r']"
      ],
      "execution_count": null,
      "outputs": [
        {
          "output_type": "execute_result",
          "data": {
            "text/plain": [
              "2857"
            ]
          },
          "metadata": {
            "tags": []
          },
          "execution_count": 10
        }
      ]
    },
    {
      "cell_type": "markdown",
      "metadata": {
        "id": "gkuW-W469SYN"
      },
      "source": [
        "## Load Norvig's error data"
      ]
    },
    {
      "cell_type": "code",
      "metadata": {
        "id": "z2l17PFM9SYO"
      },
      "source": [
        " \n",
        "def make_err_dict (path, encoding='latin1',errors='strict',linesep = r'\\n'):\n",
        "    \"\"\"\n",
        "    To get past some funky unicode characters, do errors = 'ignore'\n",
        "    \n",
        "    This will lose the troublesome characters; it  will not perform a reasonable\n",
        "    approximation, such as \"e\"  for \"e with an accent mark\". \n",
        "    \"\"\"\n",
        "    global error_cts\n",
        "    error_cts = dict()\n",
        "    with open_file_or_url(path) as handle:\n",
        "        bytesdata = handle.read()\n",
        "        data = codecs.decode(bytesdata,encoding=encoding,errors=errors)\n",
        "    for (lct,line) in enumerate(re.split(linesep,data)):\n",
        "        process_line (line, error_cts, lct)\n",
        "    return error_cts\n",
        "\n",
        "def process_line (line, error_cts,lct):\n",
        "     line = line.strip()\n",
        "     if line:\n",
        "        (err, ct) = line.split('\\t')\n",
        "        (tgt, src) = err.split('|')\n",
        "        if tgt and src:\n",
        "           error_cts[tgt,src] = int(ct)\n",
        "        elif tgt:\n",
        "            error_cts[tgt,'#'] = int(ct)\n",
        "        elif src:\n",
        "            error_cts['#', src] = int(ct)\n",
        "        else:\n",
        "            print(f'***Warning*** Bad line {lct}: {line}')"
      ],
      "execution_count": null,
      "outputs": []
    },
    {
      "cell_type": "markdown",
      "metadata": {
        "id": "mAVXF8v09SYO"
      },
      "source": [
        "The `make_err_dict` function loads Norvig's data on error counts and makes a dictionary of it.  We'll call that our **error counts data**."
      ]
    },
    {
      "cell_type": "code",
      "metadata": {
        "id": "0gLFRW5F9SYO",
        "scrolled": true,
        "colab": {
          "base_uri": "https://localhost:8080/"
        },
        "outputId": "cd2c1ff3-a3e1-4574-98bd-87c887098612"
      },
      "source": [
        "# Error data on Peter Norvig's website\n",
        "url = 'https://norvig.com/ngrams/count_1edit.txt'\n",
        "err_dict = make_err_dict(url)\n",
        "# OR Downloaded as a file on your local machine\n",
        "#fn = 'count_1edit.txt'\n",
        "#err_dict = make_err_dict(fn)"
      ],
      "execution_count": null,
      "outputs": [
        {
          "output_type": "stream",
          "text": [
            "***Warning*** Bad line 415: |\t19\n"
          ],
          "name": "stdout"
        }
      ]
    },
    {
      "cell_type": "code",
      "metadata": {
        "id": "u-Q0dMcD9SYO",
        "colab": {
          "base_uri": "https://localhost:8080/"
        },
        "outputId": "3a592115-b27a-4e1d-90f4-702854b11294"
      },
      "source": [
        "#count('e'|'i'): Sub e for i\n",
        "# This shd return 917\n",
        "err_dict['e','i']"
      ],
      "execution_count": null,
      "outputs": [
        {
          "output_type": "execute_result",
          "data": {
            "text/plain": [
              "917"
            ]
          },
          "metadata": {
            "tags": []
          },
          "execution_count": 13
        }
      ]
    },
    {
      "cell_type": "code",
      "metadata": {
        "id": "Zt1ORvVJ9SYO",
        "colab": {
          "base_uri": "https://localhost:8080/"
        },
        "outputId": "30b80cdc-185f-4c6d-f75f-26452a6e3ef3"
      },
      "source": [
        "#count('es'|'e'): Insert s after e\n",
        "#This should return 136\n",
        "err_dict['es','e']"
      ],
      "execution_count": null,
      "outputs": [
        {
          "output_type": "execute_result",
          "data": {
            "text/plain": [
              "136"
            ]
          },
          "metadata": {
            "tags": []
          },
          "execution_count": 14
        }
      ]
    },
    {
      "cell_type": "markdown",
      "metadata": {
        "id": "S0nmcV4s9SYP"
      },
      "source": [
        "Some errors are not that frequent:"
      ]
    },
    {
      "cell_type": "code",
      "metadata": {
        "id": "lTxTVxdK9SYP",
        "colab": {
          "base_uri": "https://localhost:8080/"
        },
        "outputId": "43672482-3964-45f2-a728-80dc9e835dbc"
      },
      "source": [
        "err_dict['eh','he']"
      ],
      "execution_count": null,
      "outputs": [
        {
          "output_type": "execute_result",
          "data": {
            "text/plain": [
              "6"
            ]
          },
          "metadata": {
            "tags": []
          },
          "execution_count": 33
        }
      ]
    },
    {
      "cell_type": "markdown",
      "metadata": {
        "id": "nZD2fHHP9SYP"
      },
      "source": [
        "Some errors we simply have no data for:"
      ]
    },
    {
      "cell_type": "code",
      "metadata": {
        "id": "KUh-cIdS9SYQ",
        "scrolled": true,
        "colab": {
          "base_uri": "https://localhost:8080/",
          "height": 165
        },
        "outputId": "d71c2279-8a8c-4c51-cd83-6543815c137e"
      },
      "source": [
        "err_dict['he','eh']"
      ],
      "execution_count": null,
      "outputs": [
        {
          "output_type": "error",
          "ename": "KeyError",
          "evalue": "ignored",
          "traceback": [
            "\u001b[0;31m---------------------------------------------------------------------------\u001b[0m",
            "\u001b[0;31mKeyError\u001b[0m                                  Traceback (most recent call last)",
            "\u001b[0;32m<ipython-input-34-96e4b408fe21>\u001b[0m in \u001b[0;36m<module>\u001b[0;34m()\u001b[0m\n\u001b[0;32m----> 1\u001b[0;31m \u001b[0merr_dict\u001b[0m\u001b[0;34m[\u001b[0m\u001b[0;34m'he'\u001b[0m\u001b[0;34m,\u001b[0m\u001b[0;34m'eh'\u001b[0m\u001b[0;34m]\u001b[0m\u001b[0;34m\u001b[0m\u001b[0;34m\u001b[0m\u001b[0m\n\u001b[0m",
            "\u001b[0;31mKeyError\u001b[0m: ('he', 'eh')"
          ]
        }
      ]
    },
    {
      "cell_type": "markdown",
      "metadata": {
        "id": "IzwirgA59SYQ"
      },
      "source": [
        "To compute an error probability, we need the ngram model (`ugr_letter_freqs` and `bigr_letter_freqs`) and the error counts data (`err_dict`), both loaded in cells above this one.\n",
        "\n",
        "Using the probability formula for an insertion on Slide 24, we get:"
      ]
    },
    {
      "cell_type": "code",
      "metadata": {
        "id": "FYcHAm2R9SYQ",
        "colab": {
          "base_uri": "https://localhost:8080/"
        },
        "outputId": "c3d43894-8e28-4e73-80f4-ae74ffe38e7d"
      },
      "source": [
        "#P(es|e)\n",
        "err_dict[\"es\",\"e\"]/letter_freqs['e']"
      ],
      "execution_count": null,
      "outputs": [
        {
          "output_type": "execute_result",
          "data": {
            "text/plain": [
              "0.002943022224145766"
            ]
          },
          "metadata": {
            "tags": []
          },
          "execution_count": 35
        }
      ]
    },
    {
      "cell_type": "markdown",
      "metadata": {
        "id": "wZ-TIPgC9SYQ"
      },
      "source": [
        "From Peter Norvig's `spell.py`, the function `candidates` defined in the next cell is an amended version of Norvig's Python function.  It generates candidate corrections one edit distance away from a misspelling."
      ]
    },
    {
      "cell_type": "code",
      "metadata": {
        "id": "h25emKv49SYQ"
      },
      "source": [
        "def candidates(word): \n",
        "    \"Generate possible spelling corrections for word.\"\n",
        "    return (known([word]) or known(edits1(word)) or  [word])\n",
        "\n",
        "\n",
        "def known(words): \n",
        "    \"The subset of `words` that appear in the dictionary of WORDS.\"\n",
        "    return set(w for w in words if w in WORDS)\n",
        "\n",
        "def edits1(word):\n",
        "    \"All 'words' that are one edit operation away from `word`.\"\n",
        "    letters    = 'abcdefghijklmnopqrstuvwxyz'\n",
        "    splits     = [(word[:i], word[i:])    for i in range(len(word) + 1)]\n",
        "    deletes    = [L + R[1:]               for L, R in splits if R]\n",
        "    transposes = [L + R[1] + R[0] + R[2:] for L, R in splits if len(R)>1]\n",
        "    replaces   = [L + c + R[1:]           for L, R in splits if R for c in letters]\n",
        "    inserts    = [L + c + R               for L, R in splits for c in letters]\n",
        "    return set(deletes + transposes + replaces + inserts)\n"
      ],
      "execution_count": null,
      "outputs": []
    },
    {
      "cell_type": "code",
      "metadata": {
        "id": "DFZyehSh9SYR",
        "colab": {
          "base_uri": "https://localhost:8080/"
        },
        "outputId": "225a1636-27cf-4f81-f034-a8b3d5497cfd"
      },
      "source": [
        "candidates('potch')"
      ],
      "execution_count": null,
      "outputs": [
        {
          "output_type": "execute_result",
          "data": {
            "text/plain": [
              "{'notch', 'patch', 'pitch', 'poach', 'porch', 'pouch'}"
            ]
          },
          "metadata": {
            "tags": []
          },
          "execution_count": 16
        }
      ]
    },
    {
      "cell_type": "code",
      "metadata": {
        "id": "CeUQSrBT9SYR",
        "colab": {
          "base_uri": "https://localhost:8080/"
        },
        "outputId": "d9360eb4-9ca9-4ac2-95e3-13dcaf32fef0"
      },
      "source": [
        "candidates('pooch')"
      ],
      "execution_count": null,
      "outputs": [
        {
          "output_type": "execute_result",
          "data": {
            "text/plain": [
              "{'cooch', 'hooch', 'poach', 'porch', 'pouch'}"
            ]
          },
          "metadata": {
            "tags": []
          },
          "execution_count": 17
        }
      ]
    },
    {
      "cell_type": "markdown",
      "metadata": {
        "id": "yDWkKPgl9SYR"
      },
      "source": [
        "Our model doesn't know the word \"pooch\" (it just didn't show up in Brown).  If you give `candidates` a word that **is** in Brown, it only returns one candidate:"
      ]
    },
    {
      "cell_type": "markdown",
      "metadata": {
        "id": "DLv1qyt49SYR"
      },
      "source": [
        "As a result, the spelling correcter we're building won't handle mispellings that are real words (\"thew\" for \"the\")."
      ]
    },
    {
      "cell_type": "markdown",
      "metadata": {
        "id": "JuIgJmRS9SYS"
      },
      "source": [
        "## The assignment"
      ]
    },
    {
      "cell_type": "markdown",
      "metadata": {
        "id": "PSAcWcPi9SYS"
      },
      "source": [
        "Here is a sentence with a mispelling.  All punctuation has been removed because your error model doesn't include\n",
        "punctuation errors.\n",
        "\n",
        "```\n",
        "I found John on the back potch of his house stroking a big brown dog\n",
        "```\n",
        "\n",
        "1.  Use `err_dict`, and `letter_freqs` to compute your error probabilities (P(x | w))\n",
        "    using the formulas on the slides.  You can safely assume any misspelling in the sentence above is 1 edit\n",
        "    distance from the intended word, and that's what the candidate-generating code below does.\n",
        "\n",
        "2.  Find the candidate correct words using Norvig's `candidates` function defined below.  For instance, given the mispelling \"thorw\", `candidates` would find\n",
        "\n",
        "    ```\n",
        "    >>> candidates('thorw')\n",
        "    {'thor', 'thorn', 'thorp', 'throw'}\n",
        "    ```\n",
        "\n",
        "    The inclusion of 'thor' and 'thorp' is probably because they are proper names and we have lower-cased the corpus.     Don't worry about this.  For this assignment, just consider every candidate `candidates` returns.\n",
        "\n",
        "3.  For our language model we will compute the probability of each candidate  word w in context:\n",
        "\n",
        "    $\\mbox{p}_{con}(\\mbox{w})$.  \n",
        "    \n",
        "    To compute that, use the bigram language model defined by the lower-cased Brown corpus we loaded above to compute \n",
        "    \n",
        "    $\\mbox{p}_{con}(\\mbox{w})$ \n",
        "    \n",
        "    (the probability of candidate word w in context). You do not     have to consider only the previous word when you use a bigram model.  You can take both the preceding word  prev and the following word foll into account by computing the probability of  the 3-word sequence consisting of prev, w, foll; so  \n",
        "\n",
        "    $\\mbox{p}_{con}(\\mbox{w})$, \n",
        "\n",
        "    the provbability of candidate word w in the context of words prev and foll, is:\n",
        "    \n",
        "    $\\mbox{p}_{con}(\\mbox{w}) = \\mbox{p}(\\mbox{prev}) * \\mbox{p}(\\mbox{w} \\mid \\mbox{prev}) * \\mbox{p}(\\mbox{foll} \\mid \\mbox{c})$\n",
        "    \n",
        "    So for example if our given sentence included the three word sequence \"boys thorw the\" and we wanted to \n",
        "    consider to correct it to \"boys throw the\", the candidate word would be *throw* and we would have: \n",
        "    \n",
        "    $$\\mbox{p}_{con}(\\mbox{throw}) = \\mbox{p}(\\mbox{boys}) * \\mbox{p}(\\mbox{throw} \\mid \\mbox{boys}) * \n",
        "       \\mbox{p}(\\mbox{the} \\mid \\mbox{throw})$$\n",
        "    \n",
        "    This uses a unigram model for $\\mbox{p}(\\mbox{boys})$  and a bigram model for $\\mbox{p}(\\mbox{throw} \\mid \\mbox{boys})$ and  $\\mbox{p}(\\mbox{the} \\mid \\mbox{throw})$. You should use the counts provided above for the Brown data earelier in this notebook to compute unsmoothed MLE probabilities for the unigrams and the bigrams.\n",
        "\n",
        "4.  For each candidate word w, use the noisy channel model to score all the candidates. $$\\mbox{p}(x \\mid \\mbox{w}) * p_{con}(\\mbox{w})$$\n",
        "\n",
        "5.  State what the best correction the model has chosen is.\n",
        "\n",
        "6.  To turn in.  An edited version of this Python notebook that you will save (using the pull down menu \"File\" and choosing \"Download .ipynb\") and rename to\n",
        "\n",
        "    ```\n",
        "    [first_name]_[last_name]_noisy_channel_notebook.ipynb\n",
        "    ```\n",
        "\n",
        "    for example \"jane_smith_noisy_channel_notebook.ipynb\".  You can create new cells by clicking on any existing cell and hovering over the center of the lower edge or the upper edge (either will work) until small +Code or +Text tabs appear. Click on whichever kind of new cell you want.  Use the upper edge if you want your new cell to appear **before** the existing cell; use the lower edge for a new cell **after** the existing cell.\n"
      ]
    },
    {
      "cell_type": "code",
      "metadata": {
        "id": "zTqOif1g9SYS"
      },
      "source": [
        ""
      ],
      "execution_count": null,
      "outputs": []
    }
  ]
}