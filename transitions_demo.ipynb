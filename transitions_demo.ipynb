{
 "cells": [
  {
   "cell_type": "markdown",
   "metadata": {},
   "source": [
    "# Transitions Demo"
   ]
  },
  {
   "cell_type": "markdown",
   "metadata": {},
   "source": [
    "## Using transitions"
   ]
  },
  {
   "cell_type": "markdown",
   "metadata": {},
   "source": [
    "Do **not** use py386 environment with this NB."
   ]
  },
  {
   "cell_type": "markdown",
   "metadata": {},
   "source": [
    "This demo is simply a notebook adapted from the [transitions Github README page.](https://github.com/pytransitions/transitions)  with afew small addons to support\n",
    "language processing."
   ]
  },
  {
   "cell_type": "code",
   "execution_count": 91,
   "metadata": {},
   "outputs": [],
   "source": [
    "from transitions import Machine, MachineError\n",
    "import random\n",
    "\n",
    "class NarcolepticSuperhero(object):\n",
    "\n",
    "    # Define some states. Most of the time, narcoleptic superheroes are just like\n",
    "    # everyone else. Except for...\n",
    "    # asleep will be the init state.\n",
    "    states = ['asleep', 'hanging out', 'hungry', 'sweaty', 'saving the world']\n",
    "\n",
    "    def __init__(self, name):\n",
    "\n",
    "        # No anonymous superheroes on my watch! Every narcoleptic superhero gets\n",
    "        # a name. Any name at all. SleepyMan. SlumberGirl. You get the idea.\n",
    "        self.name = name\n",
    "\n",
    "        # What have we accomplished today?\n",
    "        self.kittens_rescued = 0\n",
    "\n",
    "        # Initialize the state machine\n",
    "        self.machine = Machine(model=self, states=NarcolepticSuperhero.states, initial='asleep')\n",
    "\n",
    "        # Add some transitions. We could also define these using a static list of\n",
    "        # dictionaries, as we did with states above, and then pass the list to\n",
    "        # the Machine initializer as the transitions= argument.\n",
    "\n",
    "        # At some point, every superhero must rise and shine.\n",
    "        self.machine.add_transition(trigger='wake_up', source='asleep', dest='hanging out')\n",
    "\n",
    "        # Superheroes need to keep in shape.\n",
    "        self.machine.add_transition('work_out', 'hanging out', 'hungry')\n",
    "\n",
    "        # Those calories won't replenish themselves!\n",
    "        self.machine.add_transition('eat', 'hungry', 'hanging out')\n",
    "\n",
    "        # Superheroes are always on call. ALWAYS. But they're not always\n",
    "        # dressed in work-appropriate clothing.\n",
    "        self.machine.add_transition('distress_call', '*', 'saving the world',\n",
    "                         before='change_into_super_secret_costume')\n",
    "\n",
    "        # When they get off work, they're all sweaty and disgusting. But before\n",
    "        # they do anything else, they have to meticulously log their latest\n",
    "        # escapades. Because the legal department says so.\n",
    "        self.machine.add_transition('complete_mission', 'saving the world', 'sweaty',\n",
    "                         after='update_journal')\n",
    "\n",
    "        # Sweat is a disorder that can be remedied with water.\n",
    "        # Unless you've had a particularly long day, in which case... bed time!\n",
    "        self.machine.add_transition('clean_up', 'sweaty', 'asleep', conditions=['is_exhausted'])\n",
    "        self.machine.add_transition('clean_up', 'sweaty', 'hanging out')\n",
    "\n",
    "        # Our NarcolepticSuperhero can fall asleep at pretty much any time.\n",
    "        self.machine.add_transition('nap', '*', 'asleep')\n",
    "\n",
    "    def update_journal(self):\n",
    "        \"\"\" Dear Diary, today I saved Mr. Whiskers. Again. \"\"\"\n",
    "        self.kittens_rescued += 1\n",
    "\n",
    "    @property\n",
    "    def is_exhausted(self):\n",
    "        \"\"\" Basically a coin toss. \"\"\"\n",
    "        return random.random() < 0.5\n",
    "\n",
    "    def change_into_super_secret_costume(self):\n",
    "        print(\"Beauty, eh?\")"
   ]
  },
  {
   "cell_type": "markdown",
   "metadata": {},
   "source": [
    "There, now you've baked a state machine into NarcolepticSuperhero. Let's take him/her/it out for a spin..."
   ]
  },
  {
   "cell_type": "code",
   "execution_count": 2,
   "metadata": {},
   "outputs": [
    {
     "data": {
      "text/plain": [
       "'asleep'"
      ]
     },
     "execution_count": 2,
     "metadata": {},
     "output_type": "execute_result"
    }
   ],
   "source": [
    "batman = NarcolepticSuperhero(\"Batman\")\n",
    "batman.state\n",
    "'asleep'"
   ]
  },
  {
   "cell_type": "code",
   "execution_count": 3,
   "metadata": {},
   "outputs": [
    {
     "data": {
      "text/plain": [
       "'hanging out'"
      ]
     },
     "execution_count": 3,
     "metadata": {},
     "output_type": "execute_result"
    }
   ],
   "source": [
    "batman.wake_up()\n",
    "batman.state\n",
    "'hanging out'"
   ]
  },
  {
   "cell_type": "code",
   "execution_count": 4,
   "metadata": {},
   "outputs": [
    {
     "data": {
      "text/plain": [
       "'asleep'"
      ]
     },
     "execution_count": 4,
     "metadata": {},
     "output_type": "execute_result"
    }
   ],
   "source": [
    "batman.nap()\n",
    "batman.state\n",
    "'asleep'"
   ]
  },
  {
   "cell_type": "code",
   "execution_count": 6,
   "metadata": {},
   "outputs": [
    {
     "ename": "MachineError",
     "evalue": "\"Can't trigger event clean_up from state asleep!\"",
     "output_type": "error",
     "traceback": [
      "\u001b[0;31m---------------------------------------------------------------------------\u001b[0m",
      "\u001b[0;31mMachineError\u001b[0m                              Traceback (most recent call last)",
      "\u001b[0;32m<ipython-input-6-2d3cf76d8bfe>\u001b[0m in \u001b[0;36m<module>\u001b[0;34m\u001b[0m\n\u001b[0;32m----> 1\u001b[0;31m \u001b[0mbatman\u001b[0m\u001b[0;34m.\u001b[0m\u001b[0mclean_up\u001b[0m\u001b[0;34m(\u001b[0m\u001b[0;34m)\u001b[0m\u001b[0;34m\u001b[0m\u001b[0;34m\u001b[0m\u001b[0m\n\u001b[0m\u001b[1;32m      2\u001b[0m \u001b[0;31m#MachineError: \"Can't trigger event clean_up from state asleep!\"\u001b[0m\u001b[0;34m\u001b[0m\u001b[0;34m\u001b[0m\u001b[0;34m\u001b[0m\u001b[0m\n",
      "\u001b[0;32m~/opt/anaconda3/lib/python3.7/site-packages/transitions/core.py\u001b[0m in \u001b[0;36mtrigger\u001b[0;34m(self, model, *args, **kwargs)\u001b[0m\n\u001b[1;32m    391\u001b[0m         \u001b[0;31m# Machine._process should not be called somewhere else. That's why it should not be exposed\u001b[0m\u001b[0;34m\u001b[0m\u001b[0;34m\u001b[0m\u001b[0;34m\u001b[0m\u001b[0m\n\u001b[1;32m    392\u001b[0m         \u001b[0;31m# to Machine users.\u001b[0m\u001b[0;34m\u001b[0m\u001b[0;34m\u001b[0m\u001b[0;34m\u001b[0m\u001b[0m\n\u001b[0;32m--> 393\u001b[0;31m         \u001b[0;32mreturn\u001b[0m \u001b[0mself\u001b[0m\u001b[0;34m.\u001b[0m\u001b[0mmachine\u001b[0m\u001b[0;34m.\u001b[0m\u001b[0m_process\u001b[0m\u001b[0;34m(\u001b[0m\u001b[0mfunc\u001b[0m\u001b[0;34m)\u001b[0m\u001b[0;34m\u001b[0m\u001b[0;34m\u001b[0m\u001b[0m\n\u001b[0m\u001b[1;32m    394\u001b[0m \u001b[0;34m\u001b[0m\u001b[0m\n\u001b[1;32m    395\u001b[0m     \u001b[0;32mdef\u001b[0m \u001b[0m_trigger\u001b[0m\u001b[0;34m(\u001b[0m\u001b[0mself\u001b[0m\u001b[0;34m,\u001b[0m \u001b[0mmodel\u001b[0m\u001b[0;34m,\u001b[0m \u001b[0;34m*\u001b[0m\u001b[0margs\u001b[0m\u001b[0;34m,\u001b[0m \u001b[0;34m**\u001b[0m\u001b[0mkwargs\u001b[0m\u001b[0;34m)\u001b[0m\u001b[0;34m:\u001b[0m\u001b[0;34m\u001b[0m\u001b[0;34m\u001b[0m\u001b[0m\n",
      "\u001b[0;32m~/opt/anaconda3/lib/python3.7/site-packages/transitions/core.py\u001b[0m in \u001b[0;36m_process\u001b[0;34m(self, trigger)\u001b[0m\n\u001b[1;32m   1146\u001b[0m             \u001b[0;32mif\u001b[0m \u001b[0;32mnot\u001b[0m \u001b[0mself\u001b[0m\u001b[0;34m.\u001b[0m\u001b[0m_transition_queue\u001b[0m\u001b[0;34m:\u001b[0m\u001b[0;34m\u001b[0m\u001b[0;34m\u001b[0m\u001b[0m\n\u001b[1;32m   1147\u001b[0m                 \u001b[0;31m# if trigger raises an Error, it has to be handled by the Machine.process caller\u001b[0m\u001b[0;34m\u001b[0m\u001b[0;34m\u001b[0m\u001b[0;34m\u001b[0m\u001b[0m\n\u001b[0;32m-> 1148\u001b[0;31m                 \u001b[0;32mreturn\u001b[0m \u001b[0mtrigger\u001b[0m\u001b[0;34m(\u001b[0m\u001b[0;34m)\u001b[0m\u001b[0;34m\u001b[0m\u001b[0;34m\u001b[0m\u001b[0m\n\u001b[0m\u001b[1;32m   1149\u001b[0m             \u001b[0;32melse\u001b[0m\u001b[0;34m:\u001b[0m\u001b[0;34m\u001b[0m\u001b[0;34m\u001b[0m\u001b[0m\n\u001b[1;32m   1150\u001b[0m                 \u001b[0;32mraise\u001b[0m \u001b[0mMachineError\u001b[0m\u001b[0;34m(\u001b[0m\u001b[0;34m\"Attempt to process events synchronously while transition queue is not empty!\"\u001b[0m\u001b[0;34m)\u001b[0m\u001b[0;34m\u001b[0m\u001b[0;34m\u001b[0m\u001b[0m\n",
      "\u001b[0;32m~/opt/anaconda3/lib/python3.7/site-packages/transitions/core.py\u001b[0m in \u001b[0;36m_trigger\u001b[0;34m(self, model, *args, **kwargs)\u001b[0m\n\u001b[1;32m    407\u001b[0m                 \u001b[0;32mreturn\u001b[0m \u001b[0;32mFalse\u001b[0m\u001b[0;34m\u001b[0m\u001b[0;34m\u001b[0m\u001b[0m\n\u001b[1;32m    408\u001b[0m             \u001b[0;32melse\u001b[0m\u001b[0;34m:\u001b[0m\u001b[0;34m\u001b[0m\u001b[0;34m\u001b[0m\u001b[0m\n\u001b[0;32m--> 409\u001b[0;31m                 \u001b[0;32mraise\u001b[0m \u001b[0mMachineError\u001b[0m\u001b[0;34m(\u001b[0m\u001b[0mmsg\u001b[0m\u001b[0;34m)\u001b[0m\u001b[0;34m\u001b[0m\u001b[0;34m\u001b[0m\u001b[0m\n\u001b[0m\u001b[1;32m    410\u001b[0m         \u001b[0mevent_data\u001b[0m \u001b[0;34m=\u001b[0m \u001b[0mEventData\u001b[0m\u001b[0;34m(\u001b[0m\u001b[0mstate\u001b[0m\u001b[0;34m,\u001b[0m \u001b[0mself\u001b[0m\u001b[0;34m,\u001b[0m \u001b[0mself\u001b[0m\u001b[0;34m.\u001b[0m\u001b[0mmachine\u001b[0m\u001b[0;34m,\u001b[0m \u001b[0mmodel\u001b[0m\u001b[0;34m,\u001b[0m \u001b[0margs\u001b[0m\u001b[0;34m=\u001b[0m\u001b[0margs\u001b[0m\u001b[0;34m,\u001b[0m \u001b[0mkwargs\u001b[0m\u001b[0;34m=\u001b[0m\u001b[0mkwargs\u001b[0m\u001b[0;34m)\u001b[0m\u001b[0;34m\u001b[0m\u001b[0;34m\u001b[0m\u001b[0m\n\u001b[1;32m    411\u001b[0m         \u001b[0;32mreturn\u001b[0m \u001b[0mself\u001b[0m\u001b[0;34m.\u001b[0m\u001b[0m_process\u001b[0m\u001b[0;34m(\u001b[0m\u001b[0mevent_data\u001b[0m\u001b[0;34m)\u001b[0m\u001b[0;34m\u001b[0m\u001b[0;34m\u001b[0m\u001b[0m\n",
      "\u001b[0;31mMachineError\u001b[0m: \"Can't trigger event clean_up from state asleep!\""
     ]
    }
   ],
   "source": [
    "batman.clean_up()\n",
    "#MachineError: \"Can't trigger event clean_up from state asleep!\""
   ]
  },
  {
   "cell_type": "code",
   "execution_count": 7,
   "metadata": {},
   "outputs": [
    {
     "data": {
      "text/plain": [
       "'hungry'"
      ]
     },
     "execution_count": 7,
     "metadata": {},
     "output_type": "execute_result"
    }
   ],
   "source": [
    "batman.wake_up()\n",
    "batman.work_out()\n",
    "batman.state\n",
    "#'hungry'"
   ]
  },
  {
   "cell_type": "code",
   "execution_count": 8,
   "metadata": {},
   "outputs": [
    {
     "data": {
      "text/plain": [
       "0"
      ]
     },
     "execution_count": 8,
     "metadata": {},
     "output_type": "execute_result"
    }
   ],
   "source": [
    "# Batman still hasn't done anything useful...\n",
    "batman.kittens_rescued\n",
    "#0"
   ]
  },
  {
   "cell_type": "code",
   "execution_count": 9,
   "metadata": {},
   "outputs": [
    {
     "name": "stdout",
     "output_type": "stream",
     "text": [
      "Beauty, eh?\n"
     ]
    },
    {
     "data": {
      "text/plain": [
       "True"
      ]
     },
     "execution_count": 9,
     "metadata": {},
     "output_type": "execute_result"
    }
   ],
   "source": [
    "# We now take you live to the scene of a horrific kitten entreement...\n",
    "batman.distress_call()\n",
    "#'Beauty, eh?'"
   ]
  },
  {
   "cell_type": "code",
   "execution_count": 10,
   "metadata": {},
   "outputs": [
    {
     "data": {
      "text/plain": [
       "'saving the world'"
      ]
     },
     "execution_count": 10,
     "metadata": {},
     "output_type": "execute_result"
    }
   ],
   "source": [
    "batman.state\n",
    "#'saving the world'"
   ]
  },
  {
   "cell_type": "code",
   "execution_count": 11,
   "metadata": {},
   "outputs": [
    {
     "data": {
      "text/plain": [
       "'sweaty'"
      ]
     },
     "execution_count": 11,
     "metadata": {},
     "output_type": "execute_result"
    }
   ],
   "source": [
    "# Back to the crib.\n",
    "batman.complete_mission()\n",
    "batman.state\n",
    "#'sweaty'"
   ]
  },
  {
   "cell_type": "code",
   "execution_count": 13,
   "metadata": {},
   "outputs": [
    {
     "data": {
      "text/plain": [
       "'asleep'"
      ]
     },
     "execution_count": 13,
     "metadata": {},
     "output_type": "execute_result"
    }
   ],
   "source": [
    "batman.clean_up()\n",
    "batman.state\n",
    "#'asleep'   # Too tired to shower!"
   ]
  },
  {
   "cell_type": "code",
   "execution_count": 14,
   "metadata": {},
   "outputs": [
    {
     "data": {
      "text/plain": [
       "1"
      ]
     },
     "execution_count": 14,
     "metadata": {},
     "output_type": "execute_result"
    }
   ],
   "source": [
    "# Another productive day, Alfred.\n",
    "batman.kittens_rescued\n",
    "#1"
   ]
  },
  {
   "cell_type": "markdown",
   "metadata": {},
   "source": [
    "While we cannot read the mind of the actual batman, we surely can visualize the current state of our NarcolepticSuperhero."
   ]
  },
  {
   "cell_type": "markdown",
   "metadata": {},
   "source": [
    "Have a look at the Diagrams extentions if you want to know how."
   ]
  },
  {
   "cell_type": "markdown",
   "metadata": {},
   "source": [
    "## Diagrams (incomplete)"
   ]
  },
  {
   "cell_type": "markdown",
   "metadata": {},
   "source": [
    "The following simple version of drawing works on the Narcoleptic superhero.\n",
    "\n",
    "On local machine, just flip back to the Home tab to check out the '.png\" file that will have been saved trhere."
   ]
  },
  {
   "cell_type": "code",
   "execution_count": 15,
   "metadata": {},
   "outputs": [],
   "source": [
    "from transitions.extensions import GraphMachine as Machine\n",
    "#m = Model()\n",
    "m = NarcolepticSuperhero(\"Robin\")\n",
    "# without further arguments pygraphviz will be used\n",
    "#machine = Machine(model=m)\n",
    "# when you want to use graphviz explicitely\n",
    "#machine = Machine(model=m, use_pygraphviz=False, ...)\n",
    "# in cases where auto transitions should be visible\n",
    "#machine = Machine(model=m, show_auto_transitions=True, ...)\n",
    "\n",
    "# draw the whole graph ...\n",
    "m.get_graph().draw('robin_diagram.png', prog='dot')\n",
    "# ... or just the region of interest\n",
    "# (previous state, active state and all reachable states)\n",
    "#roi = m.get_graph(show_roi=True).draw('my_state_diagram.png', prog='dot')"
   ]
  },
  {
   "cell_type": "markdown",
   "metadata": {},
   "source": [
    "## Example Two.  The Sheep Language"
   ]
  },
  {
   "cell_type": "code",
   "execution_count": 115,
   "metadata": {},
   "outputs": [],
   "source": [
    "class SheepLanguage(object):\n",
    "\n",
    "    # Define some states. Most of the time, narcoleptic superheroes are just like\n",
    "    # everyone else. Except for...\n",
    "    # asleep will be the init state.\n",
    "    states = ['Start','b', 'a1', 'a2','End']\n",
    "    accept = False\n",
    "\n",
    "    def __init__(self):\n",
    "\n",
    "        # No anonymous superheroes on my watch! Every narcoleptic superhero gets\n",
    "        # a name. Any name at all. SleepyMan. SlumberGirl. You get the idea.\n",
    "        #self.name = name\n",
    "\n",
    "        # How many as have we seen?\n",
    "        self.as_seen = 0\n",
    "\n",
    "        # Initialize the state machine\n",
    "        self.machine = Machine(model=self, states=SheepLanguage.states, initial='Start')\n",
    "\n",
    "        # Add some transitions. We could also define these using a static list of\n",
    "        # dictionaries, as we did with states above, and then pass the list to\n",
    "        # the Machine initializer as the transitions= argument.\n",
    "\n",
    "        # See b in start state\n",
    "        self.machine.add_transition(trigger='b', source='Start', dest='b')\n",
    "\n",
    "        # See first a in b state\n",
    "        self.machine.add_transition('a', 'b', 'a1')\n",
    "\n",
    "        # See second a in a1 state\n",
    "        self.machine.add_transition('a', 'a1', 'a2')\n",
    "\n",
    "        # See a in a2 state\n",
    "        self.machine.add_transition('a','a2','a2')\n",
    "        \n",
    "        # See ! in a2 state\n",
    "        self.machine.add_transition('!','a2','End', after='accept_string')\n",
    "\n",
    "    def accept_string(self):\n",
    "        \"\"\" Everything is good. \"\"\"\n",
    "        self.accept = True\n",
    "        \n",
    "    def consume_string (self, in_str):\n",
    "        for c in in_str:\n",
    "            try:\n",
    "               getattr(self,c)()\n",
    "            except MachineError:\n",
    "                # Necessary because this may be a final state allowing no input.\n",
    "                self.accept = False\n",
    "                return self.accept\n",
    "        return self.accept"
   ]
  },
  {
   "cell_type": "code",
   "execution_count": 103,
   "metadata": {},
   "outputs": [],
   "source": [
    "sl = SheepLanguage()\n",
    "#sl.get_graph().draw('sheep_language.png', prog='dot')"
   ]
  },
  {
   "cell_type": "code",
   "execution_count": 104,
   "metadata": {},
   "outputs": [
    {
     "data": {
      "text/plain": [
       "True"
      ]
     },
     "execution_count": 104,
     "metadata": {},
     "output_type": "execute_result"
    }
   ],
   "source": [
    "sl.b()"
   ]
  },
  {
   "cell_type": "code",
   "execution_count": 105,
   "metadata": {},
   "outputs": [
    {
     "data": {
      "text/plain": [
       "'b'"
      ]
     },
     "execution_count": 105,
     "metadata": {},
     "output_type": "execute_result"
    }
   ],
   "source": [
    "sl.state"
   ]
  },
  {
   "cell_type": "code",
   "execution_count": 106,
   "metadata": {},
   "outputs": [
    {
     "ename": "MachineError",
     "evalue": "\"Can't trigger event b from state b!\"",
     "output_type": "error",
     "traceback": [
      "\u001b[0;31m---------------------------------------------------------------------------\u001b[0m",
      "\u001b[0;31mMachineError\u001b[0m                              Traceback (most recent call last)",
      "\u001b[0;32m<ipython-input-106-d9ccf7c0c07b>\u001b[0m in \u001b[0;36m<module>\u001b[0;34m\u001b[0m\n\u001b[0;32m----> 1\u001b[0;31m \u001b[0msl\u001b[0m\u001b[0;34m.\u001b[0m\u001b[0mb\u001b[0m\u001b[0;34m(\u001b[0m\u001b[0;34m)\u001b[0m\u001b[0;34m\u001b[0m\u001b[0;34m\u001b[0m\u001b[0m\n\u001b[0m",
      "\u001b[0;32m~/opt/anaconda3/lib/python3.7/site-packages/transitions/core.py\u001b[0m in \u001b[0;36mtrigger\u001b[0;34m(self, model, *args, **kwargs)\u001b[0m\n\u001b[1;32m    391\u001b[0m         \u001b[0;31m# Machine._process should not be called somewhere else. That's why it should not be exposed\u001b[0m\u001b[0;34m\u001b[0m\u001b[0;34m\u001b[0m\u001b[0;34m\u001b[0m\u001b[0m\n\u001b[1;32m    392\u001b[0m         \u001b[0;31m# to Machine users.\u001b[0m\u001b[0;34m\u001b[0m\u001b[0;34m\u001b[0m\u001b[0;34m\u001b[0m\u001b[0m\n\u001b[0;32m--> 393\u001b[0;31m         \u001b[0;32mreturn\u001b[0m \u001b[0mself\u001b[0m\u001b[0;34m.\u001b[0m\u001b[0mmachine\u001b[0m\u001b[0;34m.\u001b[0m\u001b[0m_process\u001b[0m\u001b[0;34m(\u001b[0m\u001b[0mfunc\u001b[0m\u001b[0;34m)\u001b[0m\u001b[0;34m\u001b[0m\u001b[0;34m\u001b[0m\u001b[0m\n\u001b[0m\u001b[1;32m    394\u001b[0m \u001b[0;34m\u001b[0m\u001b[0m\n\u001b[1;32m    395\u001b[0m     \u001b[0;32mdef\u001b[0m \u001b[0m_trigger\u001b[0m\u001b[0;34m(\u001b[0m\u001b[0mself\u001b[0m\u001b[0;34m,\u001b[0m \u001b[0mmodel\u001b[0m\u001b[0;34m,\u001b[0m \u001b[0;34m*\u001b[0m\u001b[0margs\u001b[0m\u001b[0;34m,\u001b[0m \u001b[0;34m**\u001b[0m\u001b[0mkwargs\u001b[0m\u001b[0;34m)\u001b[0m\u001b[0;34m:\u001b[0m\u001b[0;34m\u001b[0m\u001b[0;34m\u001b[0m\u001b[0m\n",
      "\u001b[0;32m~/opt/anaconda3/lib/python3.7/site-packages/transitions/core.py\u001b[0m in \u001b[0;36m_process\u001b[0;34m(self, trigger)\u001b[0m\n\u001b[1;32m   1146\u001b[0m             \u001b[0;32mif\u001b[0m \u001b[0;32mnot\u001b[0m \u001b[0mself\u001b[0m\u001b[0;34m.\u001b[0m\u001b[0m_transition_queue\u001b[0m\u001b[0;34m:\u001b[0m\u001b[0;34m\u001b[0m\u001b[0;34m\u001b[0m\u001b[0m\n\u001b[1;32m   1147\u001b[0m                 \u001b[0;31m# if trigger raises an Error, it has to be handled by the Machine.process caller\u001b[0m\u001b[0;34m\u001b[0m\u001b[0;34m\u001b[0m\u001b[0;34m\u001b[0m\u001b[0m\n\u001b[0;32m-> 1148\u001b[0;31m                 \u001b[0;32mreturn\u001b[0m \u001b[0mtrigger\u001b[0m\u001b[0;34m(\u001b[0m\u001b[0;34m)\u001b[0m\u001b[0;34m\u001b[0m\u001b[0;34m\u001b[0m\u001b[0m\n\u001b[0m\u001b[1;32m   1149\u001b[0m             \u001b[0;32melse\u001b[0m\u001b[0;34m:\u001b[0m\u001b[0;34m\u001b[0m\u001b[0;34m\u001b[0m\u001b[0m\n\u001b[1;32m   1150\u001b[0m                 \u001b[0;32mraise\u001b[0m \u001b[0mMachineError\u001b[0m\u001b[0;34m(\u001b[0m\u001b[0;34m\"Attempt to process events synchronously while transition queue is not empty!\"\u001b[0m\u001b[0;34m)\u001b[0m\u001b[0;34m\u001b[0m\u001b[0;34m\u001b[0m\u001b[0m\n",
      "\u001b[0;32m~/opt/anaconda3/lib/python3.7/site-packages/transitions/core.py\u001b[0m in \u001b[0;36m_trigger\u001b[0;34m(self, model, *args, **kwargs)\u001b[0m\n\u001b[1;32m    407\u001b[0m                 \u001b[0;32mreturn\u001b[0m \u001b[0;32mFalse\u001b[0m\u001b[0;34m\u001b[0m\u001b[0;34m\u001b[0m\u001b[0m\n\u001b[1;32m    408\u001b[0m             \u001b[0;32melse\u001b[0m\u001b[0;34m:\u001b[0m\u001b[0;34m\u001b[0m\u001b[0;34m\u001b[0m\u001b[0m\n\u001b[0;32m--> 409\u001b[0;31m                 \u001b[0;32mraise\u001b[0m \u001b[0mMachineError\u001b[0m\u001b[0;34m(\u001b[0m\u001b[0mmsg\u001b[0m\u001b[0;34m)\u001b[0m\u001b[0;34m\u001b[0m\u001b[0;34m\u001b[0m\u001b[0m\n\u001b[0m\u001b[1;32m    410\u001b[0m         \u001b[0mevent_data\u001b[0m \u001b[0;34m=\u001b[0m \u001b[0mEventData\u001b[0m\u001b[0;34m(\u001b[0m\u001b[0mstate\u001b[0m\u001b[0;34m,\u001b[0m \u001b[0mself\u001b[0m\u001b[0;34m,\u001b[0m \u001b[0mself\u001b[0m\u001b[0;34m.\u001b[0m\u001b[0mmachine\u001b[0m\u001b[0;34m,\u001b[0m \u001b[0mmodel\u001b[0m\u001b[0;34m,\u001b[0m \u001b[0margs\u001b[0m\u001b[0;34m=\u001b[0m\u001b[0margs\u001b[0m\u001b[0;34m,\u001b[0m \u001b[0mkwargs\u001b[0m\u001b[0;34m=\u001b[0m\u001b[0mkwargs\u001b[0m\u001b[0;34m)\u001b[0m\u001b[0;34m\u001b[0m\u001b[0;34m\u001b[0m\u001b[0m\n\u001b[1;32m    411\u001b[0m         \u001b[0;32mreturn\u001b[0m \u001b[0mself\u001b[0m\u001b[0;34m.\u001b[0m\u001b[0m_process\u001b[0m\u001b[0;34m(\u001b[0m\u001b[0mevent_data\u001b[0m\u001b[0;34m)\u001b[0m\u001b[0;34m\u001b[0m\u001b[0;34m\u001b[0m\u001b[0m\n",
      "\u001b[0;31mMachineError\u001b[0m: \"Can't trigger event b from state b!\""
     ]
    }
   ],
   "source": [
    "sl.b()"
   ]
  },
  {
   "cell_type": "code",
   "execution_count": 107,
   "metadata": {},
   "outputs": [
    {
     "data": {
      "text/plain": [
       "True"
      ]
     },
     "execution_count": 107,
     "metadata": {},
     "output_type": "execute_result"
    }
   ],
   "source": [
    "sl.a()"
   ]
  },
  {
   "cell_type": "code",
   "execution_count": 108,
   "metadata": {},
   "outputs": [
    {
     "data": {
      "text/plain": [
       "False"
      ]
     },
     "execution_count": 108,
     "metadata": {},
     "output_type": "execute_result"
    }
   ],
   "source": [
    "sl.accept"
   ]
  },
  {
   "cell_type": "code",
   "execution_count": 109,
   "metadata": {},
   "outputs": [
    {
     "data": {
      "text/plain": [
       "True"
      ]
     },
     "execution_count": 109,
     "metadata": {},
     "output_type": "execute_result"
    }
   ],
   "source": [
    "sl.a()"
   ]
  },
  {
   "cell_type": "code",
   "execution_count": 110,
   "metadata": {},
   "outputs": [
    {
     "data": {
      "text/plain": [
       "False"
      ]
     },
     "execution_count": 110,
     "metadata": {},
     "output_type": "execute_result"
    }
   ],
   "source": [
    "sl.accept"
   ]
  },
  {
   "cell_type": "code",
   "execution_count": 111,
   "metadata": {},
   "outputs": [
    {
     "data": {
      "text/plain": [
       "True"
      ]
     },
     "execution_count": 111,
     "metadata": {},
     "output_type": "execute_result"
    }
   ],
   "source": [
    "# sl.!()  is a Python syntax error, because '!' is not a legal 1st char for a name\n",
    "getattr(sl,'!')()"
   ]
  },
  {
   "cell_type": "code",
   "execution_count": 112,
   "metadata": {},
   "outputs": [
    {
     "data": {
      "text/plain": [
       "True"
      ]
     },
     "execution_count": 112,
     "metadata": {},
     "output_type": "execute_result"
    }
   ],
   "source": [
    "sl.accept"
   ]
  },
  {
   "cell_type": "code",
   "execution_count": 113,
   "metadata": {},
   "outputs": [
    {
     "ename": "MachineError",
     "evalue": "\"Can't trigger event ! from state End!\"",
     "output_type": "error",
     "traceback": [
      "\u001b[0;31m---------------------------------------------------------------------------\u001b[0m",
      "\u001b[0;31mMachineError\u001b[0m                              Traceback (most recent call last)",
      "\u001b[0;32m<ipython-input-113-6d5200554d7a>\u001b[0m in \u001b[0;36m<module>\u001b[0;34m\u001b[0m\n\u001b[0;32m----> 1\u001b[0;31m \u001b[0mgetattr\u001b[0m\u001b[0;34m(\u001b[0m\u001b[0msl\u001b[0m\u001b[0;34m,\u001b[0m\u001b[0;34m'!'\u001b[0m\u001b[0;34m)\u001b[0m\u001b[0;34m(\u001b[0m\u001b[0;34m)\u001b[0m\u001b[0;34m\u001b[0m\u001b[0;34m\u001b[0m\u001b[0m\n\u001b[0m",
      "\u001b[0;32m~/opt/anaconda3/lib/python3.7/site-packages/transitions/core.py\u001b[0m in \u001b[0;36mtrigger\u001b[0;34m(self, model, *args, **kwargs)\u001b[0m\n\u001b[1;32m    391\u001b[0m         \u001b[0;31m# Machine._process should not be called somewhere else. That's why it should not be exposed\u001b[0m\u001b[0;34m\u001b[0m\u001b[0;34m\u001b[0m\u001b[0;34m\u001b[0m\u001b[0m\n\u001b[1;32m    392\u001b[0m         \u001b[0;31m# to Machine users.\u001b[0m\u001b[0;34m\u001b[0m\u001b[0;34m\u001b[0m\u001b[0;34m\u001b[0m\u001b[0m\n\u001b[0;32m--> 393\u001b[0;31m         \u001b[0;32mreturn\u001b[0m \u001b[0mself\u001b[0m\u001b[0;34m.\u001b[0m\u001b[0mmachine\u001b[0m\u001b[0;34m.\u001b[0m\u001b[0m_process\u001b[0m\u001b[0;34m(\u001b[0m\u001b[0mfunc\u001b[0m\u001b[0;34m)\u001b[0m\u001b[0;34m\u001b[0m\u001b[0;34m\u001b[0m\u001b[0m\n\u001b[0m\u001b[1;32m    394\u001b[0m \u001b[0;34m\u001b[0m\u001b[0m\n\u001b[1;32m    395\u001b[0m     \u001b[0;32mdef\u001b[0m \u001b[0m_trigger\u001b[0m\u001b[0;34m(\u001b[0m\u001b[0mself\u001b[0m\u001b[0;34m,\u001b[0m \u001b[0mmodel\u001b[0m\u001b[0;34m,\u001b[0m \u001b[0;34m*\u001b[0m\u001b[0margs\u001b[0m\u001b[0;34m,\u001b[0m \u001b[0;34m**\u001b[0m\u001b[0mkwargs\u001b[0m\u001b[0;34m)\u001b[0m\u001b[0;34m:\u001b[0m\u001b[0;34m\u001b[0m\u001b[0;34m\u001b[0m\u001b[0m\n",
      "\u001b[0;32m~/opt/anaconda3/lib/python3.7/site-packages/transitions/core.py\u001b[0m in \u001b[0;36m_process\u001b[0;34m(self, trigger)\u001b[0m\n\u001b[1;32m   1146\u001b[0m             \u001b[0;32mif\u001b[0m \u001b[0;32mnot\u001b[0m \u001b[0mself\u001b[0m\u001b[0;34m.\u001b[0m\u001b[0m_transition_queue\u001b[0m\u001b[0;34m:\u001b[0m\u001b[0;34m\u001b[0m\u001b[0;34m\u001b[0m\u001b[0m\n\u001b[1;32m   1147\u001b[0m                 \u001b[0;31m# if trigger raises an Error, it has to be handled by the Machine.process caller\u001b[0m\u001b[0;34m\u001b[0m\u001b[0;34m\u001b[0m\u001b[0;34m\u001b[0m\u001b[0m\n\u001b[0;32m-> 1148\u001b[0;31m                 \u001b[0;32mreturn\u001b[0m \u001b[0mtrigger\u001b[0m\u001b[0;34m(\u001b[0m\u001b[0;34m)\u001b[0m\u001b[0;34m\u001b[0m\u001b[0;34m\u001b[0m\u001b[0m\n\u001b[0m\u001b[1;32m   1149\u001b[0m             \u001b[0;32melse\u001b[0m\u001b[0;34m:\u001b[0m\u001b[0;34m\u001b[0m\u001b[0;34m\u001b[0m\u001b[0m\n\u001b[1;32m   1150\u001b[0m                 \u001b[0;32mraise\u001b[0m \u001b[0mMachineError\u001b[0m\u001b[0;34m(\u001b[0m\u001b[0;34m\"Attempt to process events synchronously while transition queue is not empty!\"\u001b[0m\u001b[0;34m)\u001b[0m\u001b[0;34m\u001b[0m\u001b[0;34m\u001b[0m\u001b[0m\n",
      "\u001b[0;32m~/opt/anaconda3/lib/python3.7/site-packages/transitions/core.py\u001b[0m in \u001b[0;36m_trigger\u001b[0;34m(self, model, *args, **kwargs)\u001b[0m\n\u001b[1;32m    407\u001b[0m                 \u001b[0;32mreturn\u001b[0m \u001b[0;32mFalse\u001b[0m\u001b[0;34m\u001b[0m\u001b[0;34m\u001b[0m\u001b[0m\n\u001b[1;32m    408\u001b[0m             \u001b[0;32melse\u001b[0m\u001b[0;34m:\u001b[0m\u001b[0;34m\u001b[0m\u001b[0;34m\u001b[0m\u001b[0m\n\u001b[0;32m--> 409\u001b[0;31m                 \u001b[0;32mraise\u001b[0m \u001b[0mMachineError\u001b[0m\u001b[0;34m(\u001b[0m\u001b[0mmsg\u001b[0m\u001b[0;34m)\u001b[0m\u001b[0;34m\u001b[0m\u001b[0;34m\u001b[0m\u001b[0m\n\u001b[0m\u001b[1;32m    410\u001b[0m         \u001b[0mevent_data\u001b[0m \u001b[0;34m=\u001b[0m \u001b[0mEventData\u001b[0m\u001b[0;34m(\u001b[0m\u001b[0mstate\u001b[0m\u001b[0;34m,\u001b[0m \u001b[0mself\u001b[0m\u001b[0;34m,\u001b[0m \u001b[0mself\u001b[0m\u001b[0;34m.\u001b[0m\u001b[0mmachine\u001b[0m\u001b[0;34m,\u001b[0m \u001b[0mmodel\u001b[0m\u001b[0;34m,\u001b[0m \u001b[0margs\u001b[0m\u001b[0;34m=\u001b[0m\u001b[0margs\u001b[0m\u001b[0;34m,\u001b[0m \u001b[0mkwargs\u001b[0m\u001b[0;34m=\u001b[0m\u001b[0mkwargs\u001b[0m\u001b[0;34m)\u001b[0m\u001b[0;34m\u001b[0m\u001b[0;34m\u001b[0m\u001b[0m\n\u001b[1;32m    411\u001b[0m         \u001b[0;32mreturn\u001b[0m \u001b[0mself\u001b[0m\u001b[0;34m.\u001b[0m\u001b[0m_process\u001b[0m\u001b[0;34m(\u001b[0m\u001b[0mevent_data\u001b[0m\u001b[0;34m)\u001b[0m\u001b[0;34m\u001b[0m\u001b[0;34m\u001b[0m\u001b[0m\n",
      "\u001b[0;31mMachineError\u001b[0m: \"Can't trigger event ! from state End!\""
     ]
    }
   ],
   "source": [
    "getattr(sl,'!')()"
   ]
  },
  {
   "cell_type": "markdown",
   "metadata": {},
   "source": [
    "### Consuming strings"
   ]
  },
  {
   "cell_type": "code",
   "execution_count": 99,
   "metadata": {},
   "outputs": [
    {
     "data": {
      "text/plain": [
       "True"
      ]
     },
     "execution_count": 99,
     "metadata": {},
     "output_type": "execute_result"
    }
   ],
   "source": [
    "sl = SheepLanguage()\n",
    "sl.consume_string('baa!')"
   ]
  },
  {
   "cell_type": "code",
   "execution_count": null,
   "metadata": {},
   "outputs": [],
   "source": []
  },
  {
   "cell_type": "code",
   "execution_count": 100,
   "metadata": {},
   "outputs": [
    {
     "data": {
      "text/plain": [
       "False"
      ]
     },
     "execution_count": 100,
     "metadata": {},
     "output_type": "execute_result"
    }
   ],
   "source": [
    "sl = SheepLanguage()\n",
    "sl.consume_string('ba!')"
   ]
  },
  {
   "cell_type": "code",
   "execution_count": 101,
   "metadata": {},
   "outputs": [
    {
     "data": {
      "text/plain": [
       "False"
      ]
     },
     "execution_count": 101,
     "metadata": {},
     "output_type": "execute_result"
    }
   ],
   "source": [
    "sl = SheepLanguage()\n",
    "sl.consume_string('baa!a')"
   ]
  },
  {
   "cell_type": "code",
   "execution_count": 102,
   "metadata": {},
   "outputs": [
    {
     "data": {
      "text/plain": [
       "False"
      ]
     },
     "execution_count": 102,
     "metadata": {},
     "output_type": "execute_result"
    }
   ],
   "source": [
    "sl = SheepLanguage()\n",
    "sl.consume_string('baa')"
   ]
  },
  {
   "cell_type": "markdown",
   "metadata": {},
   "source": [
    "# The non-quickstart"
   ]
  },
  {
   "cell_type": "markdown",
   "metadata": {},
   "source": [
    "## Basic initialization\n",
    "\n",
    "Getting a state machine up and running is pretty simple. Let's say you have the object lump (an instance of class Matter), and you want to manage its states:"
   ]
  },
  {
   "cell_type": "code",
   "execution_count": null,
   "metadata": {},
   "outputs": [],
   "source": [
    "class Matter(object):\n",
    "    pass\n",
    "\n",
    "lump = Matter()"
   ]
  },
  {
   "cell_type": "markdown",
   "metadata": {},
   "source": [
    "You can initialize a (minimal) working state machine bound to lump like this:"
   ]
  },
  {
   "cell_type": "code",
   "execution_count": null,
   "metadata": {},
   "outputs": [],
   "source": [
    "from transitions import Machine\n",
    "machine = Machine(model=lump, states=['solid', 'liquid', 'gas', 'plasma'], initial='solid')\n",
    "\n",
    "# Lump now has state!\n",
    "lump.state\n",
    "#'solid'"
   ]
  },
  {
   "cell_type": "markdown",
   "metadata": {},
   "source": [
    "I say \"minimal\", because while this state machine is technically operational, it doesn't actually do anything. It starts in the 'solid' state, but won't ever move into another state, because no transitions are defined... yet!\n",
    "\n",
    "Let's try again."
   ]
  },
  {
   "cell_type": "code",
   "execution_count": null,
   "metadata": {},
   "outputs": [],
   "source": [
    "# The states\n",
    "states=['solid', 'liquid', 'gas', 'plasma']\n",
    "\n",
    "# And some transitions between states. We're lazy, so we'll leave out\n",
    "# the inverse phase transitions (freezing, condensation, etc.).\n",
    "transitions = [\n",
    "    { 'trigger': 'melt', 'source': 'solid', 'dest': 'liquid' },\n",
    "    { 'trigger': 'evaporate', 'source': 'liquid', 'dest': 'gas' },\n",
    "    { 'trigger': 'sublimate', 'source': 'solid', 'dest': 'gas' },\n",
    "    { 'trigger': 'ionize', 'source': 'gas', 'dest': 'plasma' }\n",
    "]\n",
    "\n",
    "# Initialize\n",
    "machine = Machine(lump, states=states, transitions=transitions, initial='liquid')\n",
    "\n",
    "# Now lump maintains state...\n",
    "lump.state\n",
    "#>>> 'liquid'"
   ]
  },
  {
   "cell_type": "code",
   "execution_count": null,
   "metadata": {},
   "outputs": [],
   "source": [
    "# And that state can change...\n",
    "lump.evaporate()\n",
    "lump.state\n",
    "#>>> 'gas'"
   ]
  },
  {
   "cell_type": "code",
   "execution_count": null,
   "metadata": {},
   "outputs": [],
   "source": [
    "lump.trigger('ionize')\n",
    "lump.state\n",
    "#>>> 'plasma'"
   ]
  },
  {
   "cell_type": "markdown",
   "metadata": {},
   "source": [
    "Notice the shiny new methods attached to the Matter instance (evaporate(), ionize(), etc.). Each method triggers the corresponding transition. You don't have to explicitly define these methods anywhere; the name of each transition is bound to the model passed to the Machine initializer (in this case, lump). To be more precise, your model should not already contain methods with the same name as event triggers since transitions will only attach convenience methods to your model if the spot is not already taken. If you want to modify that behaviour, have a look at the FAQ. Furthermore, there is a method called trigger now attached to your model (if it hasn't been there before). This method lets you execute transitions by name in case dynamic triggering is required.\n",
    "\n",
    "States\n",
    "The soul of any good state machine (and of many bad ones, no doubt) is a set of states. Above, we defined the valid model states by passing a list of strings to the Machine initializer. But internally, states are actually represented as State objects.\n",
    "\n",
    "You can initialize and modify States in a number of ways. Specifically, you can:\n",
    "\n",
    "pass a string to the Machine initializer giving the name(s) of the state(s), or\n",
    "directly initialize each new State object, or\n",
    "pass a dictionary with initialization arguments\n",
    "The following snippets illustrate several ways to achieve the same goal:"
   ]
  },
  {
   "cell_type": "code",
   "execution_count": null,
   "metadata": {},
   "outputs": [],
   "source": [
    "# import Machine and State class\n",
    "from transitions import State\n",
    "\n",
    "# Create a list of 3 states to pass to the Machine\n",
    "# initializer. We can mix types; in this case, we\n",
    "# pass one State, one string, and one dict.\n",
    "states = [\n",
    "    State(name='solid'),\n",
    "    'liquid',\n",
    "    { 'name': 'gas'}\n",
    "    ]\n",
    "machine = Machine(lump, states)\n",
    "\n",
    "# This alternative example illustrates more explicit\n",
    "# addition of states and state callbacks, but the net\n",
    "# result is identical to the above.\n",
    "machine = Machine(lump)\n",
    "solid = State('solid')\n",
    "liquid = State('liquid')\n",
    "gas = State('gas')\n",
    "machine.add_states([solid, liquid, gas])"
   ]
  },
  {
   "cell_type": "markdown",
   "metadata": {},
   "source": [
    "States are initialized once when added to the machine and will persist until they are removed from it. In other words: if you alter the attributes of a state object, this change will NOT be reset the next time you enter that state. Have a look at how to extend state features in case you require some other behaviour.\n",
    "\n",
    "Callbacks\n",
    "A State can also be associated with a list of enter and exit callbacks, which are called whenever the state machine enters or leaves that state. You can specify callbacks during initialization, or add them later.\n",
    "\n",
    "For convenience, whenever a new State is added to a Machine, the methods on_enter_«state name» and on_exit_«state name» are dynamically created on the Machine (not on the model!), which allow you to dynamically add new enter and exit callbacks later if you need them."
   ]
  },
  {
   "cell_type": "code",
   "execution_count": null,
   "metadata": {},
   "outputs": [],
   "source": [
    "# Our old Matter class, now with  a couple of new methods we\n",
    "# can trigger when entering or exit states.\n",
    "class Matter(object):\n",
    "    def say_hello(self): print(\"hello, new state!\")\n",
    "    def say_goodbye(self): print(\"goodbye, old state!\")\n",
    "\n",
    "lump = Matter()\n",
    "\n",
    "# Same states as above, but now we give StateA an exit callback\n",
    "states = [\n",
    "    State(name='solid', on_exit=['say_goodbye']),\n",
    "    'liquid',\n",
    "    { 'name': 'gas' }\n",
    "    ]\n",
    "\n",
    "machine = Machine(lump, states=states)\n",
    "machine.add_transition('sublimate', 'solid', 'gas')\n",
    "\n",
    "# Callbacks can also be added after initialization using\n",
    "# the dynamically added on_enter_ and on_exit_ methods.\n",
    "# Note that the initial call to add the callback is made\n",
    "# on the Machine and not on the model.\n",
    "machine.on_enter_gas('say_hello')\n",
    "\n",
    "# Test out the callbacks...\n",
    "machine.set_state('solid')\n",
    "lump.sublimate()\n",
    ">>> 'goodbye, old state!'\n",
    ">>> 'hello, new state!'"
   ]
  },
  {
   "cell_type": "markdown",
   "metadata": {},
   "source": [
    "Note that on_enter_«state name» callback will not fire when a Machine is first initialized. For example if you have an on_enter_A() callback defined, and initialize the Machine with initial='A', on_enter_A() will not be fired until the next time you enter state A. (If you need to make sure on_enter_A() fires at initialization, you can simply create a dummy initial state and then explicitly call to_A() inside the __init__ method.)\n",
    "\n",
    "In addition to passing in callbacks when initializing a State, or adding them dynamically, it's also possible to define callbacks in the model class itself, which may increase code clarity. For example:"
   ]
  },
  {
   "cell_type": "code",
   "execution_count": null,
   "metadata": {},
   "outputs": [],
   "source": [
    "class Matter(object):\n",
    "    def say_hello(self): print(\"hello, new state!\")\n",
    "    def say_goodbye(self): print(\"goodbye, old state!\")\n",
    "    def on_enter_A(self): print(\"We've just entered state A!\")\n",
    "\n",
    "lump = Matter()\n",
    "machine = Machine(lump, states=['A', 'B', 'C'])"
   ]
  },
  {
   "cell_type": "markdown",
   "metadata": {},
   "source": [
    "Now, any time lump transitions to state A, the on_enter_A() method defined in the Matter class will fire.\n",
    "\n",
    "Checking state\n",
    "You can always check the current state of the model by either:\n",
    "\n",
    "inspecting the .state attribute, or\n",
    "calling is_«state name»()\n",
    "And if you want to retrieve the actual State object for the current state, you can do that through the Machine instance's get_state() method."
   ]
  },
  {
   "cell_type": "code",
   "execution_count": null,
   "metadata": {},
   "outputs": [],
   "source": [
    "lump.state\n",
    "#>>> 'solid'"
   ]
  },
  {
   "cell_type": "code",
   "execution_count": null,
   "metadata": {},
   "outputs": [],
   "source": [
    "lump.is_gas()\n",
    "#>>> False"
   ]
  },
  {
   "cell_type": "code",
   "execution_count": null,
   "metadata": {},
   "outputs": [],
   "source": [
    "lump.is_solid()\n",
    "#>>> True"
   ]
  },
  {
   "cell_type": "code",
   "execution_count": null,
   "metadata": {},
   "outputs": [],
   "source": [
    "machine.get_state(lump.state).name\n",
    "#>>> 'solid'"
   ]
  },
  {
   "cell_type": "markdown",
   "metadata": {},
   "source": [
    "If you'd like you can choose your own state attribute name by passing the model_attribute argument while initializing the Machine. This will also change the name of is_«state name»() to is_«model_attribute»_«state name»() though. Similarly, auto transitions will be named to_«model_attribute»_«state name»() instead of to_«state name»(). This is done to allow multiple machines to work on the same model with individual state attribute names."
   ]
  },
  {
   "cell_type": "code",
   "execution_count": null,
   "metadata": {},
   "outputs": [],
   "source": [
    "lump = Matter()\n",
    "machine = Machine(lump, states=['solid', 'liquid', 'gas'],  model_attribute='matter_state', initial='solid')\n",
    "lump.matter_state\n",
    "#>>> 'solid'"
   ]
  },
  {
   "cell_type": "code",
   "execution_count": null,
   "metadata": {},
   "outputs": [],
   "source": [
    "# with a custom 'model_attribute', states can also be checked like this:\n",
    "lump.is_matter_state_solid()\n",
    "#>>> True"
   ]
  },
  {
   "cell_type": "code",
   "execution_count": null,
   "metadata": {},
   "outputs": [],
   "source": [
    "lump.to_matter_state_gas()\n",
    "#>>> True"
   ]
  },
  {
   "cell_type": "markdown",
   "metadata": {},
   "source": [
    "Enumerations\n",
    "So far we have seen how we can give state names and use these names to work with our state machine. If you favour stricter typing and more IDE code completion (or you just can't type 'sesquipedalophobia' any longer because the word scares you) using Enumerations might be what you are looking for:"
   ]
  },
  {
   "cell_type": "code",
   "execution_count": null,
   "metadata": {},
   "outputs": [],
   "source": [
    "import enum  # Python 2.7 users need to have 'enum34' installed\n",
    "from transitions import Machine\n",
    "\n",
    "class States(enum.Enum):\n",
    "    ERROR = 0\n",
    "    RED = 1\n",
    "    YELLOW = 2\n",
    "    GREEN = 3\n",
    "\n",
    "transitions = [['proceed', States.RED, States.YELLOW],\n",
    "               ['proceed', States.YELLOW, States.GREEN],\n",
    "               ['error', '*', States.ERROR]]\n",
    "\n",
    "m = Machine(states=States, transitions=transitions, initial=States.RED)\n",
    "assert m.is_RED()\n",
    "assert m.state is States.RED\n",
    "state = m.get_state(States.RED)  # get transitions.State object\n",
    "print(state.name)  # >>> RED\n",
    "m.proceed()\n",
    "m.proceed()\n",
    "assert m.is_GREEN()\n",
    "m.error()\n",
    "assert m.state is States.ERROR"
   ]
  },
  {
   "cell_type": "markdown",
   "metadata": {},
   "source": [
    "You can mix enums and strings if you like (e.g. [States.RED, 'ORANGE', States.YELLOW, States.GREEN]) but note that internally, transitions will still handle states by name (enum.Enum.name). Thus, it is not possible to have the states 'GREEN' and States.GREEN at the same time.\n",
    "\n",
    "Transitions\n",
    "Some of the above examples already illustrate the use of transitions in passing, but here we'll explore them in more detail.\n",
    "\n",
    "As with states, each transition is represented internally as its own object – an instance of class Transition. The quickest way to initialize a set of transitions is to pass a dictionary, or list of dictionaries, to the Machine initializer. We already saw this above:"
   ]
  },
  {
   "cell_type": "code",
   "execution_count": null,
   "metadata": {},
   "outputs": [],
   "source": [
    "transitions = [\n",
    "    { 'trigger': 'melt', 'source': 'solid', 'dest': 'liquid' },\n",
    "    { 'trigger': 'evaporate', 'source': 'liquid', 'dest': 'gas' },\n",
    "    { 'trigger': 'sublimate', 'source': 'solid', 'dest': 'gas' },\n",
    "    { 'trigger': 'ionize', 'source': 'gas', 'dest': 'plasma' }\n",
    "]\n",
    "machine = Machine(model=Matter(), states=states, transitions=transitions)"
   ]
  },
  {
   "cell_type": "markdown",
   "metadata": {},
   "source": [
    "Defining transitions in dictionaries has the benefit of clarity, but can be cumbersome. If you're after brevity, you might choose to define transitions using lists. Just make sure that the elements in each list are in the same order as the positional arguments in the Transition initialization (i.e., trigger, source, destination, etc.).\n",
    "\n",
    "The following list-of-lists is functionally equivalent to the list-of-dictionaries above:"
   ]
  },
  {
   "cell_type": "code",
   "execution_count": null,
   "metadata": {},
   "outputs": [],
   "source": [
    "transitions = [\n",
    "    ['melt', 'solid', 'liquid'],\n",
    "    ['evaporate', 'liquid', 'gas'],\n",
    "    ['sublimate', 'solid', 'gas'],\n",
    "    ['ionize', 'gas', 'plasma']\n",
    "]"
   ]
  },
  {
   "cell_type": "markdown",
   "metadata": {},
   "source": [
    "Alternatively, you can add transitions to a Machine after initialization:"
   ]
  },
  {
   "cell_type": "code",
   "execution_count": null,
   "metadata": {},
   "outputs": [],
   "source": [
    "machine = Machine(model=lump, states=states, initial='solid')\n",
    "machine.add_transition('melt', source='solid', dest='liquid')"
   ]
  },
  {
   "cell_type": "markdown",
   "metadata": {},
   "source": [
    "The trigger argument defines the name of the new triggering method that gets attached to the base model. When this method is called, it will try to execute the transition:"
   ]
  },
  {
   "cell_type": "code",
   "execution_count": null,
   "metadata": {},
   "outputs": [],
   "source": [
    "lump.melt()\n",
    "lump.state\n",
    "#'liquid'"
   ]
  },
  {
   "cell_type": "markdown",
   "metadata": {},
   "source": [
    "By default, calling an invalid trigger will raise an exception:"
   ]
  },
  {
   "cell_type": "code",
   "execution_count": null,
   "metadata": {},
   "outputs": [],
   "source": [
    "lump.to_gas()\n",
    "# This won't work because only objects in a solid state can melt\n",
    "lump.melt()\n",
    "#transitions.core.MachineError: \"Can't trigger event melt from state gas!\""
   ]
  },
  {
   "cell_type": "markdown",
   "metadata": {},
   "source": [
    "This behavior is generally desirable, since it helps alert you to problems in your code. But in some cases, you might want to silently ignore invalid triggers. You can do this by setting ignore_invalid_triggers=True (either on a state-by-state basis, or globally for all states):"
   ]
  },
  {
   "cell_type": "code",
   "execution_count": null,
   "metadata": {},
   "outputs": [],
   "source": [
    "# Globally suppress invalid trigger exceptions\n",
    "m = Machine(lump, states, initial='solid', ignore_invalid_triggers=True)\n",
    "# ...or suppress for only one group of states\n",
    "states = ['new_state1', 'new_state2']\n",
    "m.add_states(states, ignore_invalid_triggers=True)\n",
    "# ...or even just for a single state. Here, exceptions will only be suppressed when the current state is A.\n",
    "states = [State('A', ignore_invalid_triggers=True), 'B', 'C']\n",
    "m = Machine(lump, states)\n",
    "# ...this can be inverted as well if just one state should raise an exception\n",
    "# since the machine's global value is not applied to a previously initialized state.\n",
    "states = ['A', 'B', State('C')] # the default value for 'ignore_invalid_triggers' is False\n",
    "m = Machine(lump, states, ignore_invalid_triggers=True)"
   ]
  },
  {
   "cell_type": "markdown",
   "metadata": {},
   "source": [
    "If you need to know which transitions are valid from a certain state, you can use get_triggers:"
   ]
  },
  {
   "cell_type": "code",
   "execution_count": null,
   "metadata": {},
   "outputs": [],
   "source": [
    "m.get_triggers('solid')\n",
    "#['melt', 'sublimate']"
   ]
  },
  {
   "cell_type": "code",
   "execution_count": null,
   "metadata": {},
   "outputs": [],
   "source": [
    "m.get_triggers('liquid')\n",
    "#['evaporate']"
   ]
  },
  {
   "cell_type": "code",
   "execution_count": null,
   "metadata": {},
   "outputs": [],
   "source": [
    "m.get_triggers('plasma')\n",
    "$[]"
   ]
  },
  {
   "cell_type": "code",
   "execution_count": null,
   "metadata": {},
   "outputs": [],
   "source": [
    "# you can also query several states at once\n",
    "m.get_triggers('solid', 'liquid', 'gas', 'plasma')\n",
    "#['melt', 'evaporate', 'sublimate', 'ionize']"
   ]
  },
  {
   "cell_type": "markdown",
   "metadata": {},
   "source": [
    "Automatic transitions for all states\n",
    "In addition to any transitions added explicitly, a to_«state»() method is created automatically whenever a state is added to a Machine instance. This method transitions to the target state no matter which state the machine is currently in:"
   ]
  },
  {
   "cell_type": "code",
   "execution_count": null,
   "metadata": {},
   "outputs": [],
   "source": [
    "lump.to_liquid()\n",
    "lump.state\n",
    "#'liquid'"
   ]
  },
  {
   "cell_type": "code",
   "execution_count": null,
   "metadata": {},
   "outputs": [],
   "source": [
    "lump.to_solid()\n",
    "lump.state\n",
    "#'solid'"
   ]
  },
  {
   "cell_type": "markdown",
   "metadata": {},
   "source": [
    "If you desire, you can disable this behavior by setting auto_transitions=False in the Machine initializer.\n",
    "\n",
    "Transitioning from multiple states\n",
    "A given trigger can be attached to multiple transitions, some of which can potentially begin or end in the same state. For example:"
   ]
  },
  {
   "cell_type": "code",
   "execution_count": null,
   "metadata": {},
   "outputs": [],
   "source": [
    "machine.add_transition('transmogrify', ['solid', 'liquid', 'gas'], 'plasma')\n",
    "machine.add_transition('transmogrify', 'plasma', 'solid')\n",
    "# This next transition will never execute\n",
    "machine.add_transition('transmogrify', 'plasma', 'gas')"
   ]
  },
  {
   "cell_type": "markdown",
   "metadata": {},
   "source": [
    "In this case, calling transmogrify() will set the model's state to 'solid' if it's currently 'plasma', and set it to 'plasma' otherwise. (Note that only the first matching transition will execute; thus, the transition defined in the last line above won't do anything.)\n",
    "\n",
    "You can also make a trigger cause a transition from all states to a particular destination by using the '*' wildcard:"
   ]
  },
  {
   "cell_type": "code",
   "execution_count": null,
   "metadata": {},
   "outputs": [],
   "source": [
    "machine.add_transition('to_liquid', '*', 'liquid')"
   ]
  },
  {
   "cell_type": "markdown",
   "metadata": {},
   "source": [
    "Note that wildcard transitions will only apply to states that exist at the time of the add_transition() call. Calling a wildcard-based transition when the model is in a state added after the transition was defined will elicit an invalid transition message, and will not transition to the target state."
   ]
  },
  {
   "cell_type": "markdown",
   "metadata": {},
   "source": [
    "Reflexive transitions from multiple states\n",
    "A reflexive trigger (trigger that has the same state as source and destination) can easily be added specifying = as destination. This is handy if the same reflexive trigger should be added to multiple states. For example:"
   ]
  },
  {
   "cell_type": "code",
   "execution_count": null,
   "metadata": {},
   "outputs": [],
   "source": [
    "machine.add_transition('touch', ['liquid', 'gas', 'plasma'], '=', after='change_shape')"
   ]
  },
  {
   "cell_type": "markdown",
   "metadata": {},
   "source": [
    "This will add reflexive transitions for all three states with touch() as trigger and with change_shape executed after each trigger."
   ]
  },
  {
   "cell_type": "markdown",
   "metadata": {},
   "source": [
    "### Internal transitions"
   ]
  },
  {
   "cell_type": "markdown",
   "metadata": {},
   "source": [
    "In contrast to reflexive transitions, internal transitions will never actually leave the state. This means that transition-related callbacks such as before or after will be processed while state-related callbacks exit or enter will not. To define a transition to be internal, set the destination to None."
   ]
  },
  {
   "cell_type": "code",
   "execution_count": null,
   "metadata": {},
   "outputs": [],
   "source": [
    "machine.add_transition('internal', ['liquid', 'gas'], None, after='change_shape')"
   ]
  },
  {
   "cell_type": "markdown",
   "metadata": {},
   "source": [
    "### Ordered transitions"
   ]
  },
  {
   "cell_type": "markdown",
   "metadata": {},
   "source": [
    "A common desire is for state transitions to follow a strict linear sequence. For instance, given states ['A', 'B', 'C'], you might want valid transitions for A → B, B → C, and C → A (but no other pairs).\n",
    "\n",
    "To facilitate this behavior, Transitions provides an add_ordered_transitions() method in the Machine class:"
   ]
  },
  {
   "cell_type": "code",
   "execution_count": null,
   "metadata": {},
   "outputs": [],
   "source": [
    "states = ['A', 'B', 'C']\n",
    " # See the \"alternative initialization\" section for an explanation of the 1st argument to init\n",
    "machine = Machine(states=states, initial='A')\n",
    "machine.add_ordered_transitions()\n",
    "machine.next_state()\n",
    "print(machine.state)\n",
    "#'B'\n",
    "# We can also define a different order of transitions\n",
    "machine = Machine(states=states, initial='A')\n",
    "machine.add_ordered_transitions(['A', 'C', 'B'])\n",
    "machine.next_state()\n",
    "print(machine.state)\n",
    "#'C'\n",
    "# Conditions can be passed to 'add_ordered_transitions' as well\n",
    "# If one condition is passed, it will be used for all transitions\n",
    "machine = Machine(states=states, initial='A')\n",
    "machine.add_ordered_transitions(conditions='check')\n",
    "# If a list is passed, it must contain exactly as many elements as the\n",
    "# machine contains states (A->B, ..., X->A)\n",
    "machine = Machine(states=states, initial='A')\n",
    "machine.add_ordered_transitions(conditions=['check_A2B', ..., 'check_X2A'])"
   ]
  },
  {
   "cell_type": "markdown",
   "metadata": {},
   "source": [
    "### Queued transitions"
   ]
  },
  {
   "cell_type": "markdown",
   "metadata": {},
   "source": [
    "The default behaviour in Transitions is to process events instantly. This means events within an on_enter method will be processed before callbacks bound to after are called."
   ]
  },
  {
   "cell_type": "code",
   "execution_count": null,
   "metadata": {},
   "outputs": [],
   "source": [
    "def go_to_C():\n",
    "    global machine\n",
    "    machine.to_C()\n",
    "\n",
    "def after_advance():\n",
    "    print(\"I am in state B now!\")\n",
    "\n",
    "def entering_C():\n",
    "    print(\"I am in state C now!\")\n",
    "\n",
    "states = ['A', 'B', 'C']\n",
    "machine = Machine(states=states, initial='A')\n",
    "\n",
    "# we want a message when state transition to B has been completed\n",
    "machine.add_transition('advance', 'A', 'B', after=after_advance)\n",
    "\n",
    "# call transition from state B to state C\n",
    "machine.on_enter_B(go_to_C)\n",
    "\n",
    "# we also want a message when entering state C\n",
    "machine.on_enter_C(entering_C)\n",
    "machine.advance()\n",
    "#'I am in state C now!'\n",
    "#'I am in state B now!' # what?"
   ]
  },
  {
   "cell_type": "markdown",
   "metadata": {},
   "source": [
    "The execution order of this example is\n",
    "\n",
    "```\n",
    "prepare -> before -> on_enter_B -> on_enter_C -> after\n",
    "```\n",
    "\n",
    "If queued processing is enabled, a transition will be finished before the next transition is triggered:"
   ]
  },
  {
   "cell_type": "code",
   "execution_count": null,
   "metadata": {},
   "outputs": [],
   "source": [
    "machine = Machine(states=states, queued=True, initial='A')\n",
    "### ...\n",
    "machine.advance()\n",
    "#'I am in state B now!'\n",
    "#'I am in state C now!' # That's better!"
   ]
  },
  {
   "cell_type": "markdown",
   "metadata": {},
   "source": [
    "This results in\n",
    "\n",
    "```\n",
    "prepare -> before -> on_enter_B -> queue(to_C) -> after  -> on_enter_C.\n",
    "```\n",
    "Important note: when processing events in a queue, the trigger call will always return True, since there is no way to determine at queuing time whether a transition involving queued calls will ultimately complete successfully. This is true even when only a single event is processed."
   ]
  },
  {
   "cell_type": "code",
   "execution_count": null,
   "metadata": {},
   "outputs": [],
   "source": [
    "machine.add_transition('jump', 'A', 'C', conditions='will_fail')\n",
    "#...\n",
    "# queued=False\n",
    "machine.jump()\n",
    "#False\n",
    "# queued=True\n",
    "machine.jump()\n",
    "#True"
   ]
  },
  {
   "cell_type": "markdown",
   "metadata": {},
   "source": [
    "When a model is removed from the machine, transitions will also remove all related events from the queue."
   ]
  },
  {
   "cell_type": "code",
   "execution_count": null,
   "metadata": {},
   "outputs": [],
   "source": [
    "class Model:\n",
    "    def on_enter_B(self):\n",
    "        self.to_C()  # add event to queue ...\n",
    "        self.machine.remove_model(self)  # aaaand it's gone"
   ]
  },
  {
   "cell_type": "markdown",
   "metadata": {},
   "source": [
    "### Conditional transitions"
   ]
  },
  {
   "cell_type": "markdown",
   "metadata": {},
   "source": [
    "Sometimes you only want a particular transition to execute if a specific condition occurs. You can do this by passing a method, or list of methods, in the conditions argument:"
   ]
  },
  {
   "cell_type": "code",
   "execution_count": null,
   "metadata": {},
   "outputs": [],
   "source": [
    "# Our Matter class, now with a bunch of methods that return booleans.\n",
    "class Matter(object):\n",
    "    def is_flammable(self): return False\n",
    "    def is_really_hot(self): return True\n",
    "\n",
    "machine.add_transition('heat', 'solid', 'gas', conditions='is_flammable')\n",
    "machine.add_transition('heat', 'solid', 'liquid', conditions=['is_really_hot'])"
   ]
  },
  {
   "cell_type": "code",
   "execution_count": null,
   "metadata": {},
   "outputs": [],
   "source": [
    "In the above example, calling heat() when the model is in state 'solid' will transition to state 'gas' if is_flammable returns True. Otherwise, it will transition to state 'liquid' if is_really_hot returns True.\n",
    "\n",
    "For convenience, there's also an 'unless' argument that behaves exactly like conditions, but inverted:"
   ]
  },
  {
   "cell_type": "code",
   "execution_count": null,
   "metadata": {},
   "outputs": [],
   "source": [
    "machine.add_transition('heat', 'solid', 'gas', unless=['is_flammable', 'is_really_hot'])"
   ]
  },
  {
   "cell_type": "code",
   "execution_count": null,
   "metadata": {},
   "outputs": [],
   "source": [
    "In this case, the model would transition from solid to gas whenever heat() fires, provided that both is_flammable() and is_really_hot() return False.\n",
    "\n",
    "Note that condition-checking methods will passively receive optional arguments and/or data objects passed to triggering methods. For instance, the following call:"
   ]
  },
  {
   "cell_type": "code",
   "execution_count": null,
   "metadata": {},
   "outputs": [],
   "source": [
    "lump.heat(temp=74)\n",
    "# equivalent to lump.trigger('heat', temp=74)\n",
    "#... would pass the temp=74 optional kwarg to the is_flammable() check (possibly wrapped in an EventData instance). For more on this, see the Passing data section below."
   ]
  },
  {
   "cell_type": "markdown",
   "metadata": {},
   "source": [
    "### Callbacks\n",
    "\n",
    "You can attach callbacks to transitions as well as states. Every transition has 'before' and 'after' attributes that contain a list of methods to call before and after the transition executes:"
   ]
  },
  {
   "cell_type": "code",
   "execution_count": null,
   "metadata": {},
   "outputs": [],
   "source": [
    "class Matter(object):\n",
    "    def make_hissing_noises(self): print(\"HISSSSSSSSSSSSSSSS\")\n",
    "    def disappear(self): print(\"where'd all the liquid go?\")\n",
    "\n",
    "transitions = [\n",
    "    { 'trigger': 'melt', 'source': 'solid', 'dest': 'liquid', 'before': 'make_hissing_noises'},\n",
    "    { 'trigger': 'evaporate', 'source': 'liquid', 'dest': 'gas', 'after': 'disappear' }\n",
    "]\n",
    "\n",
    "lump = Matter()\n",
    "machine = Machine(lump, states, transitions=transitions, initial='solid')\n",
    "lump.melt()\n",
    "#\"HISSSSSSSSSSSSSSSS\"\n",
    "lump.evaporate()\n",
    "#\"where'd all the liquid go?\""
   ]
  },
  {
   "cell_type": "markdown",
   "metadata": {},
   "source": [
    "There is also a 'prepare' callback that is executed as soon as a transition starts, before any 'conditions' are checked or other callbacks are executed."
   ]
  },
  {
   "cell_type": "code",
   "execution_count": null,
   "metadata": {},
   "outputs": [],
   "source": [
    "class Matter(object):\n",
    "    heat = False\n",
    "    attempts = 0\n",
    "    def count_attempts(self): self.attempts += 1\n",
    "    def heat_up(self): self.heat = random.random() < 0.25\n",
    "    def stats(self): print('It took you %i attempts to melt the lump!' %self.attempts)\n",
    "\n",
    "    @property\n",
    "    def is_really_hot(self):\n",
    "        return self.heat\n",
    "    \n",
    "\n",
    "states=['solid', 'liquid', 'gas', 'plasma']\n",
    "\n",
    "transitions = [\n",
    "    { 'trigger': 'melt', 'source': 'solid', 'dest': 'liquid', 'prepare': ['heat_up', 'count_attempts'], 'conditions': 'is_really_hot', 'after': 'stats'},\n",
    "]\n",
    "\n",
    "lump = Matter()\n",
    "machine = Machine(lump, states, transitions=transitions, initial='solid')\n",
    "lump.melt()\n",
    "lump.melt()\n",
    "lump.melt()\n",
    "lump.melt()\n",
    "#\"It took you 4 attempts to melt the lump!\""
   ]
  },
  {
   "cell_type": "markdown",
   "metadata": {},
   "source": [
    "Note that prepare will not be called unless the current state is a valid source for the named transition.\n",
    "\n",
    "Default actions meant to be executed before or after every transition can be passed to Machine during initialization with before_state_change and after_state_change respectively:"
   ]
  },
  {
   "cell_type": "code",
   "execution_count": null,
   "metadata": {},
   "outputs": [],
   "source": [
    "class Matter(object):\n",
    "    def make_hissing_noises(self): print(\"HISSSSSSSSSSSSSSSS\")\n",
    "    def disappear(self): print(\"where'd all the liquid go?\")\n",
    "\n",
    "states=['solid', 'liquid', 'gas', 'plasma']\n",
    "\n",
    "lump = Matter()\n",
    "m = Machine(lump, states, before_state_change='make_hissing_noises', after_state_change='disappear')\n",
    "lump.to_gas()\n",
    "#\"HISSSSSSSSSSSSSSSS\"\n",
    "#\"where'd all the liquid go?\""
   ]
  },
  {
   "cell_type": "markdown",
   "metadata": {},
   "source": [
    "There are also two keywords for callbacks which should be executed independently a) of how many transitions are possible, b) if any transition succeeds and c) even if an error is raised during the execution of some other callback. Callbacks passed to Machine with prepare_event will be executed once before processing possible transitions (and their individual prepare callbacks) takes place. Callbacks of finalize_event will be executed regardless of the success of the processed transitions. Note that if an error occurred it will be attached to event_data as error and can be retrieved with send_event=True."
   ]
  },
  {
   "cell_type": "code",
   "execution_count": null,
   "metadata": {},
   "outputs": [],
   "source": [
    "from transitions import Machine\n",
    "\n",
    "class Matter(object):\n",
    "    def raise_error(self, event): raise ValueError(\"Oh no\")\n",
    "    def prepare(self, event): print(\"I am ready!\")\n",
    "    def finalize(self, event): print(\"Result: \", type(event.error), event.error)\n",
    "\n",
    "states=['solid', 'liquid', 'gas', 'plasma']\n",
    "\n",
    "lump = Matter()\n",
    "m = Machine(lump, states, prepare_event='prepare', before_state_change='raise_error',\n",
    "            finalize_event='finalize', send_event=True)\n",
    "try:\n",
    "    lump.to_gas()\n",
    "except ValueError:\n",
    "    pass\n",
    "print(lump.state)\n",
    "\n",
    "#I am ready!\n",
    "#Result:  <class 'ValueError'> Oh no\n",
    "#initial"
   ]
  },
  {
   "cell_type": "markdown",
   "metadata": {},
   "source": [
    "### Callable resolution\n",
    "\n",
    "\n",
    "As you have probably already realized, the standard way of passing callables to states, conditions and transitions is by name. When processing callbacks and conditions, transitions will use their name to retrieve the related callable from the model. If the method cannot be retrieved and it contains dots, transitions will treat the name as a path to a module function and try to import it. Alternatively, you can pass names of properties or attributes. They will be wrapped into functions but cannot receive event data for obvious reasons. You can also pass callables such as (bound) functions directly. As mentioned earlier, you can also pass lists/tuples of callables names to the callback parameters. Callbacks will be executed in the order they were added."
   ]
  },
  {
   "cell_type": "code",
   "execution_count": null,
   "metadata": {},
   "outputs": [],
   "source": [
    "from transitions import Machine\n",
    "from mod import imported_func\n",
    "\n",
    "import random\n",
    "\n",
    "\n",
    "class Model(object):\n",
    "\n",
    "    def a_callback(self):\n",
    "        imported_func()\n",
    "\n",
    "    @property\n",
    "    def a_property(self):\n",
    "        \"\"\" Basically a coin toss. \"\"\"\n",
    "        return random.random() < 0.5\n",
    "\n",
    "    an_attribute = False\n",
    "\n",
    "\n",
    "model = Model()\n",
    "machine = Machine(model=model, states=['A'], initial='A')\n",
    "machine.add_transition('by_name', 'A', 'A', conditions='a_property', after='a_callback')\n",
    "machine.add_transition('by_reference', 'A', 'A', unless=['a_property', 'an_attribute'], after=model.a_callback)\n",
    "machine.add_transition('imported', 'A', 'A', after='mod.imported_func')\n",
    "\n",
    "model.by_name()\n",
    "model.by_reference()\n",
    "model.imported()"
   ]
  },
  {
   "cell_type": "markdown",
   "metadata": {},
   "source": [
    "The callable resolution is done in Machine.resolve_callable. This method can be overridden in case more complex callable resolution strategies are required."
   ]
  },
  {
   "cell_type": "markdown",
   "metadata": {},
   "source": [
    "### Example"
   ]
  },
  {
   "cell_type": "code",
   "execution_count": null,
   "metadata": {},
   "outputs": [],
   "source": [
    "class CustomMachine(Machine):\n",
    "    @staticmethod\n",
    "    def resolve_callable(func, event_data):\n",
    "        # manipulate arguments here and return func, or super() if no manipulation is done.\n",
    "        super(CustomMachine, CustomMachine).resolve_callable(func, event_data)"
   ]
  },
  {
   "cell_type": "markdown",
   "metadata": {},
   "source": [
    "### Callback execution order\n",
    "\n",
    "In summary, callbacks on transitions are executed in the following order:"
   ]
  },
  {
   "cell_type": "markdown",
   "metadata": {},
   "source": [
    "Callback\t             Current State\t Comments\n",
    "'machine.prepare_event'\tsource\texecuted once before individual transitions are processed\n",
    "'transition.prepare'\tsource\texecuted as soon as the transition starts\n",
    "'transition.conditions'\tsource\tconditions may fail and halt the transition\n",
    "'transition.unless'\tsource\tconditions may fail and halt the transition\n",
    "'machine.before_state_change'\tsource\tdefault callbacks declared on model\n",
    "'transition.before'\tsource\t\n",
    "'state.on_exit'\tsource\tcallbacks declared on the source state\n",
    "<STATE CHANGE>\t\t\n",
    "'state.on_enter'\tdestination\tcallbacks declared on the destination state\n",
    "'transition.after'\tdestination\t\n",
    "'machine.after_state_change'\tdestination\tdefault callbacks declared on model\n",
    "'machine.finalize_event'\tsource/destination\tcallbacks will be executed even if no transition took place or an exception has been raised\n",
    "\n",
    "If any callback raises an exception, the processing of callbacks is not continued. This means that when an error occurs before the transition (in state.on_exit or earlier), it is halted. In case there is a raise after the transition has been conducted (in state.on_enter or later), the state change persists and no rollback is happening. Callbacks specified in machine.finalize_event will always be executed unless the exception is raised by a finalizing callback itself."
   ]
  },
  {
   "cell_type": "markdown",
   "metadata": {},
   "source": [
    "### Passing data\n",
    "\n",
    "Sometimes you need to pass the callback functions registered at machine initialization some data that reflects the model's current state. Transitions allows you to do this in two different ways.\n",
    "\n",
    "First (the default), you can pass any positional or keyword arguments directly to the trigger methods (created when you call add_transition()):"
   ]
  },
  {
   "cell_type": "code",
   "execution_count": null,
   "metadata": {},
   "outputs": [],
   "source": [
    "class Matter(object):\n",
    "    def __init__(self): self.set_environment()\n",
    "    def set_environment(self, temp=0, pressure=101.325):\n",
    "        self.temp = temp\n",
    "        self.pressure = pressure\n",
    "    def print_temperature(self): print(\"Current temperature is %d degrees celsius.\" % self.temp)\n",
    "    def print_pressure(self): print(\"Current pressure is %.2f kPa.\" % self.pressure)\n",
    "\n",
    "lump = Matter()\n",
    "machine = Machine(lump, ['solid', 'liquid'], initial='solid')\n",
    "machine.add_transition('melt', 'solid', 'liquid', before='set_environment')\n",
    "\n",
    "lump.melt(45)  # positional arg;\n",
    "# equivalent to lump.trigger('melt', 45)\n",
    "lump.print_temperature()\n",
    "'Current temperature is 45 degrees celsius.'\n",
    "\n",
    "machine.set_state('solid')  # reset state so we can melt again\n",
    "lump.melt(pressure=300.23)  # keyword args also work\n",
    "lump.print_pressure()\n",
    "#'Current pressure is 300.23 kPa.'"
   ]
  },
  {
   "cell_type": "markdown",
   "metadata": {},
   "source": [
    "You can pass any number of arguments you like to the trigger.\n",
    "\n",
    "There is one important limitation to this approach: every callback function triggered by the state transition must be able to handle all of the arguments. This may cause problems if the callbacks each expect somewhat different data.\n",
    "\n",
    "To get around this, Transitions supports an alternate method for sending data. If you set send_event=True at Machine initialization, all arguments to the triggers will be wrapped in an EventData instance and passed on to every callback. (The EventData object also maintains internal references to the source state, model, transition, machine, and trigger associated with the event, in case you need to access these for anything.)"
   ]
  },
  {
   "cell_type": "code",
   "execution_count": null,
   "metadata": {},
   "outputs": [],
   "source": [
    "class Matter(object):\n",
    "\n",
    "    def __init__(self):\n",
    "        self.temp = 0\n",
    "        self.pressure = 101.325\n",
    "\n",
    "    # Note that the sole argument is now the EventData instance.\n",
    "    # This object stores positional arguments passed to the trigger method in the\n",
    "    # .args property, and stores keywords arguments in the .kwargs dictionary.\n",
    "    def set_environment(self, event):\n",
    "        self.temp = event.kwargs.get('temp', 0)\n",
    "        self.pressure = event.kwargs.get('pressure', 101.325)\n",
    "\n",
    "    def print_pressure(self): print(\"Current pressure is %.2f kPa.\" % self.pressure)\n",
    "\n",
    "lump = Matter()\n",
    "machine = Machine(lump, ['solid', 'liquid'], send_event=True, initial='solid')\n",
    "machine.add_transition('melt', 'solid', 'liquid', before='set_environment')\n",
    "\n",
    "lump.melt(temp=45, pressure=1853.68)  # keyword args\n",
    "lump.print_pressure()\n",
    "'Current pressure is 1853.68 kPa.'"
   ]
  },
  {
   "cell_type": "markdown",
   "metadata": {},
   "source": [
    "### Alternative initialization patterns\n",
    "\n",
    "In all of the examples so far, we've attached a new Machine instance to a separate model (lump, an instance of class Matter). While this separation keeps things tidy (because you don't have to monkey patch a whole bunch of new methods into the Matter class), it can also get annoying, since it requires you to keep track of which methods are called on the state machine, and which ones are called on the model that the state machine is bound to (e.g., lump.on_enter_StateA() vs. machine.add_transition()).\n",
    "\n",
    "Fortunately, Transitions is flexible, and supports two other initialization patterns.\n",
    "\n",
    "First, you can create a standalone state machine that doesn't require another model at all. Simply omit the model argument during initialization:"
   ]
  },
  {
   "cell_type": "code",
   "execution_count": null,
   "metadata": {},
   "outputs": [],
   "source": [
    "machine = Machine(states=states, transitions=transitions, initial='solid')\n",
    "machine.melt()\n",
    "machine.state\n",
    "#'liquid'"
   ]
  },
  {
   "cell_type": "markdown",
   "metadata": {},
   "source": [
    "If you initialize the machine this way, you can then attach all triggering events (like evaporate(), sublimate(), etc.) and all callback functions directly to the Machine instance.\n",
    "\n",
    "This approach has the benefit of consolidating all of the state machine functionality in one place, but can feel a little bit unnatural if you think state logic should be contained within the model itself rather than in a separate controller.\n",
    "\n",
    "An alternative (potentially better) approach is to have the model inherit from the Machine class. Transitions is designed to support inheritance seamlessly. (just be sure to override class Machine's __init__ method!):"
   ]
  },
  {
   "cell_type": "code",
   "execution_count": null,
   "metadata": {},
   "outputs": [],
   "source": [
    "class Matter(Machine):\n",
    "    def say_hello(self): print(\"hello, new state!\")\n",
    "    def say_goodbye(self): print(\"goodbye, old state!\")\n",
    "\n",
    "    def __init__(self):\n",
    "        states = ['solid', 'liquid', 'gas']\n",
    "        Machine.__init__(self, states=states, initial='solid')\n",
    "        self.add_transition('melt', 'solid', 'liquid')\n",
    "\n",
    "lump = Matter()\n",
    "lump.state\n",
    "#'solid'"
   ]
  },
  {
   "cell_type": "code",
   "execution_count": null,
   "metadata": {},
   "outputs": [],
   "source": [
    "lump.melt()\n",
    "#lump.state\n",
    "'liquid'"
   ]
  },
  {
   "cell_type": "markdown",
   "metadata": {},
   "source": [
    "Here you get to consolidate all state machine functionality into your existing model, which often feels more natural way than sticking all of the functionality we want in a separate standalone Machine instance.\n",
    "\n",
    "A machine can handle multiple models which can be passed as a list like Machine(model=[model1, model2, ...]). In cases where you want to add models as well as the machine instance itself, you can pass the string placeholder 'self' during initialization like Machine(model=['self', model1, ...]). You can also create a standalone machine, and register models dynamically via machine.add_model by passing model=None to the constructor. Remember to call machine.remove_model if machine is long-lasting and your models are temporary and should be garbage collected:"
   ]
  },
  {
   "cell_type": "code",
   "execution_count": null,
   "metadata": {},
   "outputs": [],
   "source": [
    "class Matter():\n",
    "    pass\n",
    "\n",
    "lump1 = Matter()\n",
    "lump2 = Matter()\n",
    "\n",
    "# setting 'model' to None or passing an empty list will initialize the machine without a model\n",
    "machine = Machine(model=None, states=states, transitions=transitions, initial='solid')\n",
    "\n",
    "machine.add_model(lump1)\n",
    "machine.add_model(lump2, initial='liquid')\n",
    "\n",
    "lump1.state\n",
    "'solid'\n",
    "lump2.state\n",
    "'liquid'\n",
    "\n",
    "machine.remove_model([lump1, lump2])\n",
    "del lump1  # lump1 is garbage collected\n",
    "del lump2  # lump2 is garbage collected"
   ]
  },
  {
   "cell_type": "markdown",
   "metadata": {},
   "source": [
    "If you don't provide an initial state in the state machine constructor, transitions will create and add a default state called 'initial'. If you do not want a default initial state, you can pass initial=None. However, in this case you need to pass an initial state every time you add a model."
   ]
  },
  {
   "cell_type": "code",
   "execution_count": null,
   "metadata": {},
   "outputs": [],
   "source": [
    "machine = Machine(model=None, states=states, transitions=transitions, initial=None)\n",
    "\n",
    "machine.add_model(Matter())\n",
    "#\"MachineError: No initial state configured for machine, must specify when adding model.\""
   ]
  },
  {
   "cell_type": "code",
   "execution_count": null,
   "metadata": {},
   "outputs": [],
   "source": [
    "machine.add_model(Matter(), initial='liquid')\n",
    "Models with multiple states could attach multiple machines using different model_attribute values. As mentioned in Checking state, this will add custom is/to_<model_attribute>_<state_name> functions:\n",
    "\n",
    "lump = Matter()\n",
    "\n",
    "matter_machine = Machine(lump, states=['solid', 'liquid', 'gas'], initial='solid')\n",
    "# add a second machine to the same model but assign a different state attribute\n",
    "shipment_machine = Machine(lump, states=['delivered', 'shipping'], initial='delivered', model_attribute='shipping_state')\n",
    "\n",
    "lump.state\n",
    "#'solid'"
   ]
  },
  {
   "cell_type": "code",
   "execution_count": null,
   "metadata": {},
   "outputs": [],
   "source": [
    "lump.is_solid()  # check the default field\n",
    "#True"
   ]
  },
  {
   "cell_type": "code",
   "execution_count": null,
   "metadata": {},
   "outputs": [],
   "source": [
    "lump.shipping_state\n",
    "#'delivered'"
   ]
  },
  {
   "cell_type": "code",
   "execution_count": null,
   "metadata": {},
   "outputs": [],
   "source": [
    "lump.is_shipping_state_delivered()  # check the custom field.\n",
    "#True"
   ]
  },
  {
   "cell_type": "code",
   "execution_count": null,
   "metadata": {},
   "outputs": [],
   "source": [
    "lump.to_shipping_state_shipping()\n",
    "#True"
   ]
  },
  {
   "cell_type": "code",
   "execution_count": null,
   "metadata": {},
   "outputs": [],
   "source": [
    "lump.is_shipping_state_delivered()\n",
    "#False"
   ]
  },
  {
   "cell_type": "markdown",
   "metadata": {},
   "source": [
    "### Logging\n",
    "Transitions includes very rudimentary logging capabilities. A number of events – namely, state changes, transition triggers, and conditional checks – are logged as INFO-level events using the standard Python logging module. This means you can easily configure logging to standard output in a script:"
   ]
  },
  {
   "cell_type": "code",
   "execution_count": null,
   "metadata": {},
   "outputs": [],
   "source": [
    "# Set up logging; The basic log level will be DEBUG\n",
    "import logging\n",
    "logging.basicConfig(level=logging.DEBUG)\n",
    "# Set transitions' log level to INFO; DEBUG messages will be omitted\n",
    "logging.getLogger('transitions').setLevel(logging.INFO)\n",
    "\n",
    "# Business as usual\n",
    "machine = Machine(states=states, transitions=transitions, initial='solid')\n",
    "#..."
   ]
  },
  {
   "cell_type": "markdown",
   "metadata": {},
   "source": [
    "### (Re-)Storing machine instances\n",
    "\n",
    "Machines are picklable and can be stored and loaded with pickle. For Python 3.3 and earlier dill is required."
   ]
  },
  {
   "cell_type": "code",
   "execution_count": null,
   "metadata": {},
   "outputs": [],
   "source": [
    "import dill as pickle # only required for Python 3.3 and earlier\n",
    "\n",
    "m = Machine(states=['A', 'B', 'C'], initial='A')\n",
    "m.to_B()\n",
    "m.state  \n",
    "B\n",
    "\n",
    "# store the machine\n",
    "dump = pickle.dumps(m)\n",
    "\n",
    "# load the Machine instance again\n",
    "m2 = pickle.loads(dump)"
   ]
  },
  {
   "cell_type": "code",
   "execution_count": null,
   "metadata": {},
   "outputs": [],
   "source": [
    "m2.state\n",
    "#B"
   ]
  },
  {
   "cell_type": "code",
   "execution_count": null,
   "metadata": {},
   "outputs": [],
   "source": [
    "m2.states.keys()\n",
    "#['A', 'B', 'C']"
   ]
  },
  {
   "cell_type": "markdown",
   "metadata": {},
   "source": [
    "Extensions\n",
    "Even though the core of transitions is kept lightweight, there are a variety of MixIns to extend its functionality. Currently supported are:\n",
    "\n",
    "    1. Diagrams to visualize the current state of a machine\n",
    "    2. Hierarchical State Machines for nesting and reuse\n",
    "    3. Threadsafe Locks for parallel execution\n",
    "    4. Async callbacks for asynchronous execution\n",
    "    5. Custom States for extended state-related behaviour\n",
    "\n",
    "There are two mechanisms to retrieve a state machine instance with the desired features enabled. The first approach makes use of the convenience factory with the four parameters graph, nested, locked or asyncio set to `True` if the feature is required:"
   ]
  },
  {
   "cell_type": "code",
   "execution_count": null,
   "metadata": {},
   "outputs": [],
   "source": [
    "from transitions.extensions import MachineFactory\n",
    "\n",
    "# create a machine with mixins\n",
    "diagram_cls = MachineFactory.get_predefined(graph=True)\n",
    "nested_locked_cls = MachineFactory.get_predefined(nested=True, locked=True)\n",
    "async_machine_cls = MachineFactory.get_predefined(asyncio=True)\n",
    "\n",
    "# create instances from these classes\n",
    "# instances can be used like simple machines\n",
    "machine1 = diagram_cls(model, state, transitions)\n",
    "machine2 = nested_locked_cls(model, state, transitions)"
   ]
  },
  {
   "cell_type": "markdown",
   "metadata": {},
   "source": [
    "This approach targets experimental use since in this case the underlying classes do not have to be known. However, classes can also be directly imported from transitions.extensions. The naming scheme is as follows:\n",
    "\n",
    "```\n",
    "                Diagrams\tNested\tLocked\tAsyncio\n",
    "Machine\t            ✘\t      ✘\t     ✘\t     ✘\n",
    "GraphMachine        ✓\t      ✘\t     ✘\t     ✘\n",
    "HierarchicalMachine\t✘\t      ✓\t     ✘\t     ✘\n",
    "LockedMachine\t    ✘\t      ✘\t     ✓\t     ✘\n",
    "HierarchicalGraphMachine\t✓\t✓\t✘\t✘\n",
    "LockedGraphMachine\t✓\t✘\t✓\t✘\n",
    "LockedHierarchicalMachine\t✘\t✓\t✓\t✘\n",
    "LockedHierarchicalGraphMachine\t✓\t✓\t✓\t✘\n",
    "AsyncMachine\t✘\t✘\t✘\t✓\n",
    "AsyncGraphMachine\t✓\t✘\t✘\t✓\n",
    "HierarchicalAsyncMachine\t✘\t✓\t✘\t✓\n",
    "HierarchicalAsyncGraphMachine\t✓\t✓\t✘\t✓\n",
    "```\n",
    "\n",
    "To use a feature-rich state machine, one could write:"
   ]
  },
  {
   "cell_type": "code",
   "execution_count": null,
   "metadata": {},
   "outputs": [],
   "source": [
    "from transitions.extensions import LockedHierarchicalGraphMachine as Machine\n",
    "\n",
    "machine = Machine(model, states, transitions)\n",
    "\n",
    "Diagrams\n",
    "Additional Keywords:\n",
    "\n",
    "title (optional): Sets the title of the generated image.\n",
    "show_conditions (default False): Shows conditions at transition edges\n",
    "show_auto_transitions (default False): Shows auto transitions in graph\n",
    "show_state_attributes (default False): Show callbacks (enter, exit), tags and timeouts in graph\n",
    "\n",
    "    "
   ]
  },
  {
   "cell_type": "markdown",
   "metadata": {},
   "source": [
    "Transitions can generate basic state diagrams displaying all valid transitions between states. To use the graphing functionality, you'll need to have graphviz and/or pygraphviz installed:\n",
    "To generate graphs with the package graphviz, you need to install Graphviz manually or via a package manager."
   ]
  },
  {
   "cell_type": "markdown",
   "metadata": {},
   "source": [
    "```\n",
    "sudo apt-get install graphviz  # Ubuntu and Debian\n",
    "brew install graphviz  # MacOS\n",
    "conda install graphviz python-graphviz  # (Ana)conda\n",
    "```\n",
    "\n",
    "Now you can install the actual Python packages\n",
    "\n",
    "```\n",
    "pip install graphviz pygraphviz # install graphviz and/or pygraphviz manually...\n",
    "pip install transitions[diagrams]  # ... or install transitions with 'diagrams' extras which currently depends on pygraphviz\n",
    "```\n",
    "\n",
    "Currently, GraphMachine will use `pygraphviz` when available and fall back to `graphviz` when `pygraphviz` cannot be found. This can be overridden by passing `use_pygraphviz=False` to the constructor. Note that this default might change in the future and `pygraphviz` support may be dropped. With `Model.get_graph()` you can get the current graph or the region of interest (roi) and draw it like this:"
   ]
  },
  {
   "cell_type": "markdown",
   "metadata": {},
   "source": [
    "\n",
    "```\n",
    "from transitions.extensions import GraphMachine as Machine\n",
    "m = Model()\n",
    "# without further arguments pygraphviz will be used\n",
    "machine = Machine(model=m, ...)\n",
    "# when you want to use graphviz explicitely\n",
    "machine = Machine(model=m, use_pygraphviz=False, ...)\n",
    "# in cases where auto transitions should be visible\n",
    "machine = Machine(model=m, show_auto_transitions=True, ...)\n",
    "\n",
    "# draw the whole graph ...\n",
    "m.get_graph().draw('my_state_diagram.png', prog='dot')\n",
    "# ... or just the region of interest\n",
    "# (previous state, active state and all reachable states)\n",
    "roi = m.get_graph(show_roi=True).draw('my_state_diagram.png', prog='dot')\n",
    "```"
   ]
  },
  {
   "cell_type": "markdown",
   "metadata": {},
   "source": [
    "This produces something like this:\n",
    "\n",
    "state diagram example\n",
    "\n",
    "Also, have a look at our example IPython/Jupyter notebooks for a more detailed example about how to use and edit graphs.\n",
    "\n",
    "Hierarchical State Machine (HSM)\n",
    "Transitions includes an extension module which allows to nest states. This allows to create contexts and to model cases where states are related to certain subtasks in the state machine. To create a nested state, either import NestedState from transitions or use a dictionary with the initialization arguments name and children. Optionally, initial can be used to define a sub state to transit to, when the nested state is entered."
   ]
  },
  {
   "cell_type": "code",
   "execution_count": null,
   "metadata": {},
   "outputs": [],
   "source": [
    "from transitions.extensions import HierarchicalMachine as Machine\n",
    "\n",
    "states = ['standing', 'walking', {'name': 'caffeinated', 'children':['dithering', 'running']}]\n",
    "transitions = [\n",
    "  ['walk', 'standing', 'walking'],\n",
    "  ['stop', 'walking', 'standing'],\n",
    "  ['drink', '*', 'caffeinated'],\n",
    "  ['walk', ['caffeinated', 'caffeinated_dithering'], 'caffeinated_running'],\n",
    "  ['relax', 'caffeinated', 'standing']\n",
    "]\n",
    "\n",
    "machine = Machine(states=states, transitions=transitions, initial='standing', ignore_invalid_triggers=True)\n",
    "\n",
    "machine.walk() # Walking now\n",
    "machine.stop() # let's stop for a moment\n",
    "machine.drink() # coffee time\n",
    "machine.state\n",
    "'caffeinated'\n",
    "machine.walk() # we have to go faster\n",
    "machine.state\n",
    "'caffeinated_running'\n",
    "machine.stop() # can't stop moving!\n",
    "machine.state\n",
    "'caffeinated_running'\n",
    "machine.relax() # leave nested state\n",
    "machine.state # phew, what a ride\n",
    "'standing'\n",
    "# machine.on_enter_caffeinated_running('callback_method')\n",
    "A configuration making use of initial could look like this:\n",
    "\n",
    "# ...\n",
    "states = ['standing', 'walking', {'name': 'caffeinated', 'initial': 'dithering', 'children': ['dithering', 'running']}]\n",
    "transitions = [\n",
    "  ['walk', 'standing', 'walking'],\n",
    "  ['stop', 'walking', 'standing'],\n",
    "  # this transition will end in 'caffeinated_dithering'...\n",
    "  ['drink', '*', 'caffeinated'],\n",
    "  # ... that is why we do not need do specify 'caffeinated' here anymore\n",
    "  ['walk', 'caffeinated_dithering', 'caffeinated_running'],\n",
    "  ['relax', 'caffeinated', 'standing']\n",
    "]\n",
    "# ..."
   ]
  },
  {
   "cell_type": "markdown",
   "metadata": {},
   "source": [
    "The initial keyword of the HierarchicalMachine constructor accepts nested states (e.g. initial='caffeinated_running') and a list of states which is considered to be a parallel state (e.g. initial=['A', 'B']) or the current state of another model (initial=model.state) which should be effectively one of the previous mentioned options. Note that when passing a string, transition will check the targeted state for initial substates and use this as an entry state. This will be done recursively until a substate does not mention an initial state. Parallel states or a state passed as a list will be used 'as is' and no further initial evaluation will be conducted.\n",
    "\n",
    "Note that your previously created state object must be a NestedState or a derived class of it. The standard State class used in simple Machine instances lacks features required for nesting."
   ]
  },
  {
   "cell_type": "code",
   "execution_count": null,
   "metadata": {},
   "outputs": [],
   "source": [
    "from transitions.extensions.nesting import HierarchicalMachine, NestedState\n",
    "from transitions import  State\n",
    "m = HierarchicalMachine(states=['A'], initial='initial')\n",
    "m.add_state('B')  # fine\n",
    "m.add_state({'name': 'C'})  # also fine\n",
    "m.add_state(NestedState('D'))  # fine as well\n",
    "m.add_state(State('E'))  # does not work!"
   ]
  },
  {
   "cell_type": "markdown",
   "metadata": {},
   "source": [
    "Some things that have to be considered when working with nested states: State names are concatenated with NestedState.separator. Currently the separator is set to underscore ('_') and therefore behaves similar to the basic machine. This means a substate bar from state foo will be known by foo_bar. A substate baz of bar will be referred to as foo_bar_baz and so on. When entering a substate, enter will be called for all parent states. The same is true for exiting substates. Third, nested states can overwrite transition behaviour of their parents. If a transition is not known to the current state it will be delegated to its parent.\n",
    "\n",
    "This means that in the standard configuration, state names in HSMs MUST NOT contain underscores. For transitions it's impossible to tell whether machine.add_state('state_name') should add a state named state_name or add a substate name to the state state. In some cases this is not sufficient however. For instance if state names consists of more than one word and you want/need to use underscore to separate them instead of CamelCase. To deal with this, you can change the character used for separation quite easily. You can even use fancy unicode characters if you use Python 3. Setting the separator to something else than underscore changes some of the behaviour (auto_transition and setting callbacks) though:"
   ]
  },
  {
   "cell_type": "code",
   "execution_count": null,
   "metadata": {},
   "outputs": [],
   "source": [
    "from transitions.extensions.nesting import NestedState\n",
    "NestedState.separator = '↦'\n",
    "states = ['A', 'B',\n",
    "  {'name': 'C', 'children':['1', '2',\n",
    "    {'name': '3', 'children': ['a', 'b', 'c']}\n",
    "  ]}\n",
    "]\n",
    "\n",
    "transitions = [\n",
    "    ['reset', 'C', 'A'],\n",
    "    ['reset', 'C↦2', 'C']  # overwriting parent reset\n",
    "]\n",
    "\n",
    "# we rely on auto transitions\n",
    "machine = Machine(states=states, transitions=transitions, initial='A')\n",
    "machine.to_B()  # exit state A, enter state B\n",
    "machine.to_C()  # exit B, enter C\n",
    "machine.to_C.s3.a()  # enter C↦a; enter C↦3↦a;\n",
    "machine.state,\n",
    "'C↦3↦a'\n",
    "machine.to('C↦2')  # not interactive; exit C↦3↦a, exit C↦3, enter C↦2\n",
    "machine.reset()  # exit C↦2; reset C has been overwritten by C↦3\n",
    "machine.state\n",
    "'C'\n",
    "machine.reset()  # exit C, enter A\n",
    "machine.state\n",
    "'A'\n",
    "# s.on_enter('C↦3↦a', 'callback_method')"
   ]
  },
  {
   "cell_type": "code",
   "execution_count": null,
   "metadata": {},
   "outputs": [],
   "source": [
    "Instead of to_C_3_a() auto transition is called as to_C.s3.a(). If your substate starts with a digit, transitions adds a prefix 's' ('3' becomes 's3') to the auto transition FunctionWrapper to comply with the attribute naming scheme of Python. If interactive completion is not required, to('C↦3↦a') can be called directly. Additionally, on_enter/exit_<<state name>> is replaced with on_enter/exit(state_name, callback).\n",
    "\n",
    "To check whether the current state is a substate of a specific state is_state supports the keyword allow_substates:"
   ]
  },
  {
   "cell_type": "code",
   "execution_count": null,
   "metadata": {},
   "outputs": [],
   "source": [
    "machine.state\n",
    "#'C.2.a'"
   ]
  },
  {
   "cell_type": "code",
   "execution_count": null,
   "metadata": {},
   "outputs": [],
   "source": [
    "machine.is_C() # checks for specific states\n",
    "#False"
   ]
  },
  {
   "cell_type": "code",
   "execution_count": null,
   "metadata": {},
   "outputs": [],
   "source": [
    "machine.is_C(allow_substates=True)\n",
    "#True"
   ]
  },
  {
   "cell_type": "markdown",
   "metadata": {},
   "source": [
    "### new in 0.8.0\n",
    "\n",
    "You can use enumerations in HSMs as well but keep in mind that Enum are compared by value. If you have a value more than once in a state tree those states cannot be distinguished."
   ]
  },
  {
   "cell_type": "code",
   "execution_count": null,
   "metadata": {},
   "outputs": [],
   "source": [
    "states = [States.RED, States.YELLOW, {'name': States.GREEN, 'children': ['tick', 'tock']}]\n",
    "states = ['A', {'name': 'B', 'children': states, 'initial': States.GREEN}, States.GREEN]\n",
    "machine = HierarchicalMachine(states=states)\n",
    "machine.to_B()\n",
    "machine.is_GREEN()  # returns True even though the actual state is B_GREEN"
   ]
  },
  {
   "cell_type": "markdown",
   "metadata": {},
   "source": [
    "### new in 0.8.0\n",
    "\n",
    "HierarchicalMachine has been rewritten from scratch to support parallel states and better isolation of nested states. This involves some tweaks based on community feedback. To get an idea of processing order and configuration have a look at the following example:"
   ]
  },
  {
   "cell_type": "code",
   "execution_count": null,
   "metadata": {},
   "outputs": [],
   "source": [
    "from transitions.extensions.nesting import HierarchicalMachine\n",
    "import logging\n",
    "states = ['A', 'B', {'name': 'C', 'parallel': [{'name': '1', 'children': ['a', 'b', 'c'], 'initial': 'a',\n",
    "                                                'transitions': [['go', 'a', 'b']]},\n",
    "                                               {'name': '2', 'children': ['x', 'y', 'z'], 'initial': 'z'}],\n",
    "                      'transitions': [['go', '2_z', '2_x']]}]\n",
    "\n",
    "transitions = [['reset', 'C_1_b', 'B']]\n",
    "logging.basicConfig(level=logging.INFO)\n",
    "machine = HierarchicalMachine(states=states, transitions=transitions, initial='A')\n",
    "machine.to_C()\n",
    "# INFO:transitions.extensions.nesting:Exited state A\n",
    "# INFO:transitions.extensions.nesting:Entered state C\n",
    "# INFO:transitions.extensions.nesting:Entered state C_1\n",
    "# INFO:transitions.extensions.nesting:Entered state C_2\n",
    "# INFO:transitions.extensions.nesting:Entered state C_1_a\n",
    "# INFO:transitions.extensions.nesting:Entered state C_2_z"
   ]
  },
  {
   "cell_type": "code",
   "execution_count": null,
   "metadata": {},
   "outputs": [],
   "source": [
    "machine.go()\n",
    "# INFO:transitions.extensions.nesting:Exited state C_1_a\n",
    "# INFO:transitions.extensions.nesting:Entered state C_1_b\n",
    "# INFO:transitions.extensions.nesting:Exited state C_2_z\n",
    "# INFO:transitions.extensions.nesting:Entered state C_2_x"
   ]
  },
  {
   "cell_type": "code",
   "execution_count": null,
   "metadata": {},
   "outputs": [],
   "source": [
    "machine.reset()\n",
    "# INFO:transitions.extensions.nesting:Exited state C_1_b\n",
    "# INFO:transitions.extensions.nesting:Exited state C_2_x\n",
    "# INFO:transitions.extensions.nesting:Exited state C_1\n",
    "# INFO:transitions.extensions.nesting:Exited state C_2\n",
    "# INFO:transitions.extensions.nesting:Exited state C\n",
    "# INFO:transitions.extensions.nesting:Entered state B"
   ]
  },
  {
   "cell_type": "markdown",
   "metadata": {},
   "source": [
    "When using parallel instead of children, transitions will enter all states of the passed list at the same time. Which substate to enter is defined by initial which should always point to a direct substate. A novel feature is to define local transitions by passing the transitions keyword in a state definition. The above defined transition ['go', 'a', 'b'] is only valid in C_1. While you can reference substates as done in ['go', '2_z', '2_x'] you cannot reference parent states directly in locally defined transitions. When a parent state is exited, its children will also be exited. In addition to the processing order of transitions known from Machine where transitions are considered in the order they were added, HierarchicalMachine considers hierarchy as well. Transitions defined in substates will be evaluated first (e.g. C_1_a is left before C_2_z) and transitions defined with wildcard * will (for now) only add transitions to root states (in this example A, B, C) Starting with 0.8.0 nested states can be added directly and will issue the creation of parent states on-the-fly:"
   ]
  },
  {
   "cell_type": "code",
   "execution_count": null,
   "metadata": {},
   "outputs": [],
   "source": [
    "m = HierarchicalMachine(states=['A'], initial='A')\n",
    "m.add_state('B_1_a')\n",
    "m.to_B_1()\n",
    "assert m.is_B(allow_substates=True)"
   ]
  },
  {
   "cell_type": "markdown",
   "metadata": {},
   "source": [
    "### Reuse of previously created HSMs\n",
    "\n",
    "Besides semantic order, nested states are very handy if you want to specify state machines for specific tasks and plan to reuse them. Before 0.8.0, a HierarchicalMachine would not integrate the machine instance itself but the states and transitions by creating copies of them. However, since 0.8.0 (Nested)State instances are just referenced which means changes in one machine's collection of states and events will influence the other machine instance. Models and their state will not be shared though. Note that events and transitions are also copied by reference and will be shared by both instances if you do not use the remap keyword."
   ]
  },
  {
   "cell_type": "code",
   "execution_count": null,
   "metadata": {},
   "outputs": [],
   "source": [
    "count_states = ['1', '2', '3', 'done']\n",
    "count_trans = [\n",
    "    ['increase', '1', '2'],\n",
    "    ['increase', '2', '3'],\n",
    "    ['decrease', '3', '2'],\n",
    "    ['decrease', '2', '1'],\n",
    "    ['done', '3', 'done'],\n",
    "    ['reset', '*', '1']\n",
    "]\n",
    "\n",
    "counter = Machine(states=count_states, transitions=count_trans, initial='1')\n",
    "\n",
    "counter.increase() # love my counter\n",
    "states = ['waiting', 'collecting', {'name': 'counting', 'children': counter}]\n",
    "\n",
    "transitions = [\n",
    "    ['collect', '*', 'collecting'],\n",
    "    ['wait', '*', 'waiting'],\n",
    "    ['count', 'collecting', 'counting']\n",
    "]\n",
    "\n",
    "collector = Machine(states=states, transitions=transitions, initial='waiting')\n",
    "collector.collect()  # collecting\n",
    "collector.count()  # let's see what we got; counting_1\n",
    "collector.increase()  # counting_2\n",
    "collector.increase()  # counting_3\n",
    "collector.done()  # collector.state == counting_done\n",
    "collector.wait()  # collector.state == waiting"
   ]
  },
  {
   "cell_type": "markdown",
   "metadata": {},
   "source": [
    "If a HierarchicalMachine is passed with the children keyword, the initial state of this machine will be assigned to the new parent state. In the above example we see that entering counting will also enter counting_1. If this is undesired behaviour and the machine should rather halt in the parent state, the user can pass initial as False like {'name': 'counting', 'children': counter, 'initial': False}.\n",
    "\n",
    "Sometimes you want such an embedded state collection to 'return' which means after it is done it should exit and transit to one of your super states. To achieve this behaviour you can remap state transitions. In the example above we would like the counter to return if the state done was reached. This is done as follows:"
   ]
  },
  {
   "cell_type": "code",
   "execution_count": null,
   "metadata": {},
   "outputs": [],
   "source": [
    "states = ['waiting', 'collecting', {'name': 'counting', 'children': counter, 'remap': {'done': 'waiting'}}]\n",
    "\n",
    "# same as above\n",
    "\n",
    "collector.increase() # counting_3\n",
    "collector.done()\n",
    "collector.state\n",
    "#'waiting' be aware that 'counting_done' will be removed from the state machine"
   ]
  },
  {
   "cell_type": "markdown",
   "metadata": {},
   "source": [
    "As mentioned above, using remap will copy events and transitions since they could not be valid in the original state machine. If a reused state machine does not have a final state, you can of course add the transitions manually. If 'counter' had no 'done' state, we could just add ['done', 'counter_3', 'waiting'] to achieve the same behaviour.\n",
    "\n",
    "For complex state machines, sharing configurations rather than instantiated machines might be more feasible. Especially since instantiated machines must be derived from HierarchicalMachine. Such configurations can be stored and loaded easily via JSON or YAML (see the FAQ). HierarchicalMachine allows defining substates either with the keyword children or states. If both are present, only children will be considered."
   ]
  },
  {
   "cell_type": "code",
   "execution_count": null,
   "metadata": {},
   "outputs": [],
   "source": [
    "counter_conf = {\n",
    "    'name': 'counting',\n",
    "    'states': ['1', '2', '3', 'done'],\n",
    "    'transitions': [\n",
    "        ['increase', '1', '2'],\n",
    "        ['increase', '2', '3'],\n",
    "        ['decrease', '3', '2'],\n",
    "        ['decrease', '2', '1'],\n",
    "        ['done', '3', 'done'],\n",
    "        ['reset', '*', '1']\n",
    "    ],\n",
    "    'initial': '1'\n",
    "}\n",
    "\n",
    "collector_conf = {\n",
    "    'name': 'collector',\n",
    "    'states': ['waiting', 'collecting', counter_conf],\n",
    "    'transitions': [\n",
    "        ['collect', '*', 'collecting'],\n",
    "        ['wait', '*', 'waiting'],\n",
    "        ['count', 'collecting', 'counting']\n",
    "    ],\n",
    "    'initial': 'waiting'\n",
    "}\n",
    "\n",
    "collector = Machine(**collector_conf)\n",
    "collector.collect()\n",
    "collector.count()\n",
    "collector.increase()\n",
    "assert collector.is_counting_2()"
   ]
  },
  {
   "cell_type": "markdown",
   "metadata": {},
   "source": [
    "### Threadsafe(-ish) State Machine\n",
    "\n",
    "In cases where event dispatching is done in threads, one can use either LockedMachine or LockedHierarchicalMachine where function access (!sic) is secured with reentrant locks. This does not save you from corrupting your machine by tinkering with member variables of your model or state machine."
   ]
  },
  {
   "cell_type": "code",
   "execution_count": null,
   "metadata": {},
   "outputs": [],
   "source": [
    "from transitions.extensions import LockedMachine as Machine\n",
    "from threading import Thread\n",
    "import time\n",
    "\n",
    "states = ['A', 'B', 'C']\n",
    "machine = Machine(states=states, initial='A')\n",
    "\n",
    "# let us assume that entering B will take some time\n",
    "thread = Thread(target=machine.to_B)\n",
    "thread.start()\n",
    "time.sleep(0.01) # thread requires some time to start\n",
    "machine.to_C() # synchronized access; won't execute before thread is done\n",
    "# accessing attributes directly\n",
    "thread = Thread(target=machine.to_B)\n",
    "thread.start()\n",
    "machine.new_attrib = 42 # not synchronized! will mess with execution order"
   ]
  },
  {
   "cell_type": "markdown",
   "metadata": {},
   "source": [
    "Any python context manager can be passed in via the machine_context keyword argument:"
   ]
  },
  {
   "cell_type": "code",
   "execution_count": null,
   "metadata": {},
   "outputs": [],
   "source": [
    "from transitions.extensions import LockedMachine as Machine\n",
    "from threading import RLock\n",
    "\n",
    "states = ['A', 'B', 'C']\n",
    "\n",
    "lock1 = RLock()\n",
    "lock2 = RLock()\n",
    "\n",
    "machine = Machine(states=states, initial='A', machine_context=[lock1, lock2])\n",
    "Any contexts via machine_model will be shared between all models registered with the Machine. Per-model contexts can be added as well:\n",
    "\n",
    "lock3 = RLock()\n",
    "\n",
    "machine.add_model(model, model_context=lock3)"
   ]
  },
  {
   "cell_type": "markdown",
   "metadata": {},
   "source": [
    "It's important that all user-provided context managers are re-entrant since the state machine will call them multiple times, even in the context of a single trigger invocation.\n",
    "\n",
    "Using async callbacks\n",
    "If you are using Python 3.7 or later, you can use AsyncMachine to work with asynchronous callbacks. You can mix synchronous and asynchronous callbacks if you like but this may have undesired side effects. Note that events need to be awaited and the event loop must also be handled by you."
   ]
  },
  {
   "cell_type": "code",
   "execution_count": null,
   "metadata": {},
   "outputs": [],
   "source": [
    "from transitions.extensions.asyncio import AsyncMachine\n",
    "import asyncio\n",
    "import time\n",
    "\n",
    "\n",
    "class AsyncModel:\n",
    "\n",
    "    def prepare_model(self):\n",
    "        print(\"I am synchronous.\")\n",
    "        self.start_time = time.time()\n",
    "\n",
    "    async def before_change(self):\n",
    "        print(\"I am asynchronous and will block now for 100 milliseconds.\")\n",
    "        await asyncio.sleep(0.1)\n",
    "        print(\"I am done waiting.\")\n",
    "\n",
    "    def sync_before_change(self):\n",
    "        print(\"I am synchronous and will block the event loop (what I probably shouldn't)\")\n",
    "        time.sleep(0.1)\n",
    "        print(\"I am done waiting synchronously.\")\n",
    "\n",
    "    def after_change(self):\n",
    "        print(f\"I am synchronous again. Execution took {int((time.time() - self.start_time) * 1000)} ms.\")\n",
    "\n",
    "\n",
    "transition = dict(trigger=\"start\", source=\"Start\", dest=\"Done\", prepare=\"prepare_model\",\n",
    "                  before=[\"before_change\"] * 5 + [\"sync_before_change\"],\n",
    "                  after=\"after_change\")  # execute before function in asynchronously 5 times\n",
    "model = AsyncModel()\n",
    "machine = AsyncMachine(model, states=[\"Start\", \"Done\"], transitions=[transition], initial='Start')\n",
    "\n",
    "asyncio.get_event_loop().run_until_complete(model.start())\n",
    "# I am synchronous.\n",
    "#     I am asynchronous and will block now for 100 milliseconds.\n",
    "#     I am asynchronous and will block now for 100 milliseconds.\n",
    "#     I am asynchronous and will block now for 100 milliseconds.\n",
    "#     I am asynchronous and will block now for 100 milliseconds.\n",
    "#     I am asynchronous and will block now for 100 milliseconds.\n",
    "#     I am synchronous and will block the event loop (what I probably shouldn't)\n",
    "#     I am done waiting synchronously.\n",
    "#     I am done waiting.\n",
    "#     I am done waiting.\n",
    "#     I am done waiting.\n",
    "#     I am done waiting.\n",
    "#     I am done waiting.\n",
    "#     I am synchronous again. Execution took 101 ms.\n",
    "assert model.is_Done()\n",
    "So, why do you need to use Python 3.7 or later you may ask. Async support has been introduced earlier. AsyncMachine makes use of contextvars to handle running callbacks when new events arrive before a transition has been finished:\n",
    "\n",
    "async def await_never_return():\n",
    "    await asyncio.sleep(100)\n",
    "    raise ValueError(\"That took too long!\")\n",
    "\n",
    "async def fix():\n",
    "    await m2.fix()\n",
    "\n",
    "m1 = AsyncMachine(states=['A', 'B', 'C'], initial='A', name=\"m1\")\n",
    "m2 = AsyncMachine(states=['A', 'B', 'C'], initial='A', name=\"m2\")\n",
    "m2.add_transition(trigger='go', source='A', dest='B', before=await_never_return)\n",
    "m2.add_transition(trigger='fix', source='A', dest='C')\n",
    "m1.add_transition(trigger='go', source='A', dest='B', after='go')\n",
    "m1.add_transition(trigger='go', source='B', dest='C', after=fix)\n",
    "asyncio.get_event_loop().run_until_complete(asyncio.gather(m2.go(), m1.go()))\n",
    "\n",
    "assert m1.state == m2.state"
   ]
  },
  {
   "cell_type": "markdown",
   "metadata": {},
   "source": [
    "This example illustrates actually two things: First, that 'go' called in m1's transition from A to be B is not cancelled and second, calling m2.fix() will halt the transition attempt of m2 from A to B by executing 'fix' from A to C. This separation would not be possible without contextvars. Note that prepare and conditions are NOT treated as ongoing transitions. This means that after conditions have been evaluated, a transition is executed even though another event already happened. Tasks will only be cancelled when run as a before callback or later.\n",
    "\n",
    "AsyncMachine features a model-special queue mode which can be used when queued='model' is passed to the constructor. With model-specific queue, events will only be queued when they belong to the same model. Furthermore, a raised exception will only clear the event queue of the model that raised that exception. For the sake of simplicity, let's assume that every event in asyncion.gather below is not triggered at the same time but slightly delayed:"
   ]
  },
  {
   "cell_type": "code",
   "execution_count": null,
   "metadata": {},
   "outputs": [],
   "source": [
    "asyncio.gather(model1.event1(), model1.event2(), model2.event1())\n",
    "# execution order with AsyncMachine(queued=True)\n",
    "# model1.event1 -> model1.event2 -> model2.event1\n",
    "# execution order with AsyncMachine(queued='model')\n",
    "# (model1.event1, model2.event1) -> model1.event2\n",
    "\n",
    "asyncio.gather(model1.event1(), model1.error(), model1.event3(), model2.event1(), model2.event2(), model2.event3())\n",
    "# execution order with AsyncMachine(queued=True)\n",
    "# model1.event1 -> model1.error\n",
    "# execution order with AsyncMachine(queued='model')\n",
    "# (model1.event1, model2.event1) -> (model1.error, model2.event2) -> model2.event3"
   ]
  },
  {
   "cell_type": "markdown",
   "metadata": {},
   "source": [
    "Note that queue modes must not be changed after machine construction."
   ]
  },
  {
   "cell_type": "markdown",
   "metadata": {},
   "source": [
    "### Adding features to states\n",
    "\n",
    "If your superheroes need some custom behaviour, you can throw in some extra functionality by decorating machine states:"
   ]
  },
  {
   "cell_type": "code",
   "execution_count": null,
   "metadata": {},
   "outputs": [],
   "source": [
    "from time import sleep\n",
    "from transitions import Machine\n",
    "from transitions.extensions.states import add_state_features, Tags, Timeout\n",
    "\n",
    "\n",
    "@add_state_features(Tags, Timeout)\n",
    "class CustomStateMachine(Machine):\n",
    "    pass\n",
    "\n",
    "\n",
    "class SocialSuperhero(object):\n",
    "    def __init__(self):\n",
    "        self.entourage = 0\n",
    "\n",
    "    def on_enter_waiting(self):\n",
    "        self.entourage += 1\n",
    "\n",
    "\n",
    "states = [{'name': 'preparing', 'tags': ['home', 'busy']},\n",
    "          {'name': 'waiting', 'timeout': 1, 'on_timeout': 'go'},\n",
    "          {'name': 'away'}]  # The city needs us!\n",
    "\n",
    "transitions = [['done', 'preparing', 'waiting'],\n",
    "               ['join', 'waiting', 'waiting'],  # Entering Waiting again will increase our entourage\n",
    "               ['go', 'waiting', 'away']]  # Okay, let' move\n",
    "\n",
    "hero = SocialSuperhero()\n",
    "machine = CustomStateMachine(model=hero, states=states, transitions=transitions, initial='preparing')\n",
    "assert hero.state == 'preparing'  # Preparing for the night shift\n",
    "assert machine.get_state(hero.state).is_busy  # We are at home and busy\n",
    "hero.done()\n",
    "assert hero.state == 'waiting'  # Waiting for fellow superheroes to join us\n",
    "assert hero.entourage == 1  # It's just us so far\n",
    "sleep(0.7)  # Waiting...\n",
    "hero.join()  # Weeh, we got company\n",
    "sleep(0.5)  # Waiting...\n",
    "hero.join()  # Even more company \\o/\n",
    "sleep(2)  # Waiting...\n",
    "assert hero.state == 'away'  # Impatient superhero already left the building\n",
    "assert machine.get_state(hero.state).is_home is False  # Yupp, not at home anymore\n",
    "assert hero.entourage == 3  # At least he is not alone"
   ]
  },
  {
   "cell_type": "markdown",
   "metadata": {},
   "source": [
    "Currently, transitions comes equipped with the following state features:\n",
    "\n",
    "```\n",
    "Timeout -- triggers an event after some time has passed\n",
    "\n",
    "keyword: timeout (int, optional) -- if passed, an entered state will timeout after timeout seconds\n",
    "keyword: on_timeout (string/callable, optional) -- will be called when timeout time has been reached\n",
    "will raise an AttributeError when timeout is set but on_timeout is not\n",
    "Note: A timeout is triggered in a thread. This implies several limitations (e.g. catching Exceptions raised in timeouts). Consider an event queue for more sophisticated applications.\n",
    "Tags -- adds tags to states\n",
    "\n",
    "keyword: tags (list, optional) -- assigns tags to a state\n",
    "State.is_<tag_name> will return True when the state has been tagged with tag_name, else False\n",
    "Error -- raises a MachineError when a state cannot be left\n",
    "\n",
    "inherits from Tags (if you use Error do not use Tags)\n",
    "keyword: accepted (bool, optional) -- marks a state as accepted\n",
    "alternatively the keyword tags can be passed, containing 'accepted'\n",
    "Note: Errors will only be raised if auto_transitions has been set to False. Otherwise every state can be exited with to_<state> methods.\n",
    "Volatile -- initialises an object every time a state is entered\n",
    "\n",
    "keyword: volatile (class, optional) -- every time the state is entered an object of type class will be assigned to the model. The attribute name is defined by hook. If omitted, an empty VolatileObject will be created instead\n",
    "keyword: hook (string, default='scope') -- The model's attribute name fore the temporal object.\n",
    "```\n",
    "\n",
    "You can write your own State extensions and add them the same way. Just note that add_state_features expects Mixins. This means your extension should always call the overridden methods __init__, enter and exit. Your extension may inherit from State but will also work without it. In case you prefer to write your own custom states from scratch be aware that some state extensions require certain state features. HierarchicalMachine requires your custom state to be an instance of NestedState (State is not sufficient). To inject your states you can either assign them to your Machine's class attribute state_cls or override Machine.create_state in case you need some specific procedures done whenever a state is created:"
   ]
  },
  {
   "cell_type": "code",
   "execution_count": null,
   "metadata": {},
   "outputs": [],
   "source": [
    "from transitions import Machine, State\n",
    "\n",
    "class MyState(State):\n",
    "    pass\n",
    "\n",
    "class CustomMachine(Machine):\n",
    "    # Use MyState as state class\n",
    "    state_cls = MyState\n",
    "\n",
    "    \n",
    "class VerboseMachine(Machine):\n",
    "\n",
    "    # `Machine._create_state` is a class method but we can \n",
    "    # override it to be an instance method\n",
    "    def _create_state(self, *args, **kwargs):\n",
    "        print(\"Creating a new state with machine '{0}'\".format(self.name))\n",
    "        return MyState(*args, **kwargs)"
   ]
  },
  {
   "cell_type": "markdown",
   "metadata": {},
   "source": [
    "If you want to avoid threads in your AsyncMachine entirely, you can replace the Timeout state feature with AsyncTimeout from the asyncio extension:"
   ]
  },
  {
   "cell_type": "code",
   "execution_count": null,
   "metadata": {},
   "outputs": [],
   "source": [
    "import asyncio\n",
    "from transitions.extensions.states import add_state_features\n",
    "from transitions.extensions.asyncio import AsyncTimeout, AsyncMachine\n",
    "\n",
    "@add_state_features(AsyncTimeout)\n",
    "class TimeoutMachine(AsyncMachine):\n",
    "    pass\n",
    "\n",
    "states = ['A', {'name': 'B', 'timeout': 0.2, 'on_timeout': 'to_C'}, 'C']\n",
    "m = TimeoutMachine(states=states, initial='A', queued=True)  # see remark below\n",
    "asyncio.run(asyncio.wait([m.to_B(), asyncio.sleep(0.1)]))\n",
    "assert m.is_B()  # timeout shouldn't be triggered\n",
    "asyncio.run(asyncio.wait([m.to_B(), asyncio.sleep(0.3)]))\n",
    "assert m.is_C()   # now timeout should have been processed"
   ]
  },
  {
   "cell_type": "markdown",
   "metadata": {},
   "source": [
    "You should consider passing `queued=True` to the `TimeoutMachine` constructor. This will make sure that events are processed sequentially and avoid asynchronous racing conditions that may appear when timeout and event happen in close proximity."
   ]
  },
  {
   "cell_type": "markdown",
   "metadata": {},
   "source": [
    "## Using transitions together with Django\n",
    "\n",
    "You can have a look at the FAQ for some inspiration or checkout django-transitions. It has been developed by Christian Ledermann and is also hosted on Github. The documentation contains some usage examples."
   ]
  },
  {
   "cell_type": "markdown",
   "metadata": {},
   "source": [
    "### I have a [bug report/issue/question]...\n",
    "\n",
    "First, congratulations! You reached the end of the documentation! If you want to try out transitions before you install it, you can do that in an interactive Jupyter notebook at mybinder.org. Just click this button 👉 Binder.\n",
    "\n",
    "For bug reports and other issues, please open an issue on GitHub.\n",
    "\n",
    "For usage questions, post on Stack Overflow, making sure to tag your question with the transitions and python tags. Do not forget to have a look at the extended examples!\n",
    "\n",
    "For any other questions, solicitations, or large unrestricted monetary gifts, email Tal Yarkoni."
   ]
  }
 ],
 "metadata": {
  "kernelspec": {
   "display_name": "Python 3",
   "language": "python",
   "name": "python3"
  },
  "language_info": {
   "codemirror_mode": {
    "name": "ipython",
    "version": 3
   },
   "file_extension": ".py",
   "mimetype": "text/x-python",
   "name": "python",
   "nbconvert_exporter": "python",
   "pygments_lexer": "ipython3",
   "version": "3.7.6"
  }
 },
 "nbformat": 4,
 "nbformat_minor": 4
}
